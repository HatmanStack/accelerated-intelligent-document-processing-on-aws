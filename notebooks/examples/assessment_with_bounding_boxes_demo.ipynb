{
  "cells": [
    {
      "cell_type": "markdown",
      "metadata": {},
      "source": [
        "# Assessment with Bounding Boxes Demo\n",
        "\n",
        "This notebook demonstrates how to use the new bounding box functionality in the IDP Assessment Service.\n",
        "\n",
        "## Overview\n",
        "\n",
        "The Assessment Service now supports optional bounding box extraction that can:\n",
        "- Provide spatial localization of extracted fields\n",
        "- Output UI-compatible geometry format\n",
        "- Maintain full backward compatibility when disabled\n"
      ]
    },
    {
      "cell_type": "code",
      "execution_count": null,
      "metadata": {},
      "outputs": [],
      "source": [
        "# Import required libraries\n",
        "import yaml\n",
        "from idp_common.assessment.service import AssessmentService\n",
        "from idp_common.models import Document, Section, Page\n",
        "import json"
      ]
    },
    {
      "cell_type": "markdown",
      "metadata": {},
      "source": [
        "## Configuration Setup\n",
        "\n",
        "First, let's set up the configuration with bounding boxes enabled:"
      ]
    },
    {
      "cell_type": "code",
      "execution_count": null,
      "metadata": {},
      "outputs": [],
      "source": [
        "# Load configuration with bounding boxes enabled\n",
        "with open('config/assessment_with_bounding_boxes.yaml', 'r') as f:\n",
        "    config = yaml.safe_load(f)\n",
        "\n",
        "print(\"Configuration loaded:\")\n",
        "print(f\"Bounding boxes enabled: {config['assessment']['bounding_boxes']['enabled']}\")\n",
        "print(f\"Model: {config['assessment']['model']}\")"
      ]
    },
    {
      "cell_type": "markdown",
      "metadata": {},
      "source": [
        "## Service Initialization\n",
        "\n",
        "Initialize the Assessment Service with bounding box support:"
      ]
    },
    {
      "cell_type": "code",
      "execution_count": null,
      "metadata": {},
      "outputs": [],
      "source": [
        "# Initialize the assessment service\n",
        "assessment_service = AssessmentService(config=config)\n",
        "\n",
        "# Check if bounding boxes are enabled\n",
        "bbox_enabled = assessment_service._is_bounding_box_enabled()\n",
        "print(f\"Bounding box extraction is {'enabled' if bbox_enabled else 'disabled'}\")"
      ]
    },
    {
      "cell_type": "markdown",
      "metadata": {},
      "source": [
        "## Coordinate Conversion Demo\n",
        "\n",
        "Demonstrate how bounding box coordinates are converted to geometry format:"
      ]
    },
    {
      "cell_type": "code",
      "execution_count": null,
      "metadata": {},
      "outputs": [],
      "source": [
        "# Example: Convert bounding box coordinates to geometry format\n",
        "example_bbox = [100, 200, 300, 400]  # [x1, y1, x2, y2] in 0-1000 scale\n",
        "page_number = 1\n",
        "\n",
        "geometry = assessment_service._convert_bbox_to_geometry(example_bbox, page_number)\n",
        "\n",
        "print(\"Input coordinates:\", example_bbox)\n",
        "print(\"Converted geometry:\")\n",
        "print(json.dumps(geometry, indent=2))\n",
        "\n",
        "# Show the conversion calculations\n",
        "print(\"\\nConversion details:\")\n",
        "print(f\"left = {example_bbox[0]}/1000 = {example_bbox[0]/1000}\")\n",
        "print(f\"top = {example_bbox[1]}/1000 = {example_bbox[1]/1000}\")\n",
        "print(f\"width = ({example_bbox[2]}-{example_bbox[0]})/1000 = {(example_bbox[2]-example_bbox[0])/1000}\")\n",
        "print(f\"height = ({example_bbox[3]}-{example_bbox[1]})/1000 = {(example_bbox[3]-example_bbox[1])/1000}\")"
      ]
    },
    {
      "cell_type": "markdown",
      "metadata": {},
      "source": [
        "## Assessment Response Processing Demo\n",
        "\n",
        "Show how LLM responses with bounding box data are processed:"
      ]
    },
    {
      "cell_type": "code",
      "execution_count": null,
      "metadata": {},
      "outputs": [],
      "source": [
        "# Example LLM response with bounding box data\n",
        "mock_llm_response = {\n",
        "    \"account_number\": {\n",
        "        \"confidence\": 0.95,\n",
        "        \"confidence_reason\": \"Clear text with high OCR confidence\",\n",
        "        \"bbox\": [150, 250, 350, 300],\n",
        "        \"page\": 1\n",
        "    },\n",
        "    \"account_balance\": {\n",
        "        \"confidence\": 0.88,\n",
        "        \"confidence_reason\": \"Good text quality, minor formatting\",\n",
        "        \"bbox\": [400, 500, 600, 550],\n",
        "        \"page\": 1\n",
        "    },\n",
        "    \"customer_name\": {\n",
        "        \"confidence\": 0.92,\n",
        "        \"confidence_reason\": \"Clear name with good spacing\"\n",
        "        # No bbox data - will be passed through unchanged\n",
        "    }\n",
        "}\n",
        "\n",
        "print(\"Original LLM response:\")\n",
        "print(json.dumps(mock_llm_response, indent=2))\n",
        "\n",
        "# Process the response to extract geometry\n",
        "processed_response = assessment_service._extract_geometry_from_assessment(mock_llm_response)\n",
        "\n",
        "print(\"\\nProcessed response with geometry:\")\n",
        "print(json.dumps(processed_response, indent=2))"
      ]
    },
    {
      "cell_type": "markdown",
      "metadata": {},
      "source": [
        "## Error Handling Demo\n",
        "\n",
        "Demonstrate how the service handles various error conditions:"
      ]
    },
    {
      "cell_type": "code",
      "execution_count": null,
      "metadata": {},
      "outputs": [],
      "source": [
        "# Test various error conditions\n",
        "error_test_cases = {\n",
        "    \"invalid_bbox_format\": {\n",
        "        \"field1\": {\n",
        "            \"confidence\": 0.9,\n",
        "            \"confidence_reason\": \"Good quality\",\n",
        "            \"bbox\": \"invalid_format\",  # Should be list of 4 numbers\n",
        "            \"page\": 1\n",
        "        }\n",
        "    },\n",
        "    \"missing_page\": {\n",
        "        \"field2\": {\n",
        "            \"confidence\": 0.85,\n",
        "            \"confidence_reason\": \"Decent quality\",\n",
        "            \"bbox\": [100, 200, 300, 400]\n",
        "            # Missing page number\n",
        "        }\n",
        "    },\n",
        "    \"reversed_coordinates\": {\n",
        "        \"field3\": {\n",
        "            \"confidence\": 0.8,\n",
        "            \"confidence_reason\": \"Acceptable quality\",\n",
        "            \"bbox\": [300, 400, 100, 200],  # x2 < x1, y2 < y1 - should be corrected\n",
        "            \"page\": 1\n",
        "        }\n",
        "    }\n",
        "}\n",
        "\n",
        "for test_name, test_data in error_test_cases.items():\n",
        "    print(f\"\\n=== Testing: {test_name} ===\")\n",
        "    print(\"Input:\", json.dumps(test_data, indent=2))\n",
        "    \n",
        "    result = assessment_service._extract_geometry_from_assessment(test_data)\n",
        "    print(\"Result:\", json.dumps(result, indent=2))"
      ]
    },
    {
      "cell_type": "markdown",
      "metadata": {},
      "source": [
        "## Configuration Comparison\n",
        "\n",
        "Compare behavior with bounding boxes enabled vs disabled:"
      ]
    },
    {
      "cell_type": "code",
      "execution_count": null,
      "metadata": {},
      "outputs": [],
      "source": [
        "# Create two configurations: one with bounding boxes enabled, one disabled\n",
        "config_enabled = {\n",
        "    \"assessment\": {\n",
        "        \"bounding_boxes\": {\"enabled\": True}\n",
        "    }\n",
        "}\n",
        "\n",
        "config_disabled = {\n",
        "    \"assessment\": {\n",
        "        \"bounding_boxes\": {\"enabled\": False}\n",
        "    }\n",
        "}\n",
        "\n",
        "# Test both configurations\n",
        "service_enabled = AssessmentService(config=config_enabled)\n",
        "service_disabled = AssessmentService(config=config_disabled)\n",
        "\n",
        "print(\"Service with bounding boxes enabled:\", service_enabled._is_bounding_box_enabled())\n",
        "print(\"Service with bounding boxes disabled:\", service_disabled._is_bounding_box_enabled())\n",
        "\n",
        "# Test response processing with both services\n",
        "test_response = {\n",
        "    \"test_field\": {\n",
        "        \"confidence\": 0.9,\n",
        "        \"confidence_reason\": \"Test data\",\n",
        "        \"bbox\": [100, 100, 200, 200],\n",
        "        \"page\": 1\n",
        "    }\n",
        "}\n",
        "\n",
        "print(\"\\nWith bounding boxes ENABLED:\")\n",
        "result_enabled = service_enabled._extract_geometry_from_assessment(test_response)\n",
        "has_geometry = \"geometry\" in result_enabled.get(\"test_field\", {})\n",
        "print(f\"Geometry generated: {has_geometry}\")\n",
        "\n",
        "print(\"\\nWith bounding boxes DISABLED:\")\n",
        "result_disabled = service_disabled._extract_geometry_from_assessment(test_response)\n",
        "has_geometry = \"geometry\" in result_disabled.get(\"test_field\", {})\n",
        "print(f\"Geometry generated: {has_geometry}\")"
      ]
    },
    {
      "cell_type": "markdown",
      "metadata": {},
      "source": [
        "## Summary\n",
        "\n",
        "This demo showed:\n",
        "\n",
        "1. **Configuration**: How to enable bounding box extraction\n",
        "2. **Coordinate Conversion**: How bbox coordinates are converted to UI-compatible geometry format\n",
        "3. **Response Processing**: How LLM responses with bounding box data are processed\n",
        "4. **Error Handling**: How various error conditions are handled gracefully\n",
        "5. **Backward Compatibility**: How the feature can be disabled with no impact\n",
        "\n",
        "The bounding box integration provides powerful spatial localization capabilities while maintaining full compatibility with existing workflows."
      ]
    }
  ],
  "metadata": {
    "kernelspec": {
      "display_name": "Python 3",
      "language": "python",
      "name": "python3"
    },
    "language_info": {
      "codemirror_mode": {
        "name": "ipython",
        "version": 3
      },
      "file_extension": ".py",
      "mimetype": "text/x-python",
      "name": "python",
      "nbconvert_exporter": "python",
      "pygments_lexer": "ipython3",
      "version": "3.8.5"
    }
  },
  "nbformat": 4,
  "nbformat_minor": 4
}
