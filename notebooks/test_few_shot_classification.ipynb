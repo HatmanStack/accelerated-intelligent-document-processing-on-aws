{
 "cells": [
  {
   "cell_type": "markdown",
   "metadata": {},
   "source": [
    "# Test Few-Shot Classification Implementation\n",
    "\n",
    "This notebook tests the new `{FEW_SHOT_EXAMPLES}` placeholder functionality in the Classification service."
   ]
  },
  {
   "cell_type": "code",
   "execution_count": 1,
   "metadata": {},
   "outputs": [],
   "source": [
    "import sys\n",
    "import os\n",
    "import yaml\n",
    "import json\n",
    "from pathlib import Path\n",
    "\n",
    "# Set ROOT_DIR for local file access from notebook directory\n",
    "os.environ['ROOT_DIR'] = '../'\n",
    "\n",
    "# Add the idp_common package to the path\n",
    "sys.path.insert(0, '../lib/idp_common_pkg')\n",
    "\n",
    "from idp_common.classification.service import ClassificationService\n",
    "from idp_common.classification.models import PageClassification, DocumentClassification"
   ]
  },
  {
   "cell_type": "markdown",
   "metadata": {},
   "source": [
    "## Load the Few-Shot Configuration"
   ]
  },
  {
   "cell_type": "code",
   "execution_count": 2,
   "metadata": {},
   "outputs": [
    {
     "name": "stdout",
     "output_type": "stream",
     "text": [
      "Configuration loaded successfully!\n",
      "Number of classes: 11\n",
      "Classification method: multimodalPageLevelClassification\n"
     ]
    }
   ],
   "source": [
    "# Load the few-shot configuration\n",
    "config_path = '../config_library/pattern-2/few_shot_example/config.yaml'\n",
    "with open(config_path, 'r') as f:\n",
    "    config = yaml.safe_load(f)\n",
    "\n",
    "print(\"Configuration loaded successfully!\")\n",
    "print(f\"Number of classes: {len(config.get('classes', []))}\")\n",
    "print(f\"Classification method: {config.get('classification', {}).get('classificationMethod')}\")"
   ]
  },
  {
   "cell_type": "markdown",
   "metadata": {},
   "source": [
    "## Examine the Task Prompt Template"
   ]
  },
  {
   "cell_type": "code",
   "execution_count": 3,
   "metadata": {},
   "outputs": [
    {
     "name": "stdout",
     "output_type": "stream",
     "text": [
      "Task prompt template:\n",
      "==================================================\n",
      "Classify this document into exactly one of these categories:\n",
      "\n",
      "{CLASS_NAMES_AND_DESCRIPTIONS}\n",
      "\n",
      "Respond only with a JSON object containing the class label. For example: {{\"class\": \"letter\"}}\n",
      "<few_shot_examples>\n",
      "{FEW_SHOT_EXAMPLES}\n",
      "</few_shot_examples>\n",
      "<<CACHEPOINT>>\n",
      "<document_ocr_data>\n",
      "{DOCUMENT_TEXT}\n",
      "</document_ocr_data>\n",
      "==================================================\n",
      "\n",
      "Contains {FEW_SHOT_EXAMPLES} placeholder: True\n"
     ]
    }
   ],
   "source": [
    "# Look at the task prompt to see the FEW_SHOT_EXAMPLES placeholder\n",
    "task_prompt = config['classification']['task_prompt']\n",
    "print(\"Task prompt template:\")\n",
    "print(\"=\" * 50)\n",
    "print(task_prompt)\n",
    "print(\"=\" * 50)\n",
    "\n",
    "# Check if it contains the placeholder\n",
    "has_placeholder = \"{FEW_SHOT_EXAMPLES}\" in task_prompt\n",
    "print(f\"\\nContains {{FEW_SHOT_EXAMPLES}} placeholder: {has_placeholder}\")"
   ]
  },
  {
   "cell_type": "markdown",
   "metadata": {},
   "source": [
    "## Initialize Classification Service"
   ]
  },
  {
   "cell_type": "code",
   "execution_count": 4,
   "metadata": {},
   "outputs": [
    {
     "name": "stdout",
     "output_type": "stream",
     "text": [
      "Classification service initialized successfully!\n"
     ]
    }
   ],
   "source": [
    "# Initialize the classification service with the few-shot config\n",
    "try:\n",
    "    service = ClassificationService(\n",
    "        config=config,\n",
    "        backend=\"bedrock\",\n",
    "        region=\"us-east-1\"  # You may need to adjust this\n",
    "    )\n",
    "    print(\"Classification service initialized successfully!\")\n",
    "except Exception as e:\n",
    "    print(f\"Error initializing service: {e}\")\n",
    "    print(\"Note: This is expected if AWS credentials are not configured for Bedrock\")"
   ]
  },
  {
   "cell_type": "markdown",
   "metadata": {},
   "source": [
    "## Examine Class Examples Structure"
   ]
  },
  {
   "cell_type": "code",
   "execution_count": 5,
   "metadata": {},
   "outputs": [
    {
     "name": "stdout",
     "output_type": "stream",
     "text": [
      "Examples found in configuration:\n",
      "==================================================\n",
      "\n",
      "Class: letter\n",
      "Number of examples: 3\n",
      "  Example 1:\n",
      "    Name: Letter1\n",
      "    Class Prompt: This is an example of the class 'letter'\n",
      "    Image Path: config_library/pattern-2/few_shot_example/example-images/letter1.jpg\n",
      "    ROOT_DIR path: ../config_library/pattern-2/few_shot_example/example-images/letter1.jpg\n",
      "    Image exists: True\n",
      "    Image size: 106629 bytes\n",
      "  Example 2:\n",
      "    Name: Letter2\n",
      "    Class Prompt: This is an example of the class 'letter'\n",
      "    Image Path: config_library/pattern-2/few_shot_example/example-images/letter2.jpg\n",
      "    ROOT_DIR path: ../config_library/pattern-2/few_shot_example/example-images/letter2.jpg\n",
      "    Image exists: False\n",
      "  Example 3:\n",
      "    Name: Email1\n",
      "    Class Prompt: This is an example of the class 'email'\n",
      "    Image Path: config_library/pattern-2/few_shot_example/example-images/email1.jpg\n",
      "    ROOT_DIR path: ../config_library/pattern-2/few_shot_example/example-images/email1.jpg\n",
      "    Image exists: True\n",
      "    Image size: 49648 bytes\n",
      "\n",
      "Class: form\n",
      "Number of examples: 0\n",
      "\n",
      "Class: invoice\n",
      "Number of examples: 0\n",
      "\n",
      "Class: resume\n",
      "Number of examples: 0\n",
      "\n",
      "Class: scientific_publication\n",
      "Number of examples: 0\n",
      "\n",
      "Class: memo\n",
      "Number of examples: 0\n",
      "\n",
      "Class: advertisement\n",
      "Number of examples: 0\n",
      "\n",
      "Class: email\n",
      "Number of examples: 0\n",
      "\n",
      "Class: questionnaire\n",
      "Number of examples: 0\n",
      "\n",
      "Class: specification\n",
      "Number of examples: 0\n",
      "\n",
      "Class: generic\n",
      "Number of examples: 0\n",
      "\n",
      "Total examples across all classes: 3\n",
      "\n",
      "Environment variables:\n",
      "  ROOT_DIR: ../\n",
      "  CONFIGURATION_BUCKET: Not set\n"
     ]
    }
   ],
   "source": [
    "# Let's examine the examples in the configuration\n",
    "print(\"Examples found in configuration:\")\n",
    "print(\"=\" * 50)\n",
    "\n",
    "classes = config.get('classes', [])\n",
    "total_examples = 0\n",
    "\n",
    "for class_obj in classes:\n",
    "    class_name = class_obj.get('name', 'Unknown')\n",
    "    examples = class_obj.get('examples', [])\n",
    "    \n",
    "    print(f\"\\nClass: {class_name}\")\n",
    "    print(f\"Number of examples: {len(examples)}\")\n",
    "    \n",
    "    for i, example in enumerate(examples):\n",
    "        print(f\"  Example {i+1}:\")\n",
    "        print(f\"    Name: {example.get('name', 'N/A')}\")\n",
    "        print(f\"    Class Prompt: {example.get('classPrompt', 'N/A')}\")\n",
    "        print(f\"    Image Path: {example.get('imagePath', 'N/A')}\")\n",
    "        \n",
    "        # Check if image file exists (test the path resolution logic)\n",
    "        image_path = example.get('imagePath')\n",
    "        if image_path:\n",
    "            if image_path.startswith('s3://'):\n",
    "                print(f\"    S3 URI: {image_path}\")\n",
    "            else:\n",
    "                # Check environment variables for path resolution\n",
    "                config_bucket = os.environ.get('CONFIGURATION_BUCKET')\n",
    "                root_dir = os.environ.get('ROOT_DIR')\n",
    "                \n",
    "                if config_bucket:\n",
    "                    s3_uri = f\"s3://{config_bucket}/{image_path}\"\n",
    "                    print(f\"    Would use S3: {s3_uri}\")\n",
    "                elif root_dir:\n",
    "                    # Use ROOT_DIR\n",
    "                    full_path = os.path.join(root_dir, image_path)\n",
    "                    full_path = os.path.normpath(full_path)\n",
    "                    exists = os.path.exists(full_path)\n",
    "                    print(f\"    ROOT_DIR path: {full_path}\")\n",
    "                    print(f\"    Image exists: {exists}\")\n",
    "                    if exists:\n",
    "                        size = os.path.getsize(full_path)\n",
    "                        print(f\"    Image size: {size} bytes\")\n",
    "                else:\n",
    "                    # Fall back to calculated path\n",
    "                    full_path = os.path.join('..', image_path)\n",
    "                    full_path = os.path.normpath(full_path)\n",
    "                    exists = os.path.exists(full_path)\n",
    "                    print(f\"    Calculated path: {full_path}\")\n",
    "                    print(f\"    Image exists: {exists}\")\n",
    "                    if exists:\n",
    "                        size = os.path.getsize(full_path)\n",
    "                        print(f\"    Image size: {size} bytes\")\n",
    "        \n",
    "        total_examples += 1\n",
    "\n",
    "print(f\"\\nTotal examples across all classes: {total_examples}\")\n",
    "print(f\"\\nEnvironment variables:\")\n",
    "print(f\"  ROOT_DIR: {os.environ.get('ROOT_DIR', 'Not set')}\")\n",
    "print(f\"  CONFIGURATION_BUCKET: {os.environ.get('CONFIGURATION_BUCKET', 'Not set')}\")"
   ]
  },
  {
   "cell_type": "markdown",
   "metadata": {},
   "source": [
    "## Test Few-Shot Examples Content Building"
   ]
  },
  {
   "cell_type": "code",
   "execution_count": 6,
   "metadata": {},
   "outputs": [
    {
     "name": "stderr",
     "output_type": "stream",
     "text": [
      "Failed to load example image from config_library/pattern-2/few_shot_example/example-images/letter2.jpg: [Errno 2] No such file or directory: '../config_library/pattern-2/few_shot_example/example-images/letter2.jpg'\n"
     ]
    },
    {
     "name": "stdout",
     "output_type": "stream",
     "text": [
      "Testing _build_few_shot_examples_content method...\n",
      "Generated 5 content items from examples\n",
      "\n",
      "Content items:\n",
      "\n",
      "Item 1:\n",
      "  Type: text\n",
      "  Content: This is an example of the class 'letter'\n",
      "\n",
      "Item 2:\n",
      "  Type: image\n",
      "  Format: jpeg\n",
      "  Size: 106629 bytes\n",
      "\n",
      "Item 3:\n",
      "  Type: text\n",
      "  Content: This is an example of the class 'letter'\n",
      "\n",
      "Item 4:\n",
      "  Type: text\n",
      "  Content: This is an example of the class 'email'\n",
      "\n",
      "Item 5:\n",
      "  Type: image\n",
      "  Format: jpeg\n",
      "  Size: 49648 bytes\n"
     ]
    }
   ],
   "source": [
    "# Test the few-shot examples content building\n",
    "print(\"Testing _build_few_shot_examples_content method...\")\n",
    "\n",
    "try:\n",
    "    # Get the few-shot examples content\n",
    "    examples_content = service._build_few_shot_examples_content()\n",
    "    \n",
    "    print(f\"Generated {len(examples_content)} content items from examples\")\n",
    "    print(\"\\nContent items:\")\n",
    "    \n",
    "    for i, item in enumerate(examples_content):\n",
    "        print(f\"\\nItem {i+1}:\")\n",
    "        if 'text' in item:\n",
    "            print(f\"  Type: text\")\n",
    "            print(f\"  Content: {item['text'][:100]}{'...' if len(item['text']) > 100 else ''}\")\n",
    "        elif 'image' in item:\n",
    "            print(f\"  Type: image\")\n",
    "            print(f\"  Format: {item['image'].get('format', 'unknown')}\")\n",
    "            if 'source' in item['image'] and 'bytes' in item['image']['source']:\n",
    "                print(f\"  Size: {len(item['image']['source']['bytes'])} bytes\")\n",
    "        else:\n",
    "            print(f\"  Type: unknown\")\n",
    "            print(f\"  Keys: {list(item.keys())}\")\n",
    "            \n",
    "except Exception as e:\n",
    "    print(f\"Error building few-shot examples: {e}\")\n",
    "    print(\"This might be due to missing image files or path issues\")"
   ]
  },
  {
   "cell_type": "markdown",
   "metadata": {},
   "source": [
    "## Test Complete Content Building with Examples"
   ]
  },
  {
   "cell_type": "code",
   "execution_count": 7,
   "metadata": {},
   "outputs": [
    {
     "name": "stderr",
     "output_type": "stream",
     "text": [
      "Failed to load example image from config_library/pattern-2/few_shot_example/example-images/letter2.jpg: [Errno 2] No such file or directory: '../config_library/pattern-2/few_shot_example/example-images/letter2.jpg'\n"
     ]
    },
    {
     "name": "stdout",
     "output_type": "stream",
     "text": [
      "Testing _build_content_with_few_shot_examples method...\n",
      "Generated content array with 7 items\n",
      "\n",
      "Content structure:\n",
      "\n",
      "Item 1:\n",
      "  Type: text\n",
      "  Preview: Classify this document into exactly one of these categories:\\n\\nletter  \t[ A formal written correspondence with sender/recipient addresses, date, salutation, body, and closing signature ]\\nform  \t[ A str...\n",
      "\n",
      "Item 2:\n",
      "  Type: text\n",
      "  Preview: This is an example of the class 'letter'\n",
      "\n",
      "Item 3:\n",
      "  Type: image\n",
      "  Format: jpeg\n",
      "  Size: 106629 bytes\n",
      "\n",
      "Item 4:\n",
      "  Type: text\n",
      "  Preview: This is an example of the class 'letter'\n",
      "\n",
      "Item 5:\n",
      "  Type: text\n",
      "  Preview: This is an example of the class 'email'\n",
      "\n",
      "Item 6:\n",
      "  Type: image\n",
      "  Format: jpeg\n",
      "  Size: 49648 bytes\n",
      "\n",
      "Item 7:\n",
      "  Type: text\n",
      "  Preview: \\n</few_shot_examples>\\n<<CACHEPOINT>>\\n<document_ocr_data>\\nThis is a sample document for testing classification.\\n</document_ocr_data>\n"
     ]
    }
   ],
   "source": [
    "# Test the complete content building with few-shot examples\n",
    "print(\"Testing _build_content_with_few_shot_examples method...\")\n",
    "\n",
    "# Sample document text for testing\n",
    "sample_document_text = \"This is a sample document for testing classification.\"\n",
    "\n",
    "try:\n",
    "    # Get classification config\n",
    "    classification_config = service._get_classification_config()\n",
    "    task_prompt_template = classification_config['task_prompt']\n",
    "    \n",
    "    # Build content with few-shot examples\n",
    "    content = service._build_content_with_few_shot_examples(\n",
    "        task_prompt_template=task_prompt_template,\n",
    "        document_text=sample_document_text,\n",
    "        class_names_and_descriptions=service._format_classes_list()\n",
    "    )\n",
    "    \n",
    "    print(f\"Generated content array with {len(content)} items\")\n",
    "    print(\"\\nContent structure:\")\n",
    "    \n",
    "    for i, item in enumerate(content):\n",
    "        print(f\"\\nItem {i+1}:\")\n",
    "        if 'text' in item:\n",
    "            print(f\"  Type: text\")\n",
    "            text_preview = item['text'][:200].replace('\\n', '\\\\n')\n",
    "            print(f\"  Preview: {text_preview}{'...' if len(item['text']) > 200 else ''}\")\n",
    "        elif 'image' in item:\n",
    "            print(f\"  Type: image\")\n",
    "            print(f\"  Format: {item['image'].get('format', 'unknown')}\")\n",
    "            if 'source' in item['image'] and 'bytes' in item['image']['source']:\n",
    "                print(f\"  Size: {len(item['image']['source']['bytes'])} bytes\")\n",
    "        else:\n",
    "            print(f\"  Type: unknown\")\n",
    "            print(f\"  Keys: {list(item.keys())}\")\n",
    "            \n",
    "except Exception as e:\n",
    "    print(f\"Error building content with few-shot examples: {e}\")\n",
    "    import traceback\n",
    "    traceback.print_exc()"
   ]
  },
  {
   "cell_type": "markdown",
   "metadata": {},
   "source": [
    "## Test Path Resolution Logic"
   ]
  },
  {
   "cell_type": "code",
   "execution_count": 8,
   "metadata": {},
   "outputs": [
    {
     "name": "stderr",
     "output_type": "stream",
     "text": [
      "Failed to load example image from config_library/pattern-2/few_shot_example/example-images/letter2.jpg: [Errno 2] No such file or directory: '../config_library/pattern-2/few_shot_example/example-images/letter2.jpg'\n",
      "Failed to load example image from config_library/pattern-2/few_shot_example/example-images/letter2.jpg: [Errno 2] No such file or directory: '/home/ec2-user/projects/genaiic-idp-accelerator/config_library/pattern-2/few_shot_example/example-images/letter2.jpg'\n"
     ]
    },
    {
     "name": "stdout",
     "output_type": "stream",
     "text": [
      "Testing image path resolution logic:\n",
      "==================================================\n",
      "Current ROOT_DIR: ../\n",
      "Current CONFIGURATION_BUCKET: Not set\n",
      "\n",
      "1. WITH ROOT_DIR environment variable (current setup):\n",
      "--------------------------------------------------\n",
      "Successfully built 5 content items using ROOT_DIR\n",
      "Loaded 2 image items from local files\n",
      "\n",
      "2. WITHOUT ROOT_DIR (using calculated path):\n",
      "--------------------------------------------------\n",
      "Successfully built 5 content items using calculated path\n",
      "Loaded 2 image items from local files\n",
      "\n",
      "3. WITH CONFIGURATION_BUCKET environment variable:\n",
      "--------------------------------------------------\n",
      "CONFIGURATION_BUCKET set to: test-config-bucket\n",
      "Note: This would attempt to load images from S3, which may fail without proper setup\n"
     ]
    },
    {
     "name": "stderr",
     "output_type": "stream",
     "text": [
      "Error reading binary content from s3://test-config-bucket/config_library/pattern-2/few_shot_example/example-images/letter1.jpg: An error occurred (AccessDenied) when calling the GetObject operation: Access Denied\n",
      "Failed to load example image from config_library/pattern-2/few_shot_example/example-images/letter1.jpg: An error occurred (AccessDenied) when calling the GetObject operation: Access Denied\n",
      "Error reading binary content from s3://test-config-bucket/config_library/pattern-2/few_shot_example/example-images/letter2.jpg: An error occurred (AccessDenied) when calling the GetObject operation: Access Denied\n",
      "Failed to load example image from config_library/pattern-2/few_shot_example/example-images/letter2.jpg: An error occurred (AccessDenied) when calling the GetObject operation: Access Denied\n",
      "Error reading binary content from s3://test-config-bucket/config_library/pattern-2/few_shot_example/example-images/email1.jpg: An error occurred (AccessDenied) when calling the GetObject operation: Access Denied\n",
      "Failed to load example image from config_library/pattern-2/few_shot_example/example-images/email1.jpg: An error occurred (AccessDenied) when calling the GetObject operation: Access Denied\n"
     ]
    },
    {
     "name": "stdout",
     "output_type": "stream",
     "text": [
      "Successfully built 3 content items using S3\n"
     ]
    }
   ],
   "source": [
    "# Test path resolution with different environment variables\n",
    "print(\"Testing image path resolution logic:\")\n",
    "print(\"=\" * 50)\n",
    "\n",
    "# Save original environment state\n",
    "original_bucket = os.environ.get('CONFIGURATION_BUCKET')\n",
    "original_root_dir = os.environ.get('ROOT_DIR')\n",
    "\n",
    "print(f\"Current ROOT_DIR: {os.environ.get('ROOT_DIR', 'Not set')}\")\n",
    "print(f\"Current CONFIGURATION_BUCKET: {os.environ.get('CONFIGURATION_BUCKET', 'Not set')}\")\n",
    "\n",
    "# Test 1: With ROOT_DIR (current setup)\n",
    "print(\"\\n1. WITH ROOT_DIR environment variable (current setup):\")\n",
    "print(\"-\" * 50)\n",
    "\n",
    "try:\n",
    "    examples_content = service._build_few_shot_examples_content()\n",
    "    print(f\"Successfully built {len(examples_content)} content items using ROOT_DIR\")\n",
    "    \n",
    "    # Count successful image loads\n",
    "    image_items = [item for item in examples_content if 'image' in item]\n",
    "    print(f\"Loaded {len(image_items)} image items from local files\")\n",
    "    \n",
    "except Exception as e:\n",
    "    print(f\"Error building examples with ROOT_DIR: {e}\")\n",
    "\n",
    "# Test 2: Without ROOT_DIR but with calculated path\n",
    "print(\"\\n2. WITHOUT ROOT_DIR (using calculated path):\")\n",
    "print(\"-\" * 50)\n",
    "\n",
    "if 'ROOT_DIR' in os.environ:\n",
    "    del os.environ['ROOT_DIR']\n",
    "\n",
    "try:\n",
    "    # Create a new service instance without ROOT_DIR\n",
    "    test_service = ClassificationService(\n",
    "        config=config,\n",
    "        backend=\"bedrock\",\n",
    "        region=\"us-east-1\"\n",
    "    )\n",
    "    \n",
    "    examples_content = test_service._build_few_shot_examples_content()\n",
    "    print(f\"Successfully built {len(examples_content)} content items using calculated path\")\n",
    "    \n",
    "    # Count successful image loads\n",
    "    image_items = [item for item in examples_content if 'image' in item]\n",
    "    print(f\"Loaded {len(image_items)} image items from local files\")\n",
    "    \n",
    "except Exception as e:\n",
    "    print(f\"Error building examples without ROOT_DIR: {e}\")\n",
    "\n",
    "# Test 3: With CONFIGURATION_BUCKET\n",
    "print(\"\\n3. WITH CONFIGURATION_BUCKET environment variable:\")\n",
    "print(\"-\" * 50)\n",
    "\n",
    "# Set a test bucket name\n",
    "os.environ['CONFIGURATION_BUCKET'] = 'test-config-bucket'\n",
    "\n",
    "try:\n",
    "    test_service = ClassificationService(\n",
    "        config=config,\n",
    "        backend=\"bedrock\",\n",
    "        region=\"us-east-1\"\n",
    "    )\n",
    "    \n",
    "    print(f\"CONFIGURATION_BUCKET set to: {os.environ.get('CONFIGURATION_BUCKET')}\")\n",
    "    print(\"Note: This would attempt to load images from S3, which may fail without proper setup\")\n",
    "    \n",
    "    # This will likely fail since the S3 bucket doesn't exist, but it shows the logic\n",
    "    try:\n",
    "        examples_content = test_service._build_few_shot_examples_content()\n",
    "        print(f\"Successfully built {len(examples_content)} content items using S3\")\n",
    "    except Exception as e:\n",
    "        print(f\"Expected error when trying to access S3: {e}\")\n",
    "        print(\"This is normal - the logic correctly tries to use S3 when CONFIGURATION_BUCKET is set\")\n",
    "\n",
    "except Exception as e:\n",
    "    print(f\"Error with CONFIGURATION_BUCKET test: {e}\")\n",
    "\n",
    "# Restore original environment\n",
    "if original_bucket is not None:\n",
    "    os.environ['CONFIGURATION_BUCKET'] = original_bucket\n",
    "elif 'CONFIGURATION_BUCKET' in os.environ:\n",
    "    del os.environ['CONFIGURATION_BUCKET']\n",
    "\n",
    "if original_root_dir is not None:\n",
    "    os.environ['ROOT_DIR'] = original_root_dir\n",
    "elif 'ROOT_DIR' in os.environ:\n",
    "    del os.environ['ROOT_DIR']\n",
    "    \n",
    "# Restore ROOT_DIR for notebook usage\n",
    "os.environ['ROOT_DIR'] = '../'"
   ]
  },
  {
   "cell_type": "markdown",
   "metadata": {},
   "source": [
    "## Test Prompt Template Splitting"
   ]
  },
  {
   "cell_type": "code",
   "execution_count": 9,
   "metadata": {},
   "outputs": [
    {
     "name": "stdout",
     "output_type": "stream",
     "text": [
      "Testing prompt template splitting:\n",
      "==================================================\n",
      "Number of parts after split: 2\n",
      "\n",
      "Part 1 (before examples):\n",
      "------------------------------\n",
      "Classify this document into exactly one of these categories:\n",
      "\n",
      "{CLASS_NAMES_AND_DESCRIPTIONS}\n",
      "\n",
      "Respond only with a JSON object containing the class label. For example: {{\"class\": \"letter\"}}\n",
      "<few_shot_examples>\n",
      "\n",
      "\n",
      "Part 2 (after examples):\n",
      "------------------------------\n",
      "\n",
      "</few_shot_examples>\n",
      "<<CACHEPOINT>>\n",
      "<document_ocr_data>\n",
      "{DOCUMENT_TEXT}\n",
      "</document_ocr_data>\n"
     ]
    }
   ],
   "source": [
    "# Test how the prompt template gets split at the FEW_SHOT_EXAMPLES placeholder\n",
    "task_prompt = config['classification']['task_prompt']\n",
    "\n",
    "print(\"Testing prompt template splitting:\")\n",
    "print(\"=\" * 50)\n",
    "\n",
    "parts = task_prompt.split(\"{FEW_SHOT_EXAMPLES}\")\n",
    "print(f\"Number of parts after split: {len(parts)}\")\n",
    "\n",
    "if len(parts) == 2:\n",
    "    print(\"\\nPart 1 (before examples):\")\n",
    "    print(\"-\" * 30)\n",
    "    print(parts[0])\n",
    "    \n",
    "    print(\"\\nPart 2 (after examples):\")\n",
    "    print(\"-\" * 30)\n",
    "    print(parts[1])\n",
    "else:\n",
    "    print(\"Unexpected number of parts - prompt may not contain the placeholder correctly\")"
   ]
  },
  {
   "cell_type": "markdown",
   "metadata": {},
   "source": [
    "## Compare Old vs New Content Structure"
   ]
  },
  {
   "cell_type": "code",
   "execution_count": 10,
   "metadata": {},
   "outputs": [
    {
     "name": "stderr",
     "output_type": "stream",
     "text": [
      "Failed to load example image from config_library/pattern-2/few_shot_example/example-images/letter2.jpg: [Errno 2] No such file or directory: '../config_library/pattern-2/few_shot_example/example-images/letter2.jpg'\n"
     ]
    },
    {
     "name": "stdout",
     "output_type": "stream",
     "text": [
      "Comparing content structures:\n",
      "==================================================\n",
      "OLD APPROACH (single text item):\n",
      "Content items: 1\n",
      "Item 1 type: text\n",
      "Text length: 1683 characters\n",
      "\n",
      "NEW APPROACH (with few-shot examples):\n",
      "Content items: 7\n",
      "Text items: 5\n",
      "Image items: 2\n",
      "Total text length: 1769 characters\n"
     ]
    }
   ],
   "source": [
    "# Compare the old single-text approach vs new multi-content approach\n",
    "print(\"Comparing content structures:\")\n",
    "print(\"=\" * 50)\n",
    "\n",
    "# Sample document text for testing\n",
    "sample_document_text = \"This is a sample document for testing classification.\"\n",
    "\n",
    "# Old approach (without FEW_SHOT_EXAMPLES)\n",
    "old_task_prompt = task_prompt.replace(\"{FEW_SHOT_EXAMPLES}\", \"[Few shot examples would go here]\")\n",
    "old_prepared = service._prepare_prompt_from_template(\n",
    "    old_task_prompt,\n",
    "    {\n",
    "        \"DOCUMENT_TEXT\": sample_document_text,\n",
    "        \"CLASS_NAMES_AND_DESCRIPTIONS\": service._format_classes_list(),\n",
    "    },\n",
    "    required_placeholders=[\"DOCUMENT_TEXT\", \"CLASS_NAMES_AND_DESCRIPTIONS\"]\n",
    ")\n",
    "old_content = [{\"text\": old_prepared}]\n",
    "\n",
    "print(\"OLD APPROACH (single text item):\")\n",
    "print(f\"Content items: {len(old_content)}\")\n",
    "print(f\"Item 1 type: {list(old_content[0].keys())[0]}\")\n",
    "print(f\"Text length: {len(old_content[0]['text'])} characters\")\n",
    "\n",
    "print(\"\\nNEW APPROACH (with few-shot examples):\")\n",
    "try:\n",
    "    new_content = service._build_content_with_few_shot_examples(\n",
    "        task_prompt_template=task_prompt,\n",
    "        document_text=sample_document_text,\n",
    "        class_names_and_descriptions=service._format_classes_list()\n",
    "    )\n",
    "    \n",
    "    print(f\"Content items: {len(new_content)}\")\n",
    "    \n",
    "    text_items = sum(1 for item in new_content if 'text' in item)\n",
    "    image_items = sum(1 for item in new_content if 'image' in item)\n",
    "    \n",
    "    print(f\"Text items: {text_items}\")\n",
    "    print(f\"Image items: {image_items}\")\n",
    "    \n",
    "    total_text_length = sum(len(item['text']) for item in new_content if 'text' in item)\n",
    "    print(f\"Total text length: {total_text_length} characters\")\n",
    "    \n",
    "except Exception as e:\n",
    "    print(f\"Error with new approach: {e}\")"
   ]
  },
  {
   "cell_type": "markdown",
   "metadata": {},
   "source": [
    "## Save Content for Inspection"
   ]
  },
  {
   "cell_type": "code",
   "execution_count": 11,
   "metadata": {},
   "outputs": [
    {
     "name": "stderr",
     "output_type": "stream",
     "text": [
      "Failed to load example image from config_library/pattern-2/few_shot_example/example-images/letter2.jpg: [Errno 2] No such file or directory: '../config_library/pattern-2/few_shot_example/example-images/letter2.jpg'\n"
     ]
    },
    {
     "name": "stdout",
     "output_type": "stream",
     "text": [
      "Content structure saved to few_shot_content_structure.json\n",
      "You can inspect the detailed structure in that file.\n"
     ]
    }
   ],
   "source": [
    "# Save the generated content structure to a JSON file for detailed inspection\n",
    "try:\n",
    "    content = service._build_content_with_few_shot_examples(\n",
    "        task_prompt_template=task_prompt,\n",
    "        document_text=sample_document_text,\n",
    "        class_names_and_descriptions=service._format_classes_list()\n",
    "    )\n",
    "    \n",
    "    # Create a serializable version (remove binary image data for JSON)\n",
    "    serializable_content = []\n",
    "    for item in content:\n",
    "        if 'text' in item:\n",
    "            serializable_content.append({\n",
    "                'type': 'text',\n",
    "                'content': item['text']\n",
    "            })\n",
    "        elif 'image' in item:\n",
    "            serializable_content.append({\n",
    "                'type': 'image',\n",
    "                'format': item['image'].get('format', 'unknown'),\n",
    "                'size_bytes': len(item['image']['source']['bytes']) if 'source' in item['image'] and 'bytes' in item['image']['source'] else 0\n",
    "            })\n",
    "        else:\n",
    "            serializable_content.append({\n",
    "                'type': 'unknown',\n",
    "                'keys': list(item.keys())\n",
    "            })\n",
    "    \n",
    "    # Save to file\n",
    "    output_file = 'few_shot_content_structure.json'\n",
    "    with open(output_file, 'w') as f:\n",
    "        json.dump({\n",
    "            'summary': {\n",
    "                'total_items': len(content),\n",
    "                'text_items': sum(1 for item in content if 'text' in item),\n",
    "                'image_items': sum(1 for item in content if 'image' in item)\n",
    "            },\n",
    "            'content': serializable_content\n",
    "        }, f, indent=2)\n",
    "    \n",
    "    print(f\"Content structure saved to {output_file}\")\n",
    "    print(f\"You can inspect the detailed structure in that file.\")\n",
    "    \n",
    "except Exception as e:\n",
    "    print(f\"Error saving content: {e}\")"
   ]
  },
  {
   "cell_type": "markdown",
   "metadata": {},
   "source": [
    "## Test Edge Cases"
   ]
  },
  {
   "cell_type": "code",
   "execution_count": 12,
   "metadata": {},
   "outputs": [
    {
     "name": "stdout",
     "output_type": "stream",
     "text": [
      "Testing fallback behavior without FEW_SHOT_EXAMPLES placeholder:\n",
      "============================================================\n",
      "Fallback content items: 1\n",
      "Should be 1 (fallback to single text item): True\n",
      "First item type: text\n"
     ]
    }
   ],
   "source": [
    "# Test what happens with a config that doesn't have the FEW_SHOT_EXAMPLES placeholder\n",
    "print(\"Testing fallback behavior without FEW_SHOT_EXAMPLES placeholder:\")\n",
    "print(\"=\" * 60)\n",
    "\n",
    "# Create a modified config without the placeholder\n",
    "modified_config = config.copy()\n",
    "modified_config['classification']['task_prompt'] = task_prompt.replace(\n",
    "    \"{FEW_SHOT_EXAMPLES}\", \n",
    "    \"[Static examples would be here]\"\n",
    ")\n",
    "\n",
    "# Initialize service with modified config\n",
    "try:\n",
    "    fallback_service = ClassificationService(\n",
    "        config=modified_config,\n",
    "        backend=\"bedrock\",\n",
    "        region=\"us-east-1\"\n",
    "    )\n",
    "    \n",
    "    # Test content building\n",
    "    fallback_content = fallback_service._build_content_with_few_shot_examples(\n",
    "        task_prompt_template=modified_config['classification']['task_prompt'],\n",
    "        document_text=sample_document_text,\n",
    "        class_names_and_descriptions=fallback_service._format_classes_list()\n",
    "    )\n",
    "    \n",
    "    print(f\"Fallback content items: {len(fallback_content)}\")\n",
    "    print(f\"Should be 1 (fallback to single text item): {len(fallback_content) == 1}\")\n",
    "    \n",
    "    if fallback_content:\n",
    "        print(f\"First item type: {'text' if 'text' in fallback_content[0] else 'other'}\")\n",
    "        \n",
    "except Exception as e:\n",
    "    print(f\"Error testing fallback: {e}\")"
   ]
  }
 ],
 "metadata": {
  "kernelspec": {
   "display_name": "Python 3",
   "language": "python",
   "name": "python3"
  },
  "language_info": {
   "codemirror_mode": {
    "name": "ipython",
    "version": 3
   },
   "file_extension": ".py",
   "mimetype": "text/x-python",
   "name": "python",
   "nbconvert_exporter": "python",
   "pygments_lexer": "ipython3",
   "version": "3.12.10"
  }
 },
 "nbformat": 4,
 "nbformat_minor": 4
}
