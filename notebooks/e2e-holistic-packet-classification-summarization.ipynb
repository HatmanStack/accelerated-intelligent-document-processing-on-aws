{
 "cells": [
  {
   "cell_type": "markdown",
   "metadata": {},
   "source": [
    "# Holistic Packet Classification with IDP Common Package\n",
    "\n",
    "This notebook demonstrates how to use the holistic packet classification capability of the IDP Common Package to classify multi-document packets, where each document might span multiple pages. The holistic approach examines the document as a whole to identify boundaries between different document types within the packet.\n",
    "\n",
    "**Key Benefits of Holistic Packet Classification:**\n",
    "1. Properly handles multi-page documents within a packet\n",
    "2. Detects logical document boundaries\n",
    "3. Identifies document types in context of the whole document\n",
    "4. Handles documents where individual pages may not be clearly classifiable on their own\n",
    "\n",
    "The notebook demonstrates how to process a document with:\n",
    "\n",
    "1. OCR Service - Convert a PDF document to text using AWS Textract\n",
    "2. Classification Service - Classify document pages into sections using Bedrock using the multi-model page based method.\n",
    "3. Extraction Service - Extract structured information from sections using Bedrock\n",
    "4. Evaluation Service - Evaluate accuracy of extracted information\n",
    "\n",
    "Each step uses the unified Document object model for data flow and consistency.\n",
    "\n",
    "> **Note**: This notebook uses AWS services including S3, Textract, and Bedrock. You need valid AWS credentials with appropriate permissions to run this notebook."
   ]
  },
  {
   "cell_type": "markdown",
   "metadata": {},
   "source": [
    "## 1. Install Dependencies\n",
    "\n",
    "The IDP common package supports granular installation through extras. You can install:\n",
    "- `[core]` - Just core functionality \n",
    "- `[ocr]` - OCR service with Textract dependencies\n",
    "- `[classification]` - Classification service dependencies\n",
    "- `[extraction]` - Extraction service dependencies\n",
    "- `[evaluation]` - Evaluation service dependencies\n",
    "- `[all]` - All of the above"
   ]
  },
  {
   "cell_type": "code",
   "execution_count": 1,
   "metadata": {},
   "outputs": [
    {
     "name": "stdout",
     "output_type": "stream",
     "text": [
      "Found existing installation: idp_common 0.2.19\n",
      "Uninstalling idp_common-0.2.19:\n",
      "  Successfully uninstalled idp_common-0.2.19\n",
      "Note: you may need to restart the kernel to use updated packages.\n",
      "Note: you may need to restart the kernel to use updated packages.\n",
      "Version: 0.2.19\n",
      "Location: /Users/miislamg/miniconda3/envs/genaiic-idp-accelerator/lib/python3.13/site-packages\n",
      "Note: you may need to restart the kernel to use updated packages.\n"
     ]
    }
   ],
   "source": [
    "# First uninstall existing package (to ensure we get the latest version)\n",
    "%pip uninstall -y idp_common\n",
    "\n",
    "# Install the IDP common package with all components in development mode\n",
    "%pip install -q -e \"../lib/idp_common_pkg[all]\"\n",
    "\n",
    "# Note: We can also install specific components like:\n",
    "# %pip install -q -e \"../lib/idp_common_pkg[ocr,classification,extraction,evaluation]\"\n",
    "\n",
    "# Check installed version\n",
    "%pip show idp_common | grep -E \"Version|Location\""
   ]
  },
  {
   "cell_type": "markdown",
   "metadata": {},
   "source": [
    "## 2. Import Libraries and Set Up Environment"
   ]
  },
  {
   "cell_type": "code",
   "execution_count": 2,
   "metadata": {},
   "outputs": [
    {
     "name": "stdout",
     "output_type": "stream",
     "text": [
      "Environment setup:\n",
      "METRIC_NAMESPACE: IDP-Notebook-Example\n",
      "AWS_REGION: us-east-1\n",
      "Input bucket: idp-notebook-input-195275636621-us-east-1\n",
      "Output bucket: idp-notebook-output-195275636621-us-east-1\n",
      "SAMPLE_PDF_PATH: ../samples/rvl_cdip_package.pdf\n"
     ]
    }
   ],
   "source": [
    "import os\n",
    "import json\n",
    "import time\n",
    "import boto3\n",
    "import logging\n",
    "import datetime\n",
    "import copy\n",
    "\n",
    "# Import base libraries\n",
    "from idp_common.models import Document, Status, Section, Page\n",
    "from idp_common import ocr, classification, extraction, evaluation, summarization\n",
    "from idp_common import s3\n",
    "import json\n",
    "from dotenv import load_dotenv\n",
    "load_dotenv()\n",
    "\n",
    "# Configure logging \n",
    "logging.basicConfig(level=logging.WARNING)  # Set root logger to WARNING (less verbose)\n",
    "logging.getLogger('idp_common.ocr.service').setLevel(logging.INFO)  # Focus on service logs\n",
    "logging.getLogger('textractor').setLevel(logging.WARNING)  # Suppress textractor logs\n",
    "logging.getLogger('idp_common.evaluation.service').setLevel(logging.DEBUG)  # Enable evaluation logs\n",
    "\n",
    "# Set environment variables\n",
    "os.environ['METRIC_NAMESPACE'] = 'IDP-Notebook-Example'\n",
    "os.environ['AWS_REGION'] = boto3.session.Session().region_name or 'us-east-1'\n",
    "\n",
    "# Get AWS account ID for unique bucket names\n",
    "sts_client = boto3.client('sts')\n",
    "account_id = sts_client.get_caller_identity()[\"Account\"]\n",
    "region = os.environ['AWS_REGION']\n",
    "\n",
    "# Define sample PDF path \n",
    "SAMPLE_PDF_PATH = \"../samples/rvl_cdip_package.pdf\"\n",
    "\n",
    "# Create unique bucket names based on account ID and region\n",
    "input_bucket_name = f\"idp-notebook-input-{account_id}-{region}\"\n",
    "output_bucket_name = f\"idp-notebook-output-{account_id}-{region}\"\n",
    "\n",
    "# Helper function to parse S3 URIs\n",
    "def parse_s3_uri(uri):\n",
    "    parts = uri.replace(\"s3://\", \"\").split(\"/\")\n",
    "    bucket = parts[0]\n",
    "    key = \"/\".join(parts[1:])\n",
    "    return bucket, key\n",
    "\n",
    "# Helper function to load JSON from S3\n",
    "def load_json_from_s3(uri):\n",
    "    bucket, key = parse_s3_uri(uri)\n",
    "    response = s3_client.get_object(Bucket=bucket, Key=key)\n",
    "    content = response['Body'].read().decode('utf-8')\n",
    "    return json.loads(content)\n",
    "\n",
    "print(\"Environment setup:\")\n",
    "print(f\"METRIC_NAMESPACE: {os.environ.get('METRIC_NAMESPACE')}\")\n",
    "print(f\"AWS_REGION: {os.environ.get('AWS_REGION')}\")\n",
    "print(f\"Input bucket: {input_bucket_name}\")\n",
    "print(f\"Output bucket: {output_bucket_name}\")\n",
    "print(f\"SAMPLE_PDF_PATH: {SAMPLE_PDF_PATH}\")"
   ]
  },
  {
   "cell_type": "markdown",
   "metadata": {},
   "source": [
    "## 3. Set Up S3 Buckets and Upload Sample File"
   ]
  },
  {
   "cell_type": "code",
   "execution_count": 3,
   "metadata": {},
   "outputs": [
    {
     "name": "stdout",
     "output_type": "stream",
     "text": [
      "Bucket idp-notebook-input-195275636621-us-east-1 already exists\n",
      "Bucket idp-notebook-output-195275636621-us-east-1 already exists\n",
      "Uploaded sample file to: s3://idp-notebook-input-195275636621-us-east-1/sample-2025-04-25_04-13-33.pdf\n"
     ]
    }
   ],
   "source": [
    "# Create S3 client\n",
    "s3_client = boto3.client('s3')\n",
    "\n",
    "# Function to create a bucket if it doesn't exist\n",
    "def ensure_bucket_exists(bucket_name):\n",
    "    try:\n",
    "        s3_client.head_bucket(Bucket=bucket_name)\n",
    "        print(f\"Bucket {bucket_name} already exists\")\n",
    "    except Exception:\n",
    "        try:\n",
    "            if region == 'us-east-1':\n",
    "                s3_client.create_bucket(Bucket=bucket_name)\n",
    "            else:\n",
    "                s3_client.create_bucket(\n",
    "                    Bucket=bucket_name,\n",
    "                    CreateBucketConfiguration={'LocationConstraint': region}\n",
    "                )\n",
    "            print(f\"Created bucket: {bucket_name}\")\n",
    "            \n",
    "            # Wait for bucket to be accessible\n",
    "            waiter = s3_client.get_waiter('bucket_exists')\n",
    "            waiter.wait(Bucket=bucket_name)\n",
    "        except Exception as e:\n",
    "            print(f\"Error creating bucket {bucket_name}: {str(e)}\")\n",
    "            raise\n",
    "\n",
    "# Ensure both buckets exist\n",
    "ensure_bucket_exists(input_bucket_name)\n",
    "ensure_bucket_exists(output_bucket_name)\n",
    "\n",
    "# Upload the sample file to S3\n",
    "sample_file_key = \"sample-\" + datetime.datetime.now().strftime(\"%Y-%m-%d_%H-%M-%S\") + \".pdf\"\n",
    "with open(SAMPLE_PDF_PATH, 'rb') as file_data:\n",
    "    s3_client.upload_fileobj(file_data, input_bucket_name, sample_file_key)\n",
    "\n",
    "print(f\"Uploaded sample file to: s3://{input_bucket_name}/{sample_file_key}\")"
   ]
  },
  {
   "cell_type": "markdown",
   "metadata": {},
   "source": [
    "## 4. Set Up Configuration"
   ]
  },
  {
   "cell_type": "code",
   "execution_count": 4,
   "metadata": {},
   "outputs": [],
   "source": [
    "with open(\"./config.json\", 'r') as file:\n",
    "    CONFIG = json.load(file)"
   ]
  },
  {
   "cell_type": "markdown",
   "metadata": {},
   "source": [
    "## 5. Process Document with OCR"
   ]
  },
  {
   "cell_type": "code",
   "execution_count": 5,
   "metadata": {},
   "outputs": [
    {
     "name": "stderr",
     "output_type": "stream",
     "text": [
      "INFO:idp_common.ocr.service:OCR Service initialized with features: ['LAYOUT']\n"
     ]
    },
    {
     "name": "stdout",
     "output_type": "stream",
     "text": [
      "Created document with ID: rvl-cdip-package\n",
      "Status: QUEUED\n",
      "\n",
      "Processing document with OCR...\n"
     ]
    },
    {
     "name": "stderr",
     "output_type": "stream",
     "text": [
      "INFO:idp_common.ocr.service:Successfully extracted markdown text for page 10\n",
      "INFO:idp_common.ocr.service:Successfully extracted markdown text for page 9\n",
      "INFO:idp_common.ocr.service:Successfully extracted markdown text for page 3\n",
      "INFO:idp_common.ocr.service:Successfully extracted markdown text for page 7\n",
      "INFO:idp_common.ocr.service:Successfully extracted markdown text for page 2\n",
      "INFO:idp_common.ocr.service:Successfully extracted markdown text for page 1\n",
      "INFO:idp_common.ocr.service:Successfully extracted markdown text for page 5\n",
      "INFO:idp_common.ocr.service:Successfully extracted markdown text for page 6\n",
      "INFO:idp_common.ocr.service:Successfully extracted markdown text for page 8\n",
      "INFO:idp_common.ocr.service:Successfully extracted markdown text for page 4\n",
      "INFO:idp_common.ocr.service:Sorting 10 pages by page number\n",
      "INFO:idp_common.ocr.service:OCR processing completed in 7.60 seconds\n",
      "INFO:idp_common.ocr.service:Processed 10 pages, with 0 errors\n"
     ]
    },
    {
     "name": "stdout",
     "output_type": "stream",
     "text": [
      "OCR processing completed in 7.60 seconds\n",
      "Document status: OCR_COMPLETED\n",
      "Number of pages processed: 10\n",
      "\n",
      "Processed pages:\n",
      "Page 1:\n",
      "  Image URI: s3://idp-notebook-output-195275636621-us-east-1/sample-2025-04-25_04-13-33.pdf/pages/1/image.jpg\n",
      "  Raw Text URI: s3://idp-notebook-output-195275636621-us-east-1/sample-2025-04-25_04-13-33.pdf/pages/1/rawText.json\n",
      "  Parsed Text URI: s3://idp-notebook-output-195275636621-us-east-1/sample-2025-04-25_04-13-33.pdf/pages/1/result.json\n",
      "Page 2:\n",
      "  Image URI: s3://idp-notebook-output-195275636621-us-east-1/sample-2025-04-25_04-13-33.pdf/pages/2/image.jpg\n",
      "  Raw Text URI: s3://idp-notebook-output-195275636621-us-east-1/sample-2025-04-25_04-13-33.pdf/pages/2/rawText.json\n",
      "  Parsed Text URI: s3://idp-notebook-output-195275636621-us-east-1/sample-2025-04-25_04-13-33.pdf/pages/2/result.json\n",
      "Page 3:\n",
      "  Image URI: s3://idp-notebook-output-195275636621-us-east-1/sample-2025-04-25_04-13-33.pdf/pages/3/image.jpg\n",
      "  Raw Text URI: s3://idp-notebook-output-195275636621-us-east-1/sample-2025-04-25_04-13-33.pdf/pages/3/rawText.json\n",
      "  Parsed Text URI: s3://idp-notebook-output-195275636621-us-east-1/sample-2025-04-25_04-13-33.pdf/pages/3/result.json\n",
      "Page 4:\n",
      "  Image URI: s3://idp-notebook-output-195275636621-us-east-1/sample-2025-04-25_04-13-33.pdf/pages/4/image.jpg\n",
      "  Raw Text URI: s3://idp-notebook-output-195275636621-us-east-1/sample-2025-04-25_04-13-33.pdf/pages/4/rawText.json\n",
      "  Parsed Text URI: s3://idp-notebook-output-195275636621-us-east-1/sample-2025-04-25_04-13-33.pdf/pages/4/result.json\n",
      "Page 5:\n",
      "  Image URI: s3://idp-notebook-output-195275636621-us-east-1/sample-2025-04-25_04-13-33.pdf/pages/5/image.jpg\n",
      "  Raw Text URI: s3://idp-notebook-output-195275636621-us-east-1/sample-2025-04-25_04-13-33.pdf/pages/5/rawText.json\n",
      "  Parsed Text URI: s3://idp-notebook-output-195275636621-us-east-1/sample-2025-04-25_04-13-33.pdf/pages/5/result.json\n",
      "Page 6:\n",
      "  Image URI: s3://idp-notebook-output-195275636621-us-east-1/sample-2025-04-25_04-13-33.pdf/pages/6/image.jpg\n",
      "  Raw Text URI: s3://idp-notebook-output-195275636621-us-east-1/sample-2025-04-25_04-13-33.pdf/pages/6/rawText.json\n",
      "  Parsed Text URI: s3://idp-notebook-output-195275636621-us-east-1/sample-2025-04-25_04-13-33.pdf/pages/6/result.json\n",
      "Page 7:\n",
      "  Image URI: s3://idp-notebook-output-195275636621-us-east-1/sample-2025-04-25_04-13-33.pdf/pages/7/image.jpg\n",
      "  Raw Text URI: s3://idp-notebook-output-195275636621-us-east-1/sample-2025-04-25_04-13-33.pdf/pages/7/rawText.json\n",
      "  Parsed Text URI: s3://idp-notebook-output-195275636621-us-east-1/sample-2025-04-25_04-13-33.pdf/pages/7/result.json\n",
      "Page 8:\n",
      "  Image URI: s3://idp-notebook-output-195275636621-us-east-1/sample-2025-04-25_04-13-33.pdf/pages/8/image.jpg\n",
      "  Raw Text URI: s3://idp-notebook-output-195275636621-us-east-1/sample-2025-04-25_04-13-33.pdf/pages/8/rawText.json\n",
      "  Parsed Text URI: s3://idp-notebook-output-195275636621-us-east-1/sample-2025-04-25_04-13-33.pdf/pages/8/result.json\n",
      "Page 9:\n",
      "  Image URI: s3://idp-notebook-output-195275636621-us-east-1/sample-2025-04-25_04-13-33.pdf/pages/9/image.jpg\n",
      "  Raw Text URI: s3://idp-notebook-output-195275636621-us-east-1/sample-2025-04-25_04-13-33.pdf/pages/9/rawText.json\n",
      "  Parsed Text URI: s3://idp-notebook-output-195275636621-us-east-1/sample-2025-04-25_04-13-33.pdf/pages/9/result.json\n",
      "Page 10:\n",
      "  Image URI: s3://idp-notebook-output-195275636621-us-east-1/sample-2025-04-25_04-13-33.pdf/pages/10/image.jpg\n",
      "  Raw Text URI: s3://idp-notebook-output-195275636621-us-east-1/sample-2025-04-25_04-13-33.pdf/pages/10/rawText.json\n",
      "  Parsed Text URI: s3://idp-notebook-output-195275636621-us-east-1/sample-2025-04-25_04-13-33.pdf/pages/10/result.json\n",
      "\n",
      "Metering:\n",
      "{\"textract/analyze_document-Layout\": {\"pages\": 10}}\n"
     ]
    }
   ],
   "source": [
    "# Initialize a new Document\n",
    "document = Document(\n",
    "    id=\"rvl-cdip-package\",\n",
    "    input_bucket=input_bucket_name,\n",
    "    input_key=sample_file_key,\n",
    "    output_bucket=output_bucket_name,\n",
    "    status=Status.QUEUED\n",
    ")\n",
    "\n",
    "print(f\"Created document with ID: {document.id}\")\n",
    "print(f\"Status: {document.status.value}\")\n",
    "\n",
    "# Create OCR service with Textract\n",
    "# Valid features are 'LAYOUT', 'FORMS', 'SIGNATURES', 'TABLES' (uses analyze_document API)\n",
    "# or leave it empty (to use basic detect_document_text API)\n",
    "ocr_service = ocr.OcrService(\n",
    "    region=region,\n",
    "    enhanced_features=['LAYOUT']\n",
    ")\n",
    "\n",
    "# Process document with OCR\n",
    "print(\"\\nProcessing document with OCR...\")\n",
    "start_time = time.time()\n",
    "document = ocr_service.process_document(document)\n",
    "ocr_time = time.time() - start_time\n",
    "\n",
    "print(f\"OCR processing completed in {ocr_time:.2f} seconds\")\n",
    "print(f\"Document status: {document.status.value}\")\n",
    "print(f\"Number of pages processed: {document.num_pages}\")\n",
    "\n",
    "# Show pages information\n",
    "print(\"\\nProcessed pages:\")\n",
    "for page_id, page in document.pages.items():\n",
    "    print(f\"Page {page_id}:\")\n",
    "    print(f\"  Image URI: {page.image_uri}\")\n",
    "    print(f\"  Raw Text URI: {page.raw_text_uri}\")\n",
    "    print(f\"  Parsed Text URI: {page.parsed_text_uri}\")\n",
    "print(\"\\nMetering:\")\n",
    "print(json.dumps(document.metering))"
   ]
  },
  {
   "cell_type": "markdown",
   "metadata": {},
   "source": [
    "## 6. Classify the Document"
   ]
  },
  {
   "cell_type": "code",
   "execution_count": 6,
   "metadata": {},
   "outputs": [
    {
     "name": "stdout",
     "output_type": "stream",
     "text": [
      "*****************************************************************\n",
      "CONFIG classificationMethod: textbasedHolisticClassification\n",
      "*****************************************************************\n",
      "\n",
      "Classifying document...\n",
      "Classification completed in 6.55 seconds\n",
      "Document status: CLASSIFIED\n"
     ]
    }
   ],
   "source": [
    "# Verify that Config specifies => \"classificationMethod\": \"textbasedHolisticClassification\"\n",
    "print(\"*****************************************************************\")\n",
    "print(f'CONFIG classificationMethod: {CONFIG[\"classification\"].get(\"classificationMethod\")}')\n",
    "print(\"*****************************************************************\")\n",
    "\n",
    "# Create classification service with Bedrock backend\n",
    "# The classification method is set in the config\n",
    "classification_service = classification.ClassificationService(\n",
    "    config=CONFIG, \n",
    "    backend=\"bedrock\" \n",
    ")\n",
    "\n",
    "# Classify the document\n",
    "print(\"\\nClassifying document...\")\n",
    "start_time = time.time()\n",
    "document = classification_service.classify_document(document)\n",
    "classification_time = time.time() - start_time\n",
    "print(f\"Classification completed in {classification_time:.2f} seconds\")\n",
    "print(f\"Document status: {document.status.value}\")"
   ]
  },
  {
   "cell_type": "markdown",
   "metadata": {},
   "source": [
    "### Show classification results"
   ]
  },
  {
   "cell_type": "code",
   "execution_count": 7,
   "metadata": {},
   "outputs": [
    {
     "name": "stdout",
     "output_type": "stream",
     "text": [
      "\n",
      "Detected sections:\n",
      "Section 1: letter\n",
      "  Pages: ['1']\n",
      "Section 2: form\n",
      "  Pages: ['2']\n",
      "Section 3: email\n",
      "  Pages: ['3']\n",
      "Section 4: scientific_publication\n",
      "  Pages: ['4']\n",
      "Section 5: invoice\n",
      "  Pages: ['5']\n",
      "Section 6: advertisement\n",
      "  Pages: ['6']\n",
      "Section 7: questionnaire\n",
      "  Pages: ['7']\n",
      "Section 8: resume\n",
      "  Pages: ['8']\n",
      "Section 9: resume\n",
      "  Pages: ['9']\n",
      "Section 10: memo\n",
      "  Pages: ['10']\n",
      "\n",
      "Page-level classifications:\n",
      "Page 1: letter\n",
      "Page 10: memo\n",
      "Page 2: form\n",
      "Page 3: email\n",
      "Page 4: scientific_publication\n",
      "Page 5: invoice\n",
      "Page 6: advertisement\n",
      "Page 7: questionnaire\n",
      "Page 8: resume\n",
      "Page 9: resume\n"
     ]
    }
   ],
   "source": [
    "if document.sections:\n",
    "    print(\"\\nDetected sections:\")\n",
    "    for section in document.sections:\n",
    "        print(f\"Section {section.section_id}: {section.classification}\")\n",
    "        print(f\"  Pages: {section.page_ids}\")\n",
    "else:\n",
    "    print(\"\\nNo sections detected\")\n",
    "\n",
    "# Show page classification\n",
    "print(\"\\nPage-level classifications:\")\n",
    "for page_id, page in sorted(document.pages.items()):\n",
    "    print(f\"Page {page_id}: {page.classification}\")"
   ]
  },
  {
   "cell_type": "markdown",
   "metadata": {},
   "source": [
    "# Summarization service"
   ]
  },
  {
   "cell_type": "markdown",
   "metadata": {},
   "source": [
    "## PART 1: Processing Individual Sections"
   ]
  },
  {
   "cell_type": "code",
   "execution_count": 8,
   "metadata": {},
   "outputs": [
    {
     "name": "stdout",
     "output_type": "stream",
     "text": [
      "=== PART 1: Processing Individual Sections ===\n",
      "\n",
      "Processing section 1 (class: letter)\n",
      "Summarization for section 1 completed in 8.58 seconds\n",
      "\n",
      "Summary Content:\n",
      "### Western Dark Fired Tobacco Growers' Association Letter to Senator Ford\n",
      "\n",
      "**Date:** October 31, 1995 [Cite-1, Page-1]\n",
      "\n",
      "**From:** Will E. Clark, General Manager, Western Dark Fired Tobacco Growers' Association\n",
      "\n",
      "**To:** The Honorable Wendell H. Ford, United States Senate\n",
      "\n",
      "**Address:** 206 Maple Street P.O. Box 1056 Murray Kentucky 42071-1056\n",
      "\n",
      "**Contact:** (502) 753-3341 FAX (502) 753-0069/3342\n",
      "\n",
      "---\n",
      "\n",
      "**Summary:**\n",
      "\n",
      "- The Western Dark Fired Tobacco Growers' Association, representing 9,000 tobacco producers, expresses strong opposition to the \"Commitment to our Children\" petition circulated by several Members of Congress [Cite-2, Page-1].\n",
      "- The association argues that age restriction laws are already in place across all states and emphasizes the need for better enforcement rather than additional bureaucracy [Cite-3, Page-1].\n",
      "- They warn against the potential for FDA regulation of tobacco, fearing it would create inefficient government bureaucracy, harm family farms, and infringe on adult's First Amendment rights [Cite-4, Page-1].\n",
      "- The letter urges Senator Ford to consider the negative consequences of the petition, viewing it as anti-tobacco indoctrination rather than a practical solution [Cite-5, Page-1].\n",
      "\n",
      "**Key Points:**\n",
      "\n",
      "1. **Opposition to Petition:** Strong opposition to the \"Commitment to our Children\" petition [Cite-6, Page-1].\n",
      "2. **Existing Laws:** Emphasis on existing age restriction laws and the need for better enforcement [Cite-7, Page-1].\n",
      "3. **FDA Regulation Concerns:** Warning against FDA regulation, citing potential harm to family farms and First Amendment rights [Cite-8, Page-1].\n",
      "4. **Call to Action:** Urging Senator Ford to prevent FDA from becoming a federal tobacco regulator [Cite-9, Page-1].\n",
      "\n",
      "Processing section 2 (class: form)\n",
      "Summarization for section 2 completed in 7.87 seconds\n",
      "\n",
      "Summary Content:\n",
      "## LAB SERVICES CONSISTENCY REPORT\n",
      "\n",
      "**Date:** 2/28/93 [Cite-1, Page-2]\n",
      "**Technician:** CC [Cite-2, Page-2]\n",
      "**Shift:** A [Cite-3, Page-2]\n",
      "\n",
      "### Trial Information\n",
      "- **Trial:** 8 [Cite-4, Page-2]\n",
      "- **Line:** 2 [Cite-5, Page-2]\n",
      "- **Area:** 52 [Cite-6, Page-2]\n",
      "\n",
      "### Product and Sample Details\n",
      "- **Product Unit Code:** 0728 [Cite-7, Page-2]\n",
      "- **Sample ID:** stuff box 2 [Cite-8, Page-2]\n",
      "- **Reason for Request:** test [Cite-9, Page-2]\n",
      "\n",
      "### Timing\n",
      "- **Requested Delivery Time:** Not specified [Cite-10, Page-2]\n",
      "- **Time Sample Received:** Not recorded [Cite-11, Page-2]\n",
      "- **Time Analysis Completed:** Not recorded [Cite-12, Page-2]\n",
      "\n",
      "### Data Communication\n",
      "- **Data Communicated To:** Gone at 105 [Cite-13, Page-2]\n",
      "\n",
      "### Consistency Data\n",
      "- **Average Consistency:** 3.68% [Cite-14, Page-2]\n",
      "- **Sample #1:** 10 [Cite-15, Page-2]\n",
      "- **Sample #7:** 11 [Cite-16, Page-2]\n",
      "- **Sample #12:** 12 [Cite-17, Page-2]\n",
      "\n",
      "### Additional Data\n",
      "- **Meter Reading:** Not specified [Cite-18, Page-2]\n",
      "- **Comments:** ACONSIST wis [Cite-19, Page-2]\n",
      "\n",
      "### Reference Number\n",
      "- **Reference Number:** 2030053328 [Cite-20, Page-2]\n",
      "\n",
      "Processing section 3 (class: email)\n",
      "Summarization for section 3 completed in 12.29 seconds\n",
      "\n",
      "Summary Content:\n",
      "## Summary of Document\n",
      "\n",
      "### Ashley Bratich\n",
      "- **From:** Kelahan, Ben\n",
      "- **To:** TI New York, TI Minnesota\n",
      "- **Co:** Ashley Bratich (MSMAIL)\n",
      "- **Subject:** FW: Morning Team Notes 4/20\n",
      "- **Date:** Saturday, April 18, 1998 2:09 PM\n",
      "\n",
      "#### Original Message\n",
      "- **From:** Byron Nelson (SMTP: bnelson@wka.com)\n",
      "- **Sent:** Friday, April 17, 1998 5:25 PM\n",
      "- **To:** Multiple recipients including Judy Albert, Carolyn, Jackie Cohen, etc.\n",
      "- **Co:** Bob Fackler, Bob Stone\n",
      "- **Subject:** Morning Team Notes 4/20\n",
      "\n",
      "### Key Points\n",
      "\n",
      "**Falmouth, MA**\n",
      "- On 4/15, a warrant article proposing a 100 percent ban on smoking in restaurants was defeated 84-77 [Cite-1, Page-3].\n",
      "- On 4/16, a motion to reconsider the vote was rejected 104-49 [Cite-2, Page-3].\n",
      "- The restaurant owner's moderate alternative was not considered due to the town counsel finding the article unconstitutional [Cite-3, Page-3].\n",
      "\n",
      "**Waseca County, MN**\n",
      "- On 4/7, county commissioners tabled consideration of a new tobacco retailing ordinance [Cite-4, Page-3].\n",
      "- Waseca is the 11th Minnesota community to put the issue on hold [Cite-5, Page-3].\n",
      "\n",
      "**Wadena County, MN**\n",
      "- In mid-March, county commissioners tabled consideration of a new tobacco retailing ordinance until 4/23 [Cite-6, Page-3].\n",
      "- They will consider a model ordinance that mirrors the state law [Cite-7, Page-3].\n",
      "- Bob Fackler requests calls to retailers to alert them to attend [Cite-8, Page-3].\n",
      "\n",
      "[Cite-1, Page-3]: <span title=\"On 4/15, town meeting representatives defeated by a 84-77 vote a warrant article calling for a 100 percent ban on smoking in restaurants\" class=\"citation\">[Cite-1, Page-3]</span>\n",
      "[Cite-2, Page-3]: <span title=\"On 4/16, a motion to reconsider the vote was soundly rejected 104-49\" class=\"citation\">[Cite-2, Page-3]</span>\n",
      "[Cite-3, Page-3]: <span title=\"The restaurant owner's moderate alternative was not considered because the town counsel found the article to be unconstitutional\" class=\"citation\">[Cite-3, Page-3]</span>\n",
      "[Cite-4, Page-3]: <span title=\"On 4/7 the county commissioners once again tabled consideration of a new tobacco retailing ordinance\" class=\"citation\">[Cite-4, Page-3]</span>\n",
      "[Cite-5, Page-3]: <span title=\"Waseca is the 11th Minnesota community to put the issue on hold\" class=\"citation\">[Cite-5, Page-3]</span>\n",
      "[Cite-6, Page-3]: <span title=\"In mid-March the county commissioners tabled consideration of a new tobacco retailing ordinance until 4/23\" class=\"citation\">[Cite-6, Page-3]</span>\n",
      "[Cite-7, Page-3]: <span title=\"At that time, they will take up a model ordinance that mirrors the state law\" class=\"citation\">[Cite-7, Page-3]</span>\n",
      "[Cite-8, Page-3]: <span title=\"Bob Fackler requests calls to retailers to alert them to attend\" class=\"citation\">[Cite-8, Page-3]</span>\n",
      "\n",
      "Summarization for first 3 sections complete.\n"
     ]
    }
   ],
   "source": [
    "summarization_service = summarization.SummarizationService(config=CONFIG)\n",
    "\n",
    "print(\"=== PART 1: Processing Individual Sections ===\")\n",
    "n = 3  # Only process first 3 sections to save time\n",
    "# Process each section directly using the section_id\n",
    "for section in document.sections[:n]:  \n",
    "    print(f\"\\nProcessing section {section.section_id} (class: {section.classification})\")\n",
    "    \n",
    "    # Process section directly with the original document\n",
    "    start_time = time.time()\n",
    "    document = summarization_service.process_document_section(\n",
    "        document=document,\n",
    "        section_id=section.section_id\n",
    "    )\n",
    "    summarization_time = time.time() - start_time\n",
    "    print(f\"Summarization for section {section.section_id} completed in {summarization_time:.2f} seconds\")\n",
    "    \n",
    "    # Print the summary content if available\n",
    "    if section.attributes and 'summary_uri' in section.attributes:\n",
    "        summary_uri = section.attributes['summary_uri']\n",
    "        try:\n",
    "            # Get the summary content from S3\n",
    "            summary_content = s3.get_json_content(summary_uri)\n",
    "            print(\"\\nSummary Content:\")\n",
    "            \n",
    "            # Check if there's a specific summary field in the content\n",
    "            if isinstance(summary_content, dict):\n",
    "                if 'summary' in summary_content:\n",
    "                    print(summary_content['summary'])\n",
    "                elif 'content' in summary_content:\n",
    "                    print(summary_content['content'])\n",
    "                else:\n",
    "                    # Print the whole content if no specific summary field\n",
    "                    print(json.dumps(summary_content, indent=2))\n",
    "            else:\n",
    "                print(summary_content)\n",
    "        except Exception as e:\n",
    "            print(f\"Error retrieving summary: {e}\")\n",
    "    else:\n",
    "        print(\"No summary available for this section\")\n",
    "    \n",
    "print(f\"\\nSummarization for first {n} sections complete.\")"
   ]
  },
  {
   "cell_type": "markdown",
   "metadata": {},
   "source": [
    "## PART 2: Processing Document with Sections"
   ]
  },
  {
   "cell_type": "code",
   "execution_count": 10,
   "metadata": {},
   "outputs": [
    {
     "name": "stdout",
     "output_type": "stream",
     "text": [
      "Document summarization with sections completed in 103.50 seconds\n"
     ]
    }
   ],
   "source": [
    "document_with_sections = copy.deepcopy(document)\n",
    "\n",
    "# Process the entire document using the section-based approach\n",
    "start_time = time.time()\n",
    "document_with_sections = summarization_service.process_document(\n",
    "    document=document_with_sections,\n",
    "    store_results=True\n",
    ")\n",
    "summarization_time = time.time() - start_time\n",
    "print(f\"Document summarization with sections completed in {summarization_time:.2f} seconds\")"
   ]
  },
  {
   "cell_type": "code",
   "execution_count": 12,
   "metadata": {},
   "outputs": [
    {
     "name": "stdout",
     "output_type": "stream",
     "text": [
      "\n",
      "Combined Summary Report URI: s3://idp-notebook-output-195275636621-us-east-1/sample-2025-04-25_04-13-33.pdf/summary/summary.json\n",
      "{'letter': {'summary': '## Summary\\n\\n- **Organization**: Western Dark Fired Tobacco Growers\\' Association\\n- **Address**: 206 Maple Street, P.O. Box 1056, Murray, Kentucky 42071-1056\\n- **Contact**: (502) 753-3341, FAX (502) 753-0069/3342\\n- **Date**: October 31, 1995\\n- **Recipient**: The Honorable Wendell H. Ford, United States Senate, Washington, D.C. 20510\\n\\n### Main Points\\n\\n- The Association represents 9,000 tobacco producers and strongly opposes the \"Commitment to our Children\" petition circulated by several Members of Congress [Cite-1, Page-1].\\n- They advocate for better enforcement of existing age restriction laws rather than creating more bureaucracy [Cite-2, Page-1].\\n- The Association warns against FDA regulation of tobacco, fearing it would lead to inefficient government bureaucracy and negatively impact family farms [Cite-3, Page-1].\\n- They argue that FDA regulation would infringe on adults\\' First Amendment rights and create additional regulatory burdens for farmers [Cite-4, Page-1].\\n- The Association urges Senator Ford to prevent FDA from regulating tobacco and to consider the petition as anti-tobacco indoctrination rather than a solution [Cite-5, Page-1].\\n\\n### Citations\\n- <span title=\"Original text from document: On behalf of the Western Dark Fired Tobacco Growers\\' Association and the 9,000 tobacco producers it represents, I an obligated to convey our strong opposition to the \\\\\"Commitment to our Children\\' petition being circulated by several Members of Congress.\" class=\"citation\">[Cite-1, Page-1]</span>\\n- <span title=\"Original text from document: In the tobacco industry, no one wants young people to consume tobacco products and age restriction laws are on the books in every state in the nation. We must take action to better enforce these laws, not create more bureaucracy.\" class=\"citation\">[Cite-2, Page-1]</span>\\n- <span title=\"Original text from document: There are those in our society who want to add inefficient government bureaucracy, thus destroying our family farms and hampering an adult\\'s First Amendment right to the freedom of choice in using a legal product.\" class=\"citation\">[Cite-3, Page-1]</span>\\n- <span title=\"Original text from document: You may have been approached by those who say they are supporting Administration (FDA) regulation of tobacco. However, if FDA is given the authority to regulate tobacco because it is a nicotine the cause of youth smoking prevention by pushing the Food and Drug delivery device\\', farmers will be forced to deal with yet another monitored by the United States Department of Agriculture the government agency. Already our producers deal with and are Administration and many others. We know first hand what a nightmare federal government regulations can create for farmers.\" class=\"citation\">[Cite-4, Page-1]</span>\\n- <span title=\"Original text from document: I urge you to consider the consequences of the \\\\\"Commitment to Our Children\\\\\" petition, looking at it for what it is: more anti-tobacco indoctrination, rather than a solution to a problem which everyone starting with parents, should address in a responsible manner.\" class=\"citation\">[Cite-5, Page-1]</span>'}, 'form': {'summary': '## LAB SERVICES CONSISTENCY REPORT\\n\\n- **Date**: 2/28/93 [Cite-1, Page-2]\\n- **Technician**: CC [Cite-2, Page-2]\\n- **Shift**: A [Cite-3, Page-2]\\n- **Trial**: 8 [Cite-4, Page-2]\\n- **Line**: 2 [Cite-5, Page-2]\\n- **Area**: 52 [Cite-6, Page-2]\\n- **Product Unit Code**: 0728 [Cite-7, Page-2]\\n- **Sample ID**: stuff box 2 [Cite-8, Page-2]\\n- **Reason for Request**: test [Cite-9, Page-2]\\n\\n### Sample Details\\n- **Sample & Container Weight In**: 1159.3 grams [Cite-10, Page-2]\\n- **Diluted Container Weight In**: 6955.8 grams [Cite-11, Page-2]\\n- **Dilution Factor**: 6 [Cite-12, Page-2]\\n\\n### Consistency Data\\n- **Average Consistency**: 3.68% [Cite-13, Page-2]\\n- **Sample #1**: 10 [Cite-14, Page-2]\\n- **Sample #7**: 11 [Cite-15, Page-2]\\n- **Sample #12**: 12 [Cite-16, Page-2]\\n- **Range**: Not specified [Cite-17, Page-2]\\n- **Meter Reading**: Not specified [Cite-18, Page-2]\\n\\n### Comments\\n- **Comments**: ACONSIST wis [Cite-19, Page-2]\\n- **Reference Number**: 2030053328 [Cite-20, Page-2]'}, 'email': {'summary': '## Summary of Document Page 3\\n\\n### Ashley Bratich\\n- **From:** Kelahan, Ben\\n- **To:** TI New York, TI Minnesota\\n- **Co:** Ashley Bratich (MSMAIL)\\n- **Subject:** FW: Morning Team Notes 4/20\\n- **Date:** Saturday, April 18, 1998 2:09 PM\\n\\n#### Original Message\\n- **From:** Byron Nelson\\n- **Sent:** Friday, April 17, 1998 5:25 PM\\n- **To:** Multiple recipients including Judy Albert, Carolyn, Jackie Cohen, etc.\\n- **Co:** Bob Fackler, Bob Stone\\n- **Subject:** Morning Team Notes 4/20\\n\\n### Key Points\\n\\n#### Falmouth, MA\\n- On 4/15, a warrant article proposing a 100 percent ban on smoking in restaurants was defeated 84-77 [Cite-1, Page-3].\\n- A motion to reconsider the vote was rejected 104-49 on 4/16 [Cite-2, Page-3].\\n- The restaurant owner\\'s alternative was not considered due to constitutional concerns raised by town counsel [Cite-3, Page-3].\\n\\n#### Waseca County, MN\\n- On 4/7, county commissioners tabled a new tobacco retailing ordinance [Cite-4, Page-3].\\n- Waseca is the 11th Minnesota community to delay consideration of the issue [Cite-5, Page-3].\\n\\n#### Wadena County, MN\\n- In mid-March, county commissioners postponed consideration of a new tobacco retailing ordinance until 4/23 [Cite-6, Page-3].\\n- They will review a model ordinance mirroring state law [Cite-7, Page-3].\\n- Bob Fackler requests calls to retailers to encourage their attendance [Cite-8, Page-3].\\n\\n**[Cite-1, Page-3](<span title=\"On 4/15, town meeting representatives defeated by a 84-77 vote a warrant article calling for a 100 percent ban on smoking in restaurants\"></span>)**\\n**[Cite-2, Page-3](<span title=\"On 4/16, a motion to reconsider the vote was soundly rejected 104-49.\"></span>)**\\n**[Cite-3, Page-3](<span title=\"The restaurant owner\\'s moderate alternative was not considered because the town counsel found the article to be unconstitutional\"></span>)**\\n**[Cite-4, Page-3](<span title=\"On 4/7 the county commissioners once again tabled consideration of a new tobacco retailing ordinance\"></span>)**\\n**[Cite-5, Page-3](<span title=\"Waseca is the 11th Minnesota community to put the issue on hold.\"></span>)**\\n**[Cite-6, Page-3](<span title=\"In mid-March the county commissioners tabled consideration of a new tobacco retailing ordinance until 4/23\"></span>)**\\n**[Cite-7, Page-3](<span title=\"At that time, they will take up a model ordinance that mirrors the state law.\"></span>)**\\n**[Cite-8, Page-3](<span title=\"Bob Fackler requests calls to retailers to alert them to attend\"></span>)**'}, 'scientific_publication': {'summary': '## LE CHOIHGPRT Mutation Assay - Algoral 40LF\\n\\n### Objectives\\n- To measure the ability of Algoral 40LF to induce mutation at the hypoxanthine guanine phosphoribosyl transferase (HGPRT) locus in Chinese Hamster Ovary (CHO) cells [Cite-1, Page-4].\\n\\n### Materials and Methods\\n- Refer to Standard Operating Procedure PH314 [Cite-2, Page-4].\\n\\n### Sponsor\\n- American Cyanamid Company [Cite-3, Page-4].\\n\\n### Test Chemical\\n- **Name:** Algoral 40 LF\\n- **Description:** Clear liquid [Cite-4, Page-4].\\n\\n### Key Dates\\n- **Preliminary Cytotoxicity Test Initiated:** 6/3/82 [Cite-5, Page-4].\\n- **CHOIHGAET Forward Gene Mutation Assay Initiated:** 8/26/82 [Cite-6, Page-4].\\n\\n### Cell Culture Details\\n- **CHO-KI-BH4 Cells:**\\n  - Received from Oak Ridge National Laboratories on 7/1/82 [Cite-7, Page-4].\\n  - Routine subcultures performed every Friday (a.m.) and Monday (p.m.) [Cite-8, Page-4].\\n  - 1x10^5 cells subcultured into each of 3-75cm^2 flasks containing 15 ml of media F12 FCMSIO [Cite-9, Page-4].\\n\\n### Specific Procedures\\n- **8/23/82:** CHO-KI-BH4 cells (for#7182) subcultured into 10-T75cm^2 flasks (3x10^5 cells/flask) in 15 ml of media F12 FCMSIO [Cite-10, Page-4].\\n- **8/25/82:** CHO-KI-BH4 cells subcultured into 36 - T25 cm^2 flasks (5x10^5 cells/flask) in 5ml of media F12 FCMS, in preparation for treatment [Cite-11, Page-4].\\n\\n### Witness and Record\\n- **Witnessed & Understood by:** <span title=\"Original text from document: itnessed & Understood by me, Date\" class=\"citation\">[Cite-12, Page-4]</span>\\n- **Recorded & Examined by:** D. Good on 8/25/82 [Cite-13, Page-4].'}, 'invoice': {'summary': '## Invoice Summary\\n\\n**Invoice Details**\\n- **Invoice Number:** 86239 [Cite-1, Page-5]\\n- **Invoice Date:** 11/12/92 [Cite-2, Page-5]\\n- **Ship Date:** 10/13/92 [Cite-3, Page-5]\\n- **P.O. Number:** Not specified [Cite-4, Page-5]\\n- **Salesman:** MICHAEL J MCKILLIPS [Cite-5, Page-5]\\n- **Job Number:** 86239 [Cite-6, Page-5]\\n- **Ship Via:** Not specified [Cite-7, Page-5]\\n- **Terms:** NET 30 DAYS [Cite-8, Page-5]\\n- **Service Charge:** 2% per month if payment not received by end of first month after invoice date [Cite-9, Page-5]\\n\\n**Bill To**\\n- **Name:** THE TOBACCO INSTITUTE ATTN: ANNE CANNELL [Cite-10, Page-5]\\n- **Address:** 1875 I STREET, N.W. WASHINGTON DC 20006 [Cite-11, Page-5]\\n\\n**Invoiced Items**\\n- **Description:** TWO SIDED DECAL \"IT\\'S THE LAW--UNDER 18\" PRINTS 2/2, 5 1/2 x 7 1/2\" [Cite-12, Page-5]\\n- **Quantity:** 5000 [Cite-13, Page-5]\\n- **Unit Price:** $5145.00 [Cite-14, Page-5]\\n- **Amount:** $5145.00 [Cite-15, Page-5]\\n\\n**Financial Summary**\\n- **Sub Total:** $5145.00 [Cite-16, Page-5]\\n- **Tax:** $308.70 [Cite-17, Page-5]\\n- **Total Invoice:** $5453.70 [Cite-18, Page-5]\\n- **Amount Due:** $5453.70 [Cite-19, Page-5]\\n- **Less Deposit:** $(11000.00) [Cite-20, Page-5]\\n- **Credit Balance:** $5546.30 [Cite-21, Page-5]\\n\\n**Additional Notes**\\n- **Confidential Note:** MINNESOTA TOBACCO LITIGATION [Cite-22, Page-5]\\n\\n**[Cite-1, Page-5](<span title=\"Invoice No: 86239\" class=\"citation\">)\\n[Cite-2, Page-5](<span title=\"Invoice Date: 11/12/92\" class=\"citation\">)\\n[Cite-3, Page-5](<span title=\"Ship Date: 10/13/92\" class=\"citation\">)\\n[Cite-4, Page-5](<span title=\"P.O. Number: \" class=\"citation\">)\\n[Cite-5, Page-5](<span title=\"Salesman MICHAEL J MCKILLIPS\" class=\"citation\">)\\n[Cite-6, Page-5](<span title=\"Job Number: 86239\" class=\"citation\">)\\n[Cite-7, Page-5](<span title=\"Ship Via: \" class=\"citation\">)\\n[Cite-8, Page-5](<span title=\"Terms: NET 30 DAYS\" class=\"citation\">)\\n[Cite-9, Page-5](<span title=\"A Service Charge of 2% per month (24% per year) will be charged if payment not received by end of first month after invoice date\" class=\"citation\">)\\n[Cite-10, Page-5](<span title=\"BILL TO THE TOBACCO INSTITUTE ATTN: ANNE CANNELL\" class=\"citation\">)\\n[Cite-11, Page-5](<span title=\"1875 I STREET, N.W. WASHINGTON DC 20006\" class=\"citation\">)\\n[Cite-12, Page-5](<span title=\"DESCRIPTION TWO SIDED DECAL \\\\\"IT\\'S THE\" class=\"citation\">)\\n[Cite-13, Page-5](<span title=\"QUANTITY 5000\" class=\"citation\">)\\n[Cite-14, Page-5](<span title=\"UNIT PRICE 5145.000\" class=\"citation\">)\\n[Cite-15, Page-5](<span title=\"AMOUNT 5145.00\" class=\"citation\">)\\n[Cite-16, Page-5](<span title=\"SUB TOTAL 5145.00\" class=\"citation\">)\\n[Cite-17, Page-5](<span title=\"TAX 308.70\" class=\"citation\">)\\n[Cite-18, Page-5](<span title=\"TOTAL INVOICE 5453.70\" class=\"citation\">)\\n[Cite-19, Page-5](<span title=\"Invoice AMT DUE 5453.70\" class=\"citation\">)\\n[Cite-20, Page-5](<span title=\"83829 LESS DEPOSIT (11000.00)\" class=\"citation\">)\\n[Cite-21, Page-5](<span title=\"CREDIT BALANCE $5546.30\" class=\"citation\">)\\n[Cite-22, Page-5](<span title=\"CONFIDENTIAL: MINNESOTA TOBACCO LITIGATION\" class=\"citation\">)'}, 'advertisement': {'summary': '## FTC to Begin Cigarette Testing\\n\\n<span title=\"Original text from document: For RELEASE: A.M., Tuesday, August 1, 1967\" class=\"citation\">[Cite-1, Page-6]</span>\\n\\nThe Federal Trade Commission (FTC) has directed the commencement of formal cigarette testing following satisfactory completion of trial tests by the cigarette testing laboratory. The testing will be conducted under specific conditions:\\n\\n1. Smoke cigarettes to a 23 mm butt length, or to the length of the filter and overwrap plus 3 mm if in excess of 23 mm. <span title=\"Original text from document: Smoke cigarettes to a 23 - butt length, or to the length of the filter and overwrap plus 3 mm. if in excess of 23 -.\" class=\"citation\">[Cite-2, Page-6]</span>\\n2. Base results on a test of 100 cigarettes per brand or type. <span title=\"Original text from document: Base results on a test of 100 cigarettes per brand, or type,\" class=\"citation\">[Cite-3, Page-6]</span>\\n3. Select cigarettes on a random basis, as opposed to \"weight selection.\" <span title=\"Original text from document: Cigarettes to be tested will be selected on a random basis, as opposed to \"weight selection,\" \" class=\"citation\">[Cite-4, Page-6]</span>\\n4. Determine particulate matter on a \"dry\" basis using the gas chromatography method. <span title=\"Original text from document: Determine particulate matter on a \"dry\" basis employing the gas chromatography method published by C. H. Sloan and B. J. Sublett in Tobacco Science 9, page 70, 1965, as modified by F. J. Schultz\\' and A. W. Spears\\' report published in Tobacco Vol. 162, No. 24, page 32, dated June 17, 1966, to determine the moisture content,\" class=\"citation\">[Cite-5, Page-6]</span>\\n5. Determine and report the \"tar\" content after subtracting moisture and alkaloids (as nicotine) from particulate matter. <span title=\"Original text from document: Determine and report the \"tar\" content after subtracting moisture and alkaloids (as nicotine) from particulate matter.\" class=\"citation\">[Cite-6, Page-6]</span>\\n6. Report tar content to the nearest whole milligram and nicotine content to the nearest 1/10 milligrams. <span title=\"Original text from document: Report tar content to the nearest whole milligram and nicotine content to the nearest 1/10 milligrams.\" class=\"citation\">[Cite-7, Page-6]</span>\\n\\nThe test will cover approximately 50 major brands and types, and all brands with tar or nicotine statements on labels or in advertising. Cigarettes will be purchased on the open market in 50 localities throughout the United States. <span title=\"Original text from document: The Commission directed that the test cover approximately 50 of the major brands and types (many brands are sold as regular, and king size, or filter, etc.) and all brands for which any tar or nicotine statement appears on the label or in the advertising. Cigarettes for testing will be purchased on the open market in 50 localities throughout the United States.\" class=\"citation\">[Cite-8, Page-6]</span>\\n\\nThe FTC relied on a public hearing held on November 30, 1966, to determine the testing procedures. The hearing included written presentations and oral testimony on modifying or amplifying the Cambridge Filter Method. <span title=\"Original text from document: In determining the foregoing procedures, the Commission relied substan- tially upon a record including written presentation by interested persons and oral testimony offered at a public hearing on November 30, 1966, which was held \"to assist the Commission in determining what action, if any, should be taken in the public interest with respect to modifying or amplifying the Cambridge Filter Method. and the form in which test results should be expressed.\"\" class=\"citation\">[Cite-9, Page-6]</span>'}, 'questionnaire': {'summary': '## Customer Satisfaction Survey Summary\\n\\n- **Phone Call Evaluation** [Cite-1, Page-7]\\n  - Courtesy and Politeness of Representative\\n  - Knowledgeability of Representative\\n  - Handling of Question/Request\\n\\n- **Overall Satisfaction with R. J. Reynolds\\' Response** [Cite-2, Page-7]\\n  - Options range from \\'Very Satisfied\\' to \\'Very Dissatisfied\\'\\n\\n- **Future Purchase Intention** [Cite-3, Page-7]\\n  - Likelihood of continuing to purchase the brand\\n\\n- **Recommendation to Others** [Cite-4, Page-7]\\n  - Willingness to recommend the brand to other adult smokers\\n\\n- **Unique Identifiers** [Cite-5, Page-7]\\n  - Document codes: 52435 and 9399\\n\\n<span title=\"Original text from document: How satisfied were you in each of the following areas:\" class=\"citation\">[Cite-1, Page-7]</span>\\n<span title=\"Original text from document: 2. Which ONE of the following statements BEST describes the way you feel about R. J. Reynolds\\' response to your request for assistance?\" class=\"citation\">[Cite-2, Page-7]</span>\\n<span title=\"Original text from document: 3. Based on the service you received, will you continue to purchase the brand of cigarettes you contacted us about?\" class=\"citation\">[Cite-3, Page-7]</span>\\n<span title=\"Original text from document: 4. Based on the service you received, would you recommend this brand of cigarettes to an adult smoker (21 years of age or older) who currently smokes a competitive brand?\" class=\"citation\">[Cite-4, Page-7]</span>\\n<span title=\"Original text from document: 52435 9399 \" class=\"citation\">[Cite-5, Page-7]</span>'}, 'resume': {'summary': \"## Curriculum Vitae Summary\\n\\n### Personal Information\\n- **Surname:** Kalina\\n- **First Name:** Moshe\\n- **Birthdate:** January 21, 1938 [Cite-1, Page-9]\\n\\n### Education Background\\n| From-To | Institution | Area of Specialization | Degree |\\n|---------|-------------|------------------------|--------|\\n| 1958-1961 | Hebrew University of Jerusalem | Agriculture | R So [Cite-2, Page-9] |\\n| 1961-1964 | Hebrew University of Jerusalem | Biochemistry | M So [Cite-3, Page-9] |\\n| 1964-1967 | Univ. of London, King's College | Cytochemistry | Ph D. [Cite-4, Page-9] |\\n\\n### Major Research Interest\\n- The surfactant system: cell biological approach [Cite-5, Page-9]\\n\\n### Employment History\\n| From-To | Institution | Research Area | Title |\\n|---------|-------------|---------------|-------|\\n| 1978-present | Dept. of Histology, Tel Aviv University | The surfactant system | Assoc Prof. [Cite-6, Page-9] |\\n| 1972-1978 | Dept. of Histology & Cell Biology | Cytotoxic lymphocyte | Sen Lectur. [Cite-7, Page-9] |\\n| 1967-1978 | Dept. of Histology & Cell Biology | Histochemistry | Lecturer [Cite-8, Page-9] |\\n| 1990-1991 | National Jewish Hospital, Denver | The surfactant system | Visit. Ass. [Cite-9, Page-9] |\\n| 1984-1985 | Postgraduate Medical School London | Immunocytochem-endocris system | Vist Ass. [Cite-10, Page-9] |\\n| 1976-1977 | Dept. of Anatomy, UCLA | The surfactant system | Vist Ass. Prof [Cite-11, Page-9] |\\n| 1972-1973 | Johns Hopkins University | E.M. cytochemistry | Vist. Ass. Prof [Cite-12, Page-9] |\\n\\n### Grants and Contracts\\n- List grants and contracts on related or other subjects currently received by investigator from BSF and other sources. [Cite-13, Page-9]\\n\\n| From-To | Title of Project | Sources | Project | % Time/ | Total Grant |\\n|---------|------------------|---------|---------|---------|-------------|\\n|         |                  |         |         |         |             |\"}, 'memo': {'summary': '## Memorandum Summary\\n\\n- **To:** Howard Goldfrach, Kathy Leiber\\n- **Date:** April 3, 1987\\n- **From:** Mel Fallis\\n- **Re:** Black Consumer Market Promotion Development\\n\\n### Key Points:\\n\\n- A proposed project development timetable is attached for the Situation Analysis and Campaign Development phases for Benson & Hedges and Virginia Slims [Cite-1, Page-10].\\n- Scheduled meetings:\\n  - April 9th with Howard at 1:30 PM\\n  - April 9th with Kathy at 3 PM\\n- Focus will be on subjects for review and evaluation identified for April [Cite-2, Page-10].\\n- Request for information about the industry, category, consumer dynamics, and promotion activities [Cite-3, Page-10].\\n- Encourages contacting with questions prior to the meeting [Cite-4, Page-10].\\n\\n### Additional Details:\\n- **CC:** Ellen Merlo, Terry Fraser, Emmie LaBauve\\n- **Address:** 475 10th AVENUE, SUITE 800, NEW YORK, N.Y. 10018\\n- **Phone:** (212) 564-8588\\n\\n<span title=\"Original text from document: Attached you will find the proposed project development timetable for the Situation Analysis and Campaign Development phases for Benson & Hedges and Virginia Slims.\" class=\"citation\">[Cite-1, Page-10]</span>\\n<span title=\"Original text from document: At the scheduled meetings on April 9th with Howard at 1:30PM and Kathy at 3PM, concentration will be placed on the subjects for review and evaluation identified for April.\" class=\"citation\">[Cite-2, Page-10]</span>\\n<span title=\"Original text from document: I am very interested in obtaining copies of as much information as available about the industry, category, consumer dynamics and promotion activities.\" class=\"citation\">[Cite-3, Page-10]</span>\\n<span title=\"Original text from document: If there are questions prior to our meeting, please don\\'t hesitate to call.\" class=\"citation\">[Cite-4, Page-10]</span>'}, 'metadata': {'section_summaries': {'letter': {'section_id': '1', 'summary_uri': 's3://idp-notebook-output-195275636621-us-east-1/sample-2025-04-25_04-13-33.pdf/sections/1/summary.json'}, 'form': {'section_id': '2', 'summary_uri': 's3://idp-notebook-output-195275636621-us-east-1/sample-2025-04-25_04-13-33.pdf/sections/2/summary.json'}, 'email': {'section_id': '3', 'summary_uri': 's3://idp-notebook-output-195275636621-us-east-1/sample-2025-04-25_04-13-33.pdf/sections/3/summary.json'}, 'scientific_publication': {'section_id': '4', 'summary_uri': 's3://idp-notebook-output-195275636621-us-east-1/sample-2025-04-25_04-13-33.pdf/sections/4/summary.json'}, 'invoice': {'section_id': '5', 'summary_uri': 's3://idp-notebook-output-195275636621-us-east-1/sample-2025-04-25_04-13-33.pdf/sections/5/summary.json'}, 'advertisement': {'section_id': '6', 'summary_uri': 's3://idp-notebook-output-195275636621-us-east-1/sample-2025-04-25_04-13-33.pdf/sections/6/summary.json'}, 'questionnaire': {'section_id': '7', 'summary_uri': 's3://idp-notebook-output-195275636621-us-east-1/sample-2025-04-25_04-13-33.pdf/sections/7/summary.json'}, 'resume': {'section_id': '9', 'summary_uri': 's3://idp-notebook-output-195275636621-us-east-1/sample-2025-04-25_04-13-33.pdf/sections/9/summary.json'}, 'memo': {'section_id': '10', 'summary_uri': 's3://idp-notebook-output-195275636621-us-east-1/sample-2025-04-25_04-13-33.pdf/sections/10/summary.json'}}}}\n",
      "\n",
      "Summary Preview (first 500 chars):\n",
      "\n",
      "\n",
      "Full Rendered Summary:\n"
     ]
    },
    {
     "data": {
      "text/markdown": [],
      "text/plain": [
       "<IPython.core.display.Markdown object>"
      ]
     },
     "metadata": {},
     "output_type": "display_data"
    }
   ],
   "source": [
    "# Print the combined summary report URI\n",
    "if document_with_sections.summary_report_uri:\n",
    "    print(f\"\\nCombined Summary Report URI: {document_with_sections.summary_report_uri}\")\n",
    "    \n",
    "    # Try to get and display the markdown summary from the JSON file\n",
    "    try:\n",
    "        # Extract bucket and key from the s3 URI\n",
    "        uri_parts = document_with_sections.summary_report_uri.replace(\"s3://\", \"\").split(\"/\", 1)\n",
    "        bucket = uri_parts[0]\n",
    "        key = uri_parts[1]\n",
    "        \n",
    "        # Use boto3 to get the object directly\n",
    "        s3_client = boto3.client('s3')\n",
    "        response = s3_client.get_object(Bucket=bucket, Key=key)\n",
    "        summary_json = json.loads(response['Body'].read().decode('utf-8'))\n",
    "        print(summary_json)\n",
    "        \n",
    "        # Extract the markdown summary from the JSON\n",
    "        summary_md = summary_json.get('summary', '')\n",
    "        \n",
    "        # Display a preview of the summary\n",
    "        print(\"\\nSummary Preview (first 500 chars):\")\n",
    "        print(summary_md[:500] + \"...\" if len(summary_md) > 500 else summary_md)\n",
    "        \n",
    "        # Display the full markdown summary in a rendered cell\n",
    "        from IPython.display import Markdown, display\n",
    "        print(\"\\nFull Rendered Summary:\")\n",
    "        display(Markdown(summary_md))\n",
    "    except Exception as e:\n",
    "        print(f\"Error retrieving summary: {e}\")\n",
    "else:\n",
    "    print(\"No summary available\")"
   ]
  },
  {
   "cell_type": "markdown",
   "metadata": {},
   "source": [
    "## PART 3: Processing Document without Sections"
   ]
  },
  {
   "cell_type": "code",
   "execution_count": null,
   "metadata": {},
   "outputs": [
    {
     "name": "stdout",
     "output_type": "stream",
     "text": [
      "Document summarization without sections completed in 19.65 seconds\n",
      "\n",
      "Whole Document Summary Report URI: s3://idp-notebook-output-195275636621-us-east-1/sample-2025-04-25_04-01-21.pdf/summary/summary.json\n",
      "\n",
      "Whole Document Summary (first 500 chars):\n",
      "{\"summary\": \"### Western Dark Fired Tobacco Growers' Association\\n\\n- **Address**: 206 Maple Street P.O. Box 1056 Murray Kentucky 42071-1056\\n- **Contact**: (502) 753-3341 FAX (502) 753-0069/3342\\n- **Date**: October 31, 1995\\n- **Recipient**: The Honorable Wendell H. Ford, United States Senate, Washington, D.C. 20510\\n\\n**Summary**:\\nThe Western Dark Fired Tobacco Growers' Association, representing 9,000 tobacco producers, expresses strong opposition to the \\\"Commitment to our Children\\\" petiti...\n"
     ]
    }
   ],
   "source": [
    "# Create a copy of the document without sections to demonstrate the fallback approach\n",
    "document_without_sections = copy.deepcopy(document)\n",
    "document_without_sections.sections = []  # Remove all sections\n",
    "\n",
    "# Process the document without sections (should use the fallback approach)\n",
    "start_time = time.time()\n",
    "document_without_sections = summarization_service.process_document(\n",
    "    document=document_without_sections,\n",
    "    store_results=True\n",
    ")\n",
    "summarization_time = time.time() - start_time\n",
    "print(f\"Document summarization without sections completed in {summarization_time:.2f} seconds\")\n",
    "\n",
    "# Print the summary report URI\n",
    "if document_without_sections.summary_report_uri:\n",
    "    print(f\"\\nWhole Document Summary Report URI: {document_without_sections.summary_report_uri}\")\n",
    "    \n",
    "    # Try to get and display the markdown summary\n",
    "    try:\n",
    "        # Extract bucket and key from the s3 URI\n",
    "        uri_parts = document_without_sections.summary_report_uri.replace(\"s3://\", \"\").split(\"/\", 1)\n",
    "        bucket = uri_parts[0]\n",
    "        key = uri_parts[1]\n",
    "        \n",
    "        # Use boto3 to get the object directly\n",
    "        s3_client = boto3.client('s3')\n",
    "        response = s3_client.get_object(Bucket=bucket, Key=key)\n",
    "        summary_md = response['Body'].read().decode('utf-8')\n",
    "        \n",
    "        print(\"\\nWhole Document Summary (first 500 chars):\")\n",
    "        print(summary_md[:500] + \"...\" if len(summary_md) > 500 else summary_md)\n",
    "    except Exception as e:\n",
    "        print(f\"Error retrieving whole document summary: {e}\")\n",
    "else:\n",
    "    print(\"No whole document summary available\")"
   ]
  }
 ],
 "metadata": {
  "kernelspec": {
   "display_name": "genaiic-idp-accelerator",
   "language": "python",
   "name": "python3"
  },
  "language_info": {
   "codemirror_mode": {
    "name": "ipython",
    "version": 3
   },
   "file_extension": ".py",
   "mimetype": "text/x-python",
   "name": "python",
   "nbconvert_exporter": "python",
   "pygments_lexer": "ipython3",
   "version": "3.13.2"
  }
 },
 "nbformat": 4,
 "nbformat_minor": 2
}
