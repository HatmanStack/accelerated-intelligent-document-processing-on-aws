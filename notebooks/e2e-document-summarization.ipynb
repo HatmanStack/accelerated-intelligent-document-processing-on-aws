{
 "cells": [
  {
   "cell_type": "markdown",
   "metadata": {},
   "source": [
    "# Document Summarization with IDP Common Package\n",
    "\n",
    "This notebook demonstrates how to use the document summarization capability of the IDP Common Package to generate concise summaries of documents. The summarization service uses LLMs to analyze document content and produce both brief and detailed summaries, along with a formatted markdown report.\n",
    "\n",
    "**Key Benefits of Document Summarization:**\n",
    "1. Quickly understand the main points of lengthy documents\n",
    "2. Extract essential information without reading the entire document\n",
    "3. Generate consistent summaries across different document types\n",
    "4. Preserve important facts while reducing document length\n",
    "5. Create shareable summary reports in markdown format\n",
    "\n",
    "> **Note**: This notebook uses real AWS services including S3, Textract, and Bedrock. You need valid AWS credentials with appropriate permissions to run this notebook."
   ]
  },
  {
   "cell_type": "markdown",
   "metadata": {},
   "source": [
    "## 1. Install Dependencies\n",
    "\n",
    "Let's install the IDP common package in development mode."
   ]
  },
  {
   "cell_type": "code",
   "execution_count": 1,
   "metadata": {},
   "outputs": [
    {
     "name": "stdout",
     "output_type": "stream",
     "text": [
      "Found existing installation: idp_common 0.2.19\n",
      "Uninstalling idp_common-0.2.19:\n",
      "  Successfully uninstalled idp_common-0.2.19\n",
      "Note: you may need to restart the kernel to use updated packages.\n",
      "Note: you may need to restart the kernel to use updated packages.\n",
      "Version: 0.2.19\n",
      "Location: /home/ec2-user/miniconda/lib/python3.12/site-packages\n",
      "Note: you may need to restart the kernel to use updated packages.\n"
     ]
    }
   ],
   "source": [
    "# First uninstall existing package (to ensure we get the latest version)\n",
    "%pip uninstall -y idp_common\n",
    "\n",
    "# Install the IDP common package with all components in development mode\n",
    "%pip install -q -e \"../lib/idp_common_pkg[all]\"\n",
    "\n",
    "# Check installed version\n",
    "%pip show idp_common | grep -E \"Version|Location\""
   ]
  },
  {
   "cell_type": "markdown",
   "metadata": {},
   "source": [
    "## 2. Import Libraries and Set Up Environment"
   ]
  },
  {
   "cell_type": "code",
   "execution_count": 2,
   "metadata": {},
   "outputs": [
    {
     "name": "stdout",
     "output_type": "stream",
     "text": [
      "Environment setup:\n",
      "METRIC_NAMESPACE: IDP-Notebook-Example\n",
      "AWS_REGION: us-west-2\n",
      "Input bucket: idp-notebook-input-912625584728-us-west-2\n",
      "Output bucket: idp-notebook-output-912625584728-us-west-2\n",
      "SAMPLE_PDF_PATH: ../samples/rvl_cdip_package.pdf\n"
     ]
    }
   ],
   "source": [
    "import os\n",
    "import json\n",
    "import time\n",
    "import boto3\n",
    "import logging\n",
    "import datetime\n",
    "\n",
    "# Import base libraries\n",
    "from idp_common.models import Document, Status\n",
    "from idp_common import ocr, summarization\n",
    "\n",
    "# Configure logging\n",
    "logging.basicConfig(level=logging.WARNING)  # Set root logger to WARNING (less verbose)\n",
    "logging.getLogger('idp_common.ocr.service').setLevel(logging.INFO)\n",
    "logging.getLogger('idp_common.summarization.service').setLevel(logging.INFO)\n",
    "logging.getLogger('textractor').setLevel(logging.WARNING)  # Suppress textractor logs\n",
    "\n",
    "# Set environment variables\n",
    "os.environ['METRIC_NAMESPACE'] = 'IDP-Notebook-Example'\n",
    "os.environ['AWS_REGION'] = boto3.session.Session().region_name or 'us-east-1'\n",
    "os.environ['CONFIGURATION_TABLE_NAME'] = 'mock-config-table'\n",
    "\n",
    "# Get AWS account ID for unique bucket names\n",
    "sts_client = boto3.client('sts')\n",
    "account_id = sts_client.get_caller_identity()[\"Account\"]\n",
    "region = os.environ['AWS_REGION']\n",
    "\n",
    "# Define sample PDF path \n",
    "SAMPLE_PDF_PATH = \"../samples/rvl_cdip_package.pdf\"\n",
    "\n",
    "# Create unique bucket names based on account ID and region\n",
    "input_bucket_name = f\"idp-notebook-input-{account_id}-{region}\"\n",
    "output_bucket_name = f\"idp-notebook-output-{account_id}-{region}\"\n",
    "\n",
    "# Helper function to parse S3 URIs\n",
    "def parse_s3_uri(uri):\n",
    "    parts = uri.replace(\"s3://\", \"\").split(\"/\")\n",
    "    bucket = parts[0]\n",
    "    key = \"/\".join(parts[1:])\n",
    "    return bucket, key\n",
    "\n",
    "# Helper function to load JSON from S3\n",
    "def load_json_from_s3(uri):\n",
    "    bucket, key = parse_s3_uri(uri)\n",
    "    response = s3_client.get_object(Bucket=bucket, Key=key)\n",
    "    content = response['Body'].read().decode('utf-8')\n",
    "    return json.loads(content)\n",
    "\n",
    "print(\"Environment setup:\")\n",
    "print(f\"METRIC_NAMESPACE: {os.environ.get('METRIC_NAMESPACE')}\")\n",
    "print(f\"AWS_REGION: {os.environ.get('AWS_REGION')}\")\n",
    "print(f\"Input bucket: {input_bucket_name}\")\n",
    "print(f\"Output bucket: {output_bucket_name}\")\n",
    "print(f\"SAMPLE_PDF_PATH: {SAMPLE_PDF_PATH}\")"
   ]
  },
  {
   "cell_type": "markdown",
   "metadata": {},
   "source": [
    "## 3. Set Up S3 Buckets and Upload Sample File"
   ]
  },
  {
   "cell_type": "code",
   "execution_count": 3,
   "metadata": {},
   "outputs": [
    {
     "name": "stdout",
     "output_type": "stream",
     "text": [
      "Bucket idp-notebook-input-912625584728-us-west-2 already exists\n",
      "Bucket idp-notebook-output-912625584728-us-west-2 already exists\n",
      "Uploaded sample file to: s3://idp-notebook-input-912625584728-us-west-2/sample-2025-04-19_21-52-32.pdf\n"
     ]
    }
   ],
   "source": [
    "# Create S3 client\n",
    "s3_client = boto3.client('s3')\n",
    "\n",
    "# Function to create a bucket if it doesn't exist\n",
    "def ensure_bucket_exists(bucket_name):\n",
    "    try:\n",
    "        s3_client.head_bucket(Bucket=bucket_name)\n",
    "        print(f\"Bucket {bucket_name} already exists\")\n",
    "    except Exception:\n",
    "        try:\n",
    "            if region == 'us-east-1':\n",
    "                s3_client.create_bucket(Bucket=bucket_name)\n",
    "            else:\n",
    "                s3_client.create_bucket(\n",
    "                    Bucket=bucket_name,\n",
    "                    CreateBucketConfiguration={'LocationConstraint': region}\n",
    "                )\n",
    "            print(f\"Created bucket: {bucket_name}\")\n",
    "            \n",
    "            # Wait for bucket to be accessible\n",
    "            waiter = s3_client.get_waiter('bucket_exists')\n",
    "            waiter.wait(Bucket=bucket_name)\n",
    "        except Exception as e:\n",
    "            print(f\"Error creating bucket {bucket_name}: {str(e)}\")\n",
    "            raise\n",
    "\n",
    "# Ensure both buckets exist\n",
    "ensure_bucket_exists(input_bucket_name)\n",
    "ensure_bucket_exists(output_bucket_name)\n",
    "\n",
    "# Upload the sample file to S3\n",
    "sample_file_key = \"sample-\" + datetime.datetime.now().strftime(\"%Y-%m-%d_%H-%M-%S\") + \".pdf\"\n",
    "try:\n",
    "    with open(SAMPLE_PDF_PATH, 'rb') as file_data:\n",
    "        s3_client.upload_fileobj(file_data, input_bucket_name, sample_file_key)\n",
    "    print(f\"Uploaded sample file to: s3://{input_bucket_name}/{sample_file_key}\")\n",
    "except FileNotFoundError:\n",
    "    print(f\"Sample file not found at {SAMPLE_PDF_PATH}. Please ensure the sample file exists.\")\n",
    "    # Use a default sample if available\n",
    "    alt_sample_path = \"../samples/sample.pdf\"\n",
    "    try:\n",
    "        with open(alt_sample_path, 'rb') as file_data:\n",
    "            s3_client.upload_fileobj(file_data, input_bucket_name, sample_file_key)\n",
    "        print(f\"Used alternative sample file: s3://{input_bucket_name}/{sample_file_key}\")\n",
    "    except FileNotFoundError:\n",
    "        print(\"No sample files found. Please create a samples directory with PDF files.\")"
   ]
  },
  {
   "cell_type": "code",
   "execution_count": 4,
   "metadata": {},
   "outputs": [],
   "source": [
    "# Set up configuration for the summarization service - standard format\n",
    "CONFIG = {\n",
    "    \"summarization\": {\n",
    "        \"model\": \"us.amazon.nova-pro-v1:0\",\n",
    "        \"temperature\": 0,\n",
    "        \"top_k\": 0.5,\n",
    "        \"system_prompt\": \"You are a document summarization expert who can analyze and summarize documents from various domains including medical, financial, legal, and general business documents. Your task is to create a summary that captures the key information, main points, and important details from the document. Your output must be in valid JSON format.\",\n",
    "        \"task_prompt\": \"Analyze the provided document and create a comprehensive summary.\\n\\n<document>\\n{DOCUMENT_TEXT}\\n</document>\\n\\nCreate a summary that captures the essential information from the document. Your summary should:\\n1. Extract key information, main points, and important details\\n2. Maintain the original document's organizational structure where appropriate\\n3. Preserve important facts, figures, dates, and entities\\n4. Reduce the length while retaining all critical information\\n5. The detailed summary should be approximately 1000 words in length\\n\\nReturn your response as valid JSON with the following structure:\\n```json\\n{\\n  \\\"brief_summary\\\": \\\"A 1-2 sentence overview of what this document is about\\\",\\n  \\\"detailed_summary\\\": \\\"A comprehensive summary following the summarization style\\\"\\n}\\n```\"\n",
    "    }\n",
    "}\n"
   ]
  },
  {
   "cell_type": "code",
   "execution_count": 5,
   "metadata": {},
   "outputs": [],
   "source": [
    "# Optionally, explore or test with different models\n",
    "alternative_models = [\n",
    "    \"us.anthropic.claude-3-5-haiku-20241022-v1:0\",\n",
    "    \"us.anthropic.claude-3-5-sonnet-20241022-v2:0\",\n",
    "    \"us.anthropic.claude-3-7-sonnet-20250219-v1:0\"\n",
    "]"
   ]
  },
  {
   "cell_type": "markdown",
   "metadata": {},
   "source": [
    "## 4. Set Up Configuration"
   ]
  },
  {
   "cell_type": "code",
   "execution_count": 6,
   "metadata": {},
   "outputs": [
    {
     "name": "stderr",
     "output_type": "stream",
     "text": [
      "INFO:idp_common.ocr.service:OCR Service initialized with features: ['LAYOUT']\n"
     ]
    },
    {
     "name": "stdout",
     "output_type": "stream",
     "text": [
      "Created document with ID: doc-for-summarization\n",
      "Status: QUEUED\n",
      "\n",
      "Processing document with OCR...\n"
     ]
    },
    {
     "name": "stderr",
     "output_type": "stream",
     "text": [
      "INFO:idp_common.ocr.service:Successfully extracted markdown text for page 5\n",
      "INFO:idp_common.ocr.service:Successfully extracted markdown text for page 10\n",
      "INFO:idp_common.ocr.service:Successfully extracted markdown text for page 2\n",
      "INFO:idp_common.ocr.service:Successfully extracted markdown text for page 3\n",
      "INFO:idp_common.ocr.service:Successfully extracted markdown text for page 7\n",
      "INFO:idp_common.ocr.service:Successfully extracted markdown text for page 9\n",
      "INFO:idp_common.ocr.service:Successfully extracted markdown text for page 4\n",
      "INFO:idp_common.ocr.service:Successfully extracted markdown text for page 6\n",
      "INFO:idp_common.ocr.service:Successfully extracted markdown text for page 8\n",
      "INFO:idp_common.ocr.service:Successfully extracted markdown text for page 1\n",
      "INFO:idp_common.ocr.service:Sorting 10 pages by page number\n",
      "INFO:idp_common.ocr.service:OCR processing completed in 5.32 seconds\n",
      "INFO:idp_common.ocr.service:Processed 10 pages, with 0 errors\n"
     ]
    },
    {
     "name": "stdout",
     "output_type": "stream",
     "text": [
      "OCR processing completed in 5.32 seconds\n",
      "Document status: OCR_COMPLETED\n",
      "Number of pages processed: 10\n",
      "\n",
      "Processed pages:\n",
      "Page 1:\n",
      "  Image URI: s3://idp-notebook-output-912625584728-us-west-2/sample-2025-04-19_21-52-32.pdf/pages/1/image.jpg\n",
      "  Raw Text URI: s3://idp-notebook-output-912625584728-us-west-2/sample-2025-04-19_21-52-32.pdf/pages/1/rawText.json\n",
      "  Parsed Text URI: s3://idp-notebook-output-912625584728-us-west-2/sample-2025-04-19_21-52-32.pdf/pages/1/result.json\n",
      "Page 2:\n",
      "  Image URI: s3://idp-notebook-output-912625584728-us-west-2/sample-2025-04-19_21-52-32.pdf/pages/2/image.jpg\n",
      "  Raw Text URI: s3://idp-notebook-output-912625584728-us-west-2/sample-2025-04-19_21-52-32.pdf/pages/2/rawText.json\n",
      "  Parsed Text URI: s3://idp-notebook-output-912625584728-us-west-2/sample-2025-04-19_21-52-32.pdf/pages/2/result.json\n",
      "Page 3:\n",
      "  Image URI: s3://idp-notebook-output-912625584728-us-west-2/sample-2025-04-19_21-52-32.pdf/pages/3/image.jpg\n",
      "  Raw Text URI: s3://idp-notebook-output-912625584728-us-west-2/sample-2025-04-19_21-52-32.pdf/pages/3/rawText.json\n",
      "  Parsed Text URI: s3://idp-notebook-output-912625584728-us-west-2/sample-2025-04-19_21-52-32.pdf/pages/3/result.json\n",
      "Page 4:\n",
      "  Image URI: s3://idp-notebook-output-912625584728-us-west-2/sample-2025-04-19_21-52-32.pdf/pages/4/image.jpg\n",
      "  Raw Text URI: s3://idp-notebook-output-912625584728-us-west-2/sample-2025-04-19_21-52-32.pdf/pages/4/rawText.json\n",
      "  Parsed Text URI: s3://idp-notebook-output-912625584728-us-west-2/sample-2025-04-19_21-52-32.pdf/pages/4/result.json\n",
      "Page 5:\n",
      "  Image URI: s3://idp-notebook-output-912625584728-us-west-2/sample-2025-04-19_21-52-32.pdf/pages/5/image.jpg\n",
      "  Raw Text URI: s3://idp-notebook-output-912625584728-us-west-2/sample-2025-04-19_21-52-32.pdf/pages/5/rawText.json\n",
      "  Parsed Text URI: s3://idp-notebook-output-912625584728-us-west-2/sample-2025-04-19_21-52-32.pdf/pages/5/result.json\n",
      "Page 6:\n",
      "  Image URI: s3://idp-notebook-output-912625584728-us-west-2/sample-2025-04-19_21-52-32.pdf/pages/6/image.jpg\n",
      "  Raw Text URI: s3://idp-notebook-output-912625584728-us-west-2/sample-2025-04-19_21-52-32.pdf/pages/6/rawText.json\n",
      "  Parsed Text URI: s3://idp-notebook-output-912625584728-us-west-2/sample-2025-04-19_21-52-32.pdf/pages/6/result.json\n",
      "Page 7:\n",
      "  Image URI: s3://idp-notebook-output-912625584728-us-west-2/sample-2025-04-19_21-52-32.pdf/pages/7/image.jpg\n",
      "  Raw Text URI: s3://idp-notebook-output-912625584728-us-west-2/sample-2025-04-19_21-52-32.pdf/pages/7/rawText.json\n",
      "  Parsed Text URI: s3://idp-notebook-output-912625584728-us-west-2/sample-2025-04-19_21-52-32.pdf/pages/7/result.json\n",
      "Page 8:\n",
      "  Image URI: s3://idp-notebook-output-912625584728-us-west-2/sample-2025-04-19_21-52-32.pdf/pages/8/image.jpg\n",
      "  Raw Text URI: s3://idp-notebook-output-912625584728-us-west-2/sample-2025-04-19_21-52-32.pdf/pages/8/rawText.json\n",
      "  Parsed Text URI: s3://idp-notebook-output-912625584728-us-west-2/sample-2025-04-19_21-52-32.pdf/pages/8/result.json\n",
      "Page 9:\n",
      "  Image URI: s3://idp-notebook-output-912625584728-us-west-2/sample-2025-04-19_21-52-32.pdf/pages/9/image.jpg\n",
      "  Raw Text URI: s3://idp-notebook-output-912625584728-us-west-2/sample-2025-04-19_21-52-32.pdf/pages/9/rawText.json\n",
      "  Parsed Text URI: s3://idp-notebook-output-912625584728-us-west-2/sample-2025-04-19_21-52-32.pdf/pages/9/result.json\n",
      "Page 10:\n",
      "  Image URI: s3://idp-notebook-output-912625584728-us-west-2/sample-2025-04-19_21-52-32.pdf/pages/10/image.jpg\n",
      "  Raw Text URI: s3://idp-notebook-output-912625584728-us-west-2/sample-2025-04-19_21-52-32.pdf/pages/10/rawText.json\n",
      "  Parsed Text URI: s3://idp-notebook-output-912625584728-us-west-2/sample-2025-04-19_21-52-32.pdf/pages/10/result.json\n"
     ]
    }
   ],
   "source": [
    "# Initialize a new Document\n",
    "document = Document(\n",
    "    id=\"doc-for-summarization\",\n",
    "    input_bucket=input_bucket_name,\n",
    "    input_key=sample_file_key,\n",
    "    output_bucket=output_bucket_name,\n",
    "    status=Status.QUEUED\n",
    ")\n",
    "\n",
    "print(f\"Created document with ID: {document.id}\")\n",
    "print(f\"Status: {document.status.value}\")\n",
    "\n",
    "# Create OCR service with Textract\n",
    "# Valid features are 'LAYOUT', 'FORMS', 'SIGNATURES', 'TABLES' (uses analyze_document API)\n",
    "# or leave it empty (to use basic detect_document_text API)\n",
    "ocr_service = ocr.OcrService(\n",
    "    region=region,\n",
    "    enhanced_features=['LAYOUT']\n",
    ")\n",
    "\n",
    "# Process document with OCR\n",
    "print(\"\\nProcessing document with OCR...\")\n",
    "start_time = time.time()\n",
    "document = ocr_service.process_document(document)\n",
    "ocr_time = time.time() - start_time\n",
    "\n",
    "print(f\"OCR processing completed in {ocr_time:.2f} seconds\")\n",
    "print(f\"Document status: {document.status.value}\")\n",
    "print(f\"Number of pages processed: {document.num_pages}\")\n",
    "\n",
    "# Show pages information\n",
    "print(\"\\nProcessed pages:\")\n",
    "for page_id, page in document.pages.items():\n",
    "    print(f\"Page {page_id}:\")\n",
    "    print(f\"  Image URI: {page.image_uri}\")\n",
    "    print(f\"  Raw Text URI: {page.raw_text_uri}\")\n",
    "    print(f\"  Parsed Text URI: {page.parsed_text_uri}\")"
   ]
  },
  {
   "cell_type": "markdown",
   "metadata": {},
   "source": [
    "## 6. Summarize the Document"
   ]
  },
  {
   "cell_type": "code",
   "execution_count": 7,
   "metadata": {},
   "outputs": [
    {
     "name": "stderr",
     "output_type": "stream",
     "text": [
      "INFO:idp_common.summarization.service:Initialized summarization service with Bedrock backend using model us.amazon.nova-pro-v1:0\n"
     ]
    },
    {
     "name": "stdout",
     "output_type": "stream",
     "text": [
      "\n",
      "Summarizing document...\n"
     ]
    },
    {
     "name": "stderr",
     "output_type": "stream",
     "text": [
      "INFO:idp_common.summarization.service:Summarizing text with Bedrock\n",
      "INFO:idp_common.summarization.service:Document summarized successfully. Summary report stored at: s3://idp-notebook-output-912625584728-us-west-2/sample-2025-04-19_21-52-32.pdf/summary/summary.md\n"
     ]
    },
    {
     "name": "stdout",
     "output_type": "stream",
     "text": [
      "Summarization completed in 9.25 seconds\n"
     ]
    }
   ],
   "source": [
    "# Create summarization service with Bedrock backend\n",
    "summarization_service = summarization.SummarizationService(\n",
    "    config=CONFIG, \n",
    "    backend=\"bedrock\"\n",
    ")\n",
    "\n",
    "# Summarize the document\n",
    "print(\"\\nSummarizing document...\")\n",
    "start_time = time.time()\n",
    "document = summarization_service.process_document(document)\n",
    "summarization_time = time.time() - start_time\n",
    "\n",
    "print(f\"Summarization completed in {summarization_time:.2f} seconds\")\n"
   ]
  },
  {
   "cell_type": "code",
   "execution_count": 8,
   "metadata": {},
   "outputs": [
    {
     "name": "stdout",
     "output_type": "stream",
     "text": [
      "\n",
      "================================================================================\n",
      "DOCUMENT SUMMARY\n",
      "================================================================================\n",
      "\n",
      "Available fields / values in summary:\n",
      "\n",
      "========================================\n",
      "brief_summary:\n",
      "\n",
      "========================================\n",
      "The document contains various communications and reports related to the tobacco industry, including opposition to FDA regulation, market promotion strategies, lab testing procedures, and customer satisfaction surveys.\n",
      "\n",
      "========================================\n",
      "detailed_summary:\n",
      "\n",
      "========================================\n",
      "The document comprises several distinct sections related to the tobacco industry:\n",
      "\n",
      "1. **Opposition to FDA Regulation**: A letter from Will E. Clark, General Manager of the Western Dark Fired Tobacco Growers' Association, dated October 31, 1995, expresses strong opposition to the 'Commitment to our Children' petition. The association, representing 9,000 tobacco producers, argues against FDA regulation of tobacco, citing existing age restriction laws and the potential negative impact on family farms and adult consumer rights.\n",
      "\n",
      "2. **Market Promotion Strategies**: A memorandum from Mel Fallis dated April 3, 1987, outlines a project development timetable for the Situation Analysis and Campaign Development phases for Benson & Hedges and Virginia Slims. The focus is on gathering industry, category, consumer dynamics, and promotion activities information.\n",
      "\n",
      "3. **Lab Services Consistency Report**: A report dated February 28, 1993, details lab services consistency, including sample weights, dilution factors, and consistency percentages for various samples.\n",
      "\n",
      "4. **Tobacco Industry Updates**: Notes from April 20, 1998, summarize recent events in the tobacco industry, including defeated smoking bans in Falmouth, MA, and tabled tobacco retailing ordinances in Waseca and Wadena Counties, MN.\n",
      "\n",
      "5. **Mutation Assay Report**: A detailed report on a mutation assay conducted on Algoral 40 LF, describing the objectives, methods, and results of the test on Chinese Hamster Ovary (CHO) cells.\n",
      "\n",
      "6. **Invoice from Peake Printers**: An invoice dated November 12, 1992, from Peake Printers to The Tobacco Institute for the production of 5,000 two-sided decals.\n",
      "\n",
      "7. **FTC Cigarette Testing Announcement**: A news release from August 1, 1967, announcing the Federal Trade Commission's (FTC) commencement of formal cigarette testing under specified conditions, including butt length, random selection, and reporting of tar and nicotine content.\n",
      "\n",
      "8. **Customer Satisfaction Survey**: A survey form assessing customer satisfaction with R. J. Reynolds' customer service, including questions on representative courtesy, knowledge, and overall satisfaction with the brand.\n",
      "\n",
      "9. **Biographical Sketches**: Brief biographical sketches of key personnel, including Mario Stevenson, an Assistant Professor with a background in Biochemistry, and Moshe Kalina, an Associate Professor specializing in cytochemistry and the surfactant system.\n",
      "\n",
      "Each section provides specific insights into different aspects of the tobacco industry, from regulatory opposition and market strategies to laboratory testing and customer feedback.\n",
      "\n",
      "Summary Report URI:\n",
      "s3://idp-notebook-output-912625584728-us-west-2/sample-2025-04-19_21-52-32.pdf/summary/summary.md\n",
      "\n",
      "Document status: SUMMARIZED\n"
     ]
    }
   ],
   "source": [
    "# Display the summary\n",
    "print(\"\\n\" + \"=\" * 80)\n",
    "print(\"DOCUMENT SUMMARY\")\n",
    "print(\"=\" * 80)\n",
    "\n",
    "# Access the summary content dynamically\n",
    "summary = document.summarization_result.summary\n",
    "print(\"\\nAvailable fields / values in summary:\")\n",
    "for key in summary.keys():\n",
    "    print(\"\\n\" + \"=\" * 40)\n",
    "    print(f\"{key}:\")\n",
    "    print(\"\\n\" + \"=\" * 40)\n",
    "    print(summary.get(key, 'N/A'))\n",
    "\n",
    "# Display summary report URI\n",
    "print(\"\\nSummary Report URI:\")\n",
    "print(document.summary_report_uri)\n",
    "\n",
    "# Document status should already be updated by the service\n",
    "print(f\"\\nDocument status: {document.status.value}\")"
   ]
  },
  {
   "cell_type": "code",
   "execution_count": 9,
   "metadata": {},
   "outputs": [
    {
     "data": {
      "text/markdown": [
       "# Document Summary: doc-for-summarization\n",
       "\n",
       "## Brief Summary\n",
       "The document contains various communications and reports related to the tobacco industry, including opposition to FDA regulation, market promotion strategies, lab testing procedures, and customer satisfaction surveys.\n",
       "\n",
       "## Detailed Summary\n",
       "The document comprises several distinct sections related to the tobacco industry:\n",
       "\n",
       "1. **Opposition to FDA Regulation**: A letter from Will E. Clark, General Manager of the Western Dark Fired Tobacco Growers' Association, dated October 31, 1995, expresses strong opposition to the 'Commitment to our Children' petition. The association, representing 9,000 tobacco producers, argues against FDA regulation of tobacco, citing existing age restriction laws and the potential negative impact on family farms and adult consumer rights.\n",
       "\n",
       "2. **Market Promotion Strategies**: A memorandum from Mel Fallis dated April 3, 1987, outlines a project development timetable for the Situation Analysis and Campaign Development phases for Benson & Hedges and Virginia Slims. The focus is on gathering industry, category, consumer dynamics, and promotion activities information.\n",
       "\n",
       "3. **Lab Services Consistency Report**: A report dated February 28, 1993, details lab services consistency, including sample weights, dilution factors, and consistency percentages for various samples.\n",
       "\n",
       "4. **Tobacco Industry Updates**: Notes from April 20, 1998, summarize recent events in the tobacco industry, including defeated smoking bans in Falmouth, MA, and tabled tobacco retailing ordinances in Waseca and Wadena Counties, MN.\n",
       "\n",
       "5. **Mutation Assay Report**: A detailed report on a mutation assay conducted on Algoral 40 LF, describing the objectives, methods, and results of the test on Chinese Hamster Ovary (CHO) cells.\n",
       "\n",
       "6. **Invoice from Peake Printers**: An invoice dated November 12, 1992, from Peake Printers to The Tobacco Institute for the production of 5,000 two-sided decals.\n",
       "\n",
       "7. **FTC Cigarette Testing Announcement**: A news release from August 1, 1967, announcing the Federal Trade Commission's (FTC) commencement of formal cigarette testing under specified conditions, including butt length, random selection, and reporting of tar and nicotine content.\n",
       "\n",
       "8. **Customer Satisfaction Survey**: A survey form assessing customer satisfaction with R. J. Reynolds' customer service, including questions on representative courtesy, knowledge, and overall satisfaction with the brand.\n",
       "\n",
       "9. **Biographical Sketches**: Brief biographical sketches of key personnel, including Mario Stevenson, an Assistant Professor with a background in Biochemistry, and Moshe Kalina, an Associate Professor specializing in cytochemistry and the surfactant system.\n",
       "\n",
       "Each section provides specific insights into different aspects of the tobacco industry, from regulatory opposition and market strategies to laboratory testing and customer feedback.\n",
       "\n",
       "## Metadata\n",
       "| Key | Value |\n",
       "| --- | --- |\n",
       "\n",
       "\n",
       "Execution time: 8.94 seconds"
      ],
      "text/plain": [
       "<IPython.core.display.Markdown object>"
      ]
     },
     "metadata": {},
     "output_type": "display_data"
    }
   ],
   "source": [
    "# Display rendered markdown summary\n",
    "from IPython.display import Markdown, display\n",
    "\n",
    "# Get the summary report content\n",
    "if document.summary_report_uri:\n",
    "    bucket, key = parse_s3_uri(document.summary_report_uri)\n",
    "    try:\n",
    "        response = s3_client.get_object(Bucket=bucket, Key=key)\n",
    "        report_content = response['Body'].read().decode('utf-8')\n",
    "        # Display the markdown content\n",
    "        display(Markdown(report_content))\n",
    "    except Exception as e:\n",
    "        print(f\"Error retrieving summary report: {str(e)}\")"
   ]
  },
  {
   "cell_type": "markdown",
   "metadata": {},
   "source": [
    "## 7. Test Using the Summary Report"
   ]
  },
  {
   "cell_type": "code",
   "execution_count": 10,
   "metadata": {},
   "outputs": [
    {
     "name": "stdout",
     "output_type": "stream",
     "text": [
      "\n",
      "================================================================================\n",
      "DOCUMENT SERIALIZATION EXAMPLE\n",
      "================================================================================\n",
      "summary_report_uri in document dict: True\n",
      "\n",
      "Summary report URI in document dictionary:\n",
      "  - summary_report_uri: s3://idp-notebook-output-912625584728-us-west-2/sample-2025-04-19_21-52-32.pdf/summary/summary.md\n",
      "\n",
      "Verifying fields were preserved after serialization:\n",
      "  - summary_report_uri matches: True\n",
      "\n",
      "Note: The summarization_result object is not included in the serialization\n",
      "  - Original document has summarization_result: True\n",
      "  - New document from dict has summarization_result: False\n"
     ]
    }
   ],
   "source": [
    "# Create a simple example to demonstrate the Document model serialization\n",
    "print(\"\\n\" + \"=\" * 80)\n",
    "print(\"DOCUMENT SERIALIZATION EXAMPLE\")\n",
    "print(\"=\" * 80)\n",
    "\n",
    "# Convert document to dictionary\n",
    "doc_dict = document.to_dict()\n",
    "\n",
    "# Check that summary_report_uri is included\n",
    "print(f\"summary_report_uri in document dict: {'summary_report_uri' in doc_dict}\")\n",
    "\n",
    "# Show the summary fields in the dictionary\n",
    "print(\"\\nSummary report URI in document dictionary:\")\n",
    "print(f\"  - summary_report_uri: {doc_dict.get('summary_report_uri')}\")\n",
    "\n",
    "# Create a new document from the dictionary\n",
    "new_document = Document.from_dict(doc_dict)\n",
    "\n",
    "# Verify that fields were preserved\n",
    "print(\"\\nVerifying fields were preserved after serialization:\")\n",
    "print(f\"  - summary_report_uri matches: {new_document.summary_report_uri == document.summary_report_uri}\")\n",
    "\n",
    "# The summarization_result object is not included in serialization\n",
    "print(\"\\nNote: The summarization_result object is not included in the serialization\")\n",
    "print(f\"  - Original document has summarization_result: {document.summarization_result is not None}\")\n",
    "print(f\"  - New document from dict has summarization_result: {new_document.summarization_result is not None}\")"
   ]
  },
  {
   "cell_type": "code",
   "execution_count": 11,
   "metadata": {},
   "outputs": [
    {
     "name": "stderr",
     "output_type": "stream",
     "text": [
      "INFO:idp_common.summarization.service:Initialized summarization service with Bedrock backend using model us.amazon.nova-pro-v1:0\n"
     ]
    },
    {
     "name": "stdout",
     "output_type": "stream",
     "text": [
      "\n",
      "================================================================================\n",
      "TESTING FLEXIBLE OUTPUT STRUCTURE\n",
      "================================================================================\n",
      "\n",
      "Summarizing document...\n"
     ]
    },
    {
     "name": "stderr",
     "output_type": "stream",
     "text": [
      "INFO:idp_common.summarization.service:Summarizing text with Bedrock\n",
      "INFO:idp_common.summarization.service:Document summarized successfully. Summary report stored at: s3://idp-notebook-output-912625584728-us-west-2/sample-2025-04-19_21-52-32.pdf/summary/summary.md\n"
     ]
    },
    {
     "name": "stdout",
     "output_type": "stream",
     "text": [
      "Summarization completed in 5.71 seconds\n",
      "\n",
      "Available fields in flexible summary:\n",
      "  - overview\n",
      "  - key_points\n",
      "  - sections\n",
      "  - entities\n",
      "  - conclusion\n",
      "\n",
      "Summary Report URI:\n",
      "s3://idp-notebook-output-912625584728-us-west-2/sample-2025-04-19_21-52-32.pdf/summary/summary.md\n",
      "\n",
      "Successfully retrieved flexible summary report for rendering.\n"
     ]
    }
   ],
   "source": [
    "# Test with differnt format configuration\n",
    "print(\"\\n\" + \"=\" * 80)\n",
    "print(\"TESTING FLEXIBLE OUTPUT STRUCTURE\")\n",
    "print(\"=\" * 80)\n",
    "\n",
    "# Alternative configuration with flexible format\n",
    "FLEXIBLE_CONFIG = {\n",
    "    \"summarization\": {\n",
    "        \"model\": \"us.amazon.nova-pro-v1:0\",\n",
    "        \"temperature\": 0,\n",
    "        \"top_k\": 0.5,\n",
    "        \"system_prompt\": \"You are a document summarization expert who can analyze and summarize documents from various domains including medical, financial, legal, and general business documents. Your task is to create a structured summary that captures the key information, main points, and important details from the document. Your output must be in valid JSON format.\",\n",
    "        \"task_prompt\": \"Analyze the provided document and create a structured summary.\\n\\n<document>\\n{DOCUMENT_TEXT}\\n</document>\\n\\nCreate a summary that captures the essential information from the document. Your summary should be structured and comprehensive.\\n\\nReturn your response as valid JSON with the following structure:\\n```json\\n{\\n  \\\"overview\\\": \\\"A 1-2 sentence overview of what this document is about\\\",\\n  \\\"key_points\\\": [\\\"List of 3-5 key points as bullet points\\\"],\\n  \\\"sections\\\": {\\n    \\\"section1_name\\\": \\\"Summary of section 1\\\",\\n    \\\"section2_name\\\": \\\"Summary of section 2\\\"\\n  },\\n  \\\"entities\\\": [\\\"List of important entities (people, organizations, dates, etc.)\\\"],\\n  \\\"conclusion\\\": \\\"A brief conclusion statement\\\"\\n}\\n```\"\n",
    "    }\n",
    "}\n",
    "\n",
    "# Create summarization service with Bedrock backend\n",
    "summarization_service = summarization.SummarizationService(\n",
    "    config=FLEXIBLE_CONFIG, \n",
    ")\n",
    "\n",
    "# Summarize the document\n",
    "print(\"\\nSummarizing document...\")\n",
    "start_time = time.time()\n",
    "flexible_document = summarization_service.process_document(document)\n",
    "summarization_time = time.time() - start_time\n",
    "\n",
    "print(f\"Summarization completed in {summarization_time:.2f} seconds\")\n",
    "\n",
    "# Show available fields in the flexible summary\n",
    "summary = flexible_document.summarization_result.summary\n",
    "print(\"\\nAvailable fields in flexible summary:\")\n",
    "for key in summary.keys():\n",
    "    print(f\"  - {key}\")\n",
    "\n",
    "# Show the summary report URI\n",
    "print(\"\\nSummary Report URI:\")\n",
    "print(flexible_document.summary_report_uri)\n",
    "\n",
    "# Fetch and prepare the markdown content for rendering\n",
    "flexible_markdown_content = \"No flexible summary report available\"\n",
    "if flexible_document.summary_report_uri:\n",
    "    bucket, key = parse_s3_uri(flexible_document.summary_report_uri)\n",
    "    try:\n",
    "        response = s3_client.get_object(Bucket=bucket, Key=key)\n",
    "        flexible_markdown_content = response['Body'].read().decode('utf-8')\n",
    "        print(\"\\nSuccessfully retrieved flexible summary report for rendering.\")\n",
    "    except Exception as e:\n",
    "        print(f\"Error retrieving flexible summary report: {str(e)}\")"
   ]
  },
  {
   "cell_type": "code",
   "execution_count": 12,
   "metadata": {},
   "outputs": [
    {
     "name": "stdout",
     "output_type": "stream",
     "text": [
      "\n",
      "================================================================================\n",
      "RENDERED FLEXIBLE SUMMARY REPORT\n",
      "================================================================================\n",
      "\n"
     ]
    },
    {
     "data": {
      "text/markdown": [
       "# Document Summary: doc-for-summarization\n",
       "\n",
       "## Overview\n",
       "The document contains various sections related to the tobacco industry, including opposition to FDA regulation, marketing strategies, lab reports, and biographical sketches of researchers.\n",
       "\n",
       "## Key Points\n",
       "- Opposition to FDA regulation of tobacco by the Western Dark Fired Tobacco Growers' Association.\n",
       "- Marketing strategies and project development timetables for tobacco brands.\n",
       "- Lab reports and testing procedures for tobacco products.\n",
       "- Biographical sketches of key personnel involved in tobacco-related research.\n",
       "\n",
       "## Sections\n",
       "### Opposition To Fda Regulation\n",
       "A letter from the Western Dark Fired Tobacco Growers' Association expressing strong opposition to FDA regulation of tobacco, arguing it would create bureaucracy and harm family farms.\n",
       "\n",
       "### Marketing Strategies\n",
       "A memorandum outlining the proposed project development timetable for the Situation Analysis and Campaign Development phases for Benson & Hedges and Virginia Slims.\n",
       "\n",
       "### Lab Reports\n",
       "Various lab reports and testing procedures, including consistency reports, mutation assays, and cigarette testing protocols by the Federal Trade Commission.\n",
       "\n",
       "### Biographical Sketches\n",
       "Biographical sketches of key personnel, including Mario Stevenson and Moshe Kalina, detailing their education, professional experience, and publications.\n",
       "\n",
       "\n",
       "## Entities\n",
       "- Western Dark Fired Tobacco Growers' Association\n",
       "- FDA\n",
       "- Benson & Hedges\n",
       "- Virginia Slims\n",
       "- Federal Trade Commission\n",
       "- Mario Stevenson\n",
       "- Moshe Kalina\n",
       "\n",
       "## Conclusion\n",
       "The document provides a comprehensive view of various aspects of the tobacco industry, including regulatory opposition, marketing strategies, laboratory testing, and biographical information of key researchers.\n",
       "\n",
       "## Metadata\n",
       "| Key | Value |\n",
       "| --- | --- |\n",
       "\n",
       "\n",
       "Execution time: 5.57 seconds"
      ],
      "text/plain": [
       "<IPython.core.display.Markdown object>"
      ]
     },
     "metadata": {},
     "output_type": "display_data"
    }
   ],
   "source": [
    "# Display rendered flexible markdown summary\n",
    "from IPython.display import Markdown, display\n",
    "\n",
    "print(\"\\n\" + \"=\" * 80)\n",
    "print(\"RENDERED FLEXIBLE SUMMARY REPORT\")\n",
    "print(\"=\" * 80 + \"\\n\")\n",
    "\n",
    "# Display the markdown content\n",
    "display(Markdown(flexible_markdown_content))"
   ]
  },
  {
   "cell_type": "code",
   "execution_count": 13,
   "metadata": {},
   "outputs": [
    {
     "name": "stdout",
     "output_type": "stream",
     "text": [
      "\n",
      "================================================================================\n",
      "CONCLUSION\n",
      "================================================================================\n",
      "\n",
      "This notebook has demonstrated the flexible document summarization capabilities of the IDP Common Package:\n",
      "\n",
      "1. **Standard Summary Format** - Using the default structure with brief and detailed summaries\n",
      "2. **Flexible Summary Format** - Using a more complex structure with sections and entities\n",
      "\n",
      "Key benefits of the approach:\n",
      "\n",
      "- Adapt to any summary structure based on document requirements\n",
      "- Configure prompts to generate exactly the fields you need\n",
      "- View rendered markdown reports for better readability\n",
      "- Store and retrieve summaries with consistent interfaces\n",
      "- Works with any LLM supported by the backend\n",
      "\n",
      "Learn more in the documentation: /lib/idp_common_pkg/idp_common/summarization/README.md\n",
      "\n"
     ]
    }
   ],
   "source": [
    "# Conclusion and cleanup\n",
    "print(\"\\n\" + \"=\" * 80)\n",
    "print(\"CONCLUSION\")\n",
    "print(\"=\" * 80)\n",
    "\n",
    "print(\"\"\"\n",
    "This notebook has demonstrated the flexible document summarization capabilities of the IDP Common Package:\n",
    "\n",
    "1. **Standard Summary Format** - Using the default structure with brief and detailed summaries\n",
    "2. **Flexible Summary Format** - Using a more complex structure with sections and entities\n",
    "\n",
    "Key benefits of the approach:\n",
    "\n",
    "- Adapt to any summary structure based on document requirements\n",
    "- Configure prompts to generate exactly the fields you need\n",
    "- View rendered markdown reports for better readability\n",
    "- Store and retrieve summaries with consistent interfaces\n",
    "- Works with any LLM supported by the backend\n",
    "\n",
    "Learn more in the documentation: /lib/idp_common_pkg/idp_common/summarization/README.md\n",
    "\"\"\")\n"
   ]
  }
 ],
 "metadata": {
  "kernelspec": {
   "display_name": "base",
   "language": "python",
   "name": "python3"
  },
  "language_info": {
   "codemirror_mode": {
    "name": "ipython",
    "version": 3
   },
   "file_extension": ".py",
   "mimetype": "text/x-python",
   "name": "python",
   "nbconvert_exporter": "python",
   "pygments_lexer": "ipython3",
   "version": "3.12.2"
  }
 },
 "nbformat": 4,
 "nbformat_minor": 2
}
