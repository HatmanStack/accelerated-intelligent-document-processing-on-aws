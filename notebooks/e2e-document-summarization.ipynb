{
 "cells": [
  {
   "cell_type": "markdown",
   "metadata": {},
   "source": [
    "# Document Summarization with IDP Common Package\n",
    "\n",
    "This notebook demonstrates how to use the document summarization capability of the IDP Common Package to generate concise summaries of documents. The summarization service uses LLMs to analyze document content and produce both brief and detailed summaries, along with a formatted markdown report.\n",
    "\n",
    "**Key Benefits of Document Summarization:**\n",
    "1. Quickly understand the main points of lengthy documents\n",
    "2. Extract essential information without reading the entire document\n",
    "3. Generate consistent summaries across different document types\n",
    "4. Preserve important facts while reducing document length\n",
    "5. Create shareable summary reports in markdown format\n",
    "\n",
    "> **Note**: This notebook uses real AWS services including S3, Textract, and Bedrock. You need valid AWS credentials with appropriate permissions to run this notebook."
   ]
  },
  {
   "cell_type": "markdown",
   "metadata": {},
   "source": [
    "## 1. Install Dependencies\n",
    "\n",
    "Let's install the IDP common package in development mode."
   ]
  },
  {
   "cell_type": "code",
   "execution_count": 1,
   "metadata": {},
   "outputs": [
    {
     "name": "stdout",
     "output_type": "stream",
     "text": [
      "Found existing installation: idp_common 0.2.19\n",
      "Uninstalling idp_common-0.2.19:\n",
      "  Successfully uninstalled idp_common-0.2.19\n",
      "Note: you may need to restart the kernel to use updated packages.\n",
      "Note: you may need to restart the kernel to use updated packages.\n",
      "Version: 0.2.19\n",
      "Location: /Users/miislamg/miniconda3/envs/genaiic-idp-accelerator/lib/python3.13/site-packages\n",
      "Note: you may need to restart the kernel to use updated packages.\n"
     ]
    }
   ],
   "source": [
    "# First uninstall existing package (to ensure we get the latest version)\n",
    "%pip uninstall -y idp_common\n",
    "\n",
    "# Install the IDP common package with all components in development mode\n",
    "%pip install -q -e \"../lib/idp_common_pkg[all]\"\n",
    "\n",
    "# Check installed version\n",
    "%pip show idp_common | grep -E \"Version|Location\""
   ]
  },
  {
   "cell_type": "markdown",
   "metadata": {},
   "source": [
    "## 2. Import Libraries and Set Up Environment"
   ]
  },
  {
   "cell_type": "code",
   "execution_count": 1,
   "metadata": {},
   "outputs": [
    {
     "ename": "NoCredentialsError",
     "evalue": "Unable to locate credentials",
     "output_type": "error",
     "traceback": [
      "\u001b[31m---------------------------------------------------------------------------\u001b[39m",
      "\u001b[31mNoCredentialsError\u001b[39m                        Traceback (most recent call last)",
      "\u001b[36mCell\u001b[39m\u001b[36m \u001b[39m\u001b[32mIn[1]\u001b[39m\u001b[32m, line 25\u001b[39m\n\u001b[32m     23\u001b[39m \u001b[38;5;66;03m# Get AWS account ID for unique bucket names\u001b[39;00m\n\u001b[32m     24\u001b[39m sts_client = boto3.client(\u001b[33m'\u001b[39m\u001b[33msts\u001b[39m\u001b[33m'\u001b[39m)\n\u001b[32m---> \u001b[39m\u001b[32m25\u001b[39m account_id = \u001b[43msts_client\u001b[49m\u001b[43m.\u001b[49m\u001b[43mget_caller_identity\u001b[49m\u001b[43m(\u001b[49m\u001b[43m)\u001b[49m[\u001b[33m\"\u001b[39m\u001b[33mAccount\u001b[39m\u001b[33m\"\u001b[39m]\n\u001b[32m     26\u001b[39m region = os.environ[\u001b[33m'\u001b[39m\u001b[33mAWS_REGION\u001b[39m\u001b[33m'\u001b[39m]\n\u001b[32m     28\u001b[39m \u001b[38;5;66;03m# Define sample PDF path \u001b[39;00m\n",
      "\u001b[36mFile \u001b[39m\u001b[32m~/miniconda3/envs/genaiic-idp-accelerator/lib/python3.13/site-packages/botocore/client.py:570\u001b[39m, in \u001b[36mClientCreator._create_api_method.<locals>._api_call\u001b[39m\u001b[34m(self, *args, **kwargs)\u001b[39m\n\u001b[32m    566\u001b[39m     \u001b[38;5;28;01mraise\u001b[39;00m \u001b[38;5;167;01mTypeError\u001b[39;00m(\n\u001b[32m    567\u001b[39m         \u001b[33mf\u001b[39m\u001b[33m\"\u001b[39m\u001b[38;5;132;01m{\u001b[39;00mpy_operation_name\u001b[38;5;132;01m}\u001b[39;00m\u001b[33m() only accepts keyword arguments.\u001b[39m\u001b[33m\"\u001b[39m\n\u001b[32m    568\u001b[39m     )\n\u001b[32m    569\u001b[39m \u001b[38;5;66;03m# The \"self\" in this scope is referring to the BaseClient.\u001b[39;00m\n\u001b[32m--> \u001b[39m\u001b[32m570\u001b[39m \u001b[38;5;28;01mreturn\u001b[39;00m \u001b[38;5;28;43mself\u001b[39;49m\u001b[43m.\u001b[49m\u001b[43m_make_api_call\u001b[49m\u001b[43m(\u001b[49m\u001b[43moperation_name\u001b[49m\u001b[43m,\u001b[49m\u001b[43m \u001b[49m\u001b[43mkwargs\u001b[49m\u001b[43m)\u001b[49m\n",
      "\u001b[36mFile \u001b[39m\u001b[32m~/miniconda3/envs/genaiic-idp-accelerator/lib/python3.13/site-packages/botocore/context.py:124\u001b[39m, in \u001b[36mwith_current_context.<locals>.decorator.<locals>.wrapper\u001b[39m\u001b[34m(*args, **kwargs)\u001b[39m\n\u001b[32m    122\u001b[39m \u001b[38;5;28;01mif\u001b[39;00m hook:\n\u001b[32m    123\u001b[39m     hook()\n\u001b[32m--> \u001b[39m\u001b[32m124\u001b[39m \u001b[38;5;28;01mreturn\u001b[39;00m \u001b[43mfunc\u001b[49m\u001b[43m(\u001b[49m\u001b[43m*\u001b[49m\u001b[43margs\u001b[49m\u001b[43m,\u001b[49m\u001b[43m \u001b[49m\u001b[43m*\u001b[49m\u001b[43m*\u001b[49m\u001b[43mkwargs\u001b[49m\u001b[43m)\u001b[49m\n",
      "\u001b[36mFile \u001b[39m\u001b[32m~/miniconda3/envs/genaiic-idp-accelerator/lib/python3.13/site-packages/botocore/client.py:1013\u001b[39m, in \u001b[36mBaseClient._make_api_call\u001b[39m\u001b[34m(self, operation_name, api_params)\u001b[39m\n\u001b[32m   1009\u001b[39m     maybe_compress_request(\n\u001b[32m   1010\u001b[39m         \u001b[38;5;28mself\u001b[39m.meta.config, request_dict, operation_model\n\u001b[32m   1011\u001b[39m     )\n\u001b[32m   1012\u001b[39m     apply_request_checksum(request_dict)\n\u001b[32m-> \u001b[39m\u001b[32m1013\u001b[39m     http, parsed_response = \u001b[38;5;28;43mself\u001b[39;49m\u001b[43m.\u001b[49m\u001b[43m_make_request\u001b[49m\u001b[43m(\u001b[49m\n\u001b[32m   1014\u001b[39m \u001b[43m        \u001b[49m\u001b[43moperation_model\u001b[49m\u001b[43m,\u001b[49m\u001b[43m \u001b[49m\u001b[43mrequest_dict\u001b[49m\u001b[43m,\u001b[49m\u001b[43m \u001b[49m\u001b[43mrequest_context\u001b[49m\n\u001b[32m   1015\u001b[39m \u001b[43m    \u001b[49m\u001b[43m)\u001b[49m\n\u001b[32m   1017\u001b[39m \u001b[38;5;28mself\u001b[39m.meta.events.emit(\n\u001b[32m   1018\u001b[39m     \u001b[33mf\u001b[39m\u001b[33m'\u001b[39m\u001b[33mafter-call.\u001b[39m\u001b[38;5;132;01m{\u001b[39;00mservice_id\u001b[38;5;132;01m}\u001b[39;00m\u001b[33m.\u001b[39m\u001b[38;5;132;01m{\u001b[39;00moperation_name\u001b[38;5;132;01m}\u001b[39;00m\u001b[33m'\u001b[39m,\n\u001b[32m   1019\u001b[39m     http_response=http,\n\u001b[32m   (...)\u001b[39m\u001b[32m   1022\u001b[39m     context=request_context,\n\u001b[32m   1023\u001b[39m )\n\u001b[32m   1025\u001b[39m \u001b[38;5;28;01mif\u001b[39;00m http.status_code >= \u001b[32m300\u001b[39m:\n",
      "\u001b[36mFile \u001b[39m\u001b[32m~/miniconda3/envs/genaiic-idp-accelerator/lib/python3.13/site-packages/botocore/client.py:1037\u001b[39m, in \u001b[36mBaseClient._make_request\u001b[39m\u001b[34m(self, operation_model, request_dict, request_context)\u001b[39m\n\u001b[32m   1035\u001b[39m \u001b[38;5;28;01mdef\u001b[39;00m\u001b[38;5;250m \u001b[39m\u001b[34m_make_request\u001b[39m(\u001b[38;5;28mself\u001b[39m, operation_model, request_dict, request_context):\n\u001b[32m   1036\u001b[39m     \u001b[38;5;28;01mtry\u001b[39;00m:\n\u001b[32m-> \u001b[39m\u001b[32m1037\u001b[39m         \u001b[38;5;28;01mreturn\u001b[39;00m \u001b[38;5;28;43mself\u001b[39;49m\u001b[43m.\u001b[49m\u001b[43m_endpoint\u001b[49m\u001b[43m.\u001b[49m\u001b[43mmake_request\u001b[49m\u001b[43m(\u001b[49m\u001b[43moperation_model\u001b[49m\u001b[43m,\u001b[49m\u001b[43m \u001b[49m\u001b[43mrequest_dict\u001b[49m\u001b[43m)\u001b[49m\n\u001b[32m   1038\u001b[39m     \u001b[38;5;28;01mexcept\u001b[39;00m \u001b[38;5;167;01mException\u001b[39;00m \u001b[38;5;28;01mas\u001b[39;00m e:\n\u001b[32m   1039\u001b[39m         \u001b[38;5;28mself\u001b[39m.meta.events.emit(\n\u001b[32m   1040\u001b[39m             \u001b[33mf\u001b[39m\u001b[33m'\u001b[39m\u001b[33mafter-call-error.\u001b[39m\u001b[38;5;132;01m{\u001b[39;00m\u001b[38;5;28mself\u001b[39m._service_model.service_id.hyphenize()\u001b[38;5;132;01m}\u001b[39;00m\u001b[33m.\u001b[39m\u001b[38;5;132;01m{\u001b[39;00moperation_model.name\u001b[38;5;132;01m}\u001b[39;00m\u001b[33m'\u001b[39m,\n\u001b[32m   1041\u001b[39m             exception=e,\n\u001b[32m   1042\u001b[39m             context=request_context,\n\u001b[32m   1043\u001b[39m         )\n",
      "\u001b[36mFile \u001b[39m\u001b[32m~/miniconda3/envs/genaiic-idp-accelerator/lib/python3.13/site-packages/botocore/endpoint.py:119\u001b[39m, in \u001b[36mEndpoint.make_request\u001b[39m\u001b[34m(self, operation_model, request_dict)\u001b[39m\n\u001b[32m    113\u001b[39m \u001b[38;5;28;01mdef\u001b[39;00m\u001b[38;5;250m \u001b[39m\u001b[34mmake_request\u001b[39m(\u001b[38;5;28mself\u001b[39m, operation_model, request_dict):\n\u001b[32m    114\u001b[39m     logger.debug(\n\u001b[32m    115\u001b[39m         \u001b[33m\"\u001b[39m\u001b[33mMaking request for \u001b[39m\u001b[38;5;132;01m%s\u001b[39;00m\u001b[33m with params: \u001b[39m\u001b[38;5;132;01m%s\u001b[39;00m\u001b[33m\"\u001b[39m,\n\u001b[32m    116\u001b[39m         operation_model,\n\u001b[32m    117\u001b[39m         request_dict,\n\u001b[32m    118\u001b[39m     )\n\u001b[32m--> \u001b[39m\u001b[32m119\u001b[39m     \u001b[38;5;28;01mreturn\u001b[39;00m \u001b[38;5;28;43mself\u001b[39;49m\u001b[43m.\u001b[49m\u001b[43m_send_request\u001b[49m\u001b[43m(\u001b[49m\u001b[43mrequest_dict\u001b[49m\u001b[43m,\u001b[49m\u001b[43m \u001b[49m\u001b[43moperation_model\u001b[49m\u001b[43m)\u001b[49m\n",
      "\u001b[36mFile \u001b[39m\u001b[32m~/miniconda3/envs/genaiic-idp-accelerator/lib/python3.13/site-packages/botocore/endpoint.py:196\u001b[39m, in \u001b[36mEndpoint._send_request\u001b[39m\u001b[34m(self, request_dict, operation_model)\u001b[39m\n\u001b[32m    194\u001b[39m context = request_dict[\u001b[33m'\u001b[39m\u001b[33mcontext\u001b[39m\u001b[33m'\u001b[39m]\n\u001b[32m    195\u001b[39m \u001b[38;5;28mself\u001b[39m._update_retries_context(context, attempts)\n\u001b[32m--> \u001b[39m\u001b[32m196\u001b[39m request = \u001b[38;5;28;43mself\u001b[39;49m\u001b[43m.\u001b[49m\u001b[43mcreate_request\u001b[49m\u001b[43m(\u001b[49m\u001b[43mrequest_dict\u001b[49m\u001b[43m,\u001b[49m\u001b[43m \u001b[49m\u001b[43moperation_model\u001b[49m\u001b[43m)\u001b[49m\n\u001b[32m    197\u001b[39m success_response, exception = \u001b[38;5;28mself\u001b[39m._get_response(\n\u001b[32m    198\u001b[39m     request, operation_model, context\n\u001b[32m    199\u001b[39m )\n\u001b[32m    200\u001b[39m \u001b[38;5;28;01mwhile\u001b[39;00m \u001b[38;5;28mself\u001b[39m._needs_retry(\n\u001b[32m    201\u001b[39m     attempts,\n\u001b[32m    202\u001b[39m     operation_model,\n\u001b[32m   (...)\u001b[39m\u001b[32m    205\u001b[39m     exception,\n\u001b[32m    206\u001b[39m ):\n",
      "\u001b[36mFile \u001b[39m\u001b[32m~/miniconda3/envs/genaiic-idp-accelerator/lib/python3.13/site-packages/botocore/endpoint.py:132\u001b[39m, in \u001b[36mEndpoint.create_request\u001b[39m\u001b[34m(self, params, operation_model)\u001b[39m\n\u001b[32m    130\u001b[39m     service_id = operation_model.service_model.service_id.hyphenize()\n\u001b[32m    131\u001b[39m     event_name = \u001b[33mf\u001b[39m\u001b[33m'\u001b[39m\u001b[33mrequest-created.\u001b[39m\u001b[38;5;132;01m{\u001b[39;00mservice_id\u001b[38;5;132;01m}\u001b[39;00m\u001b[33m.\u001b[39m\u001b[38;5;132;01m{\u001b[39;00moperation_model.name\u001b[38;5;132;01m}\u001b[39;00m\u001b[33m'\u001b[39m\n\u001b[32m--> \u001b[39m\u001b[32m132\u001b[39m     \u001b[38;5;28;43mself\u001b[39;49m\u001b[43m.\u001b[49m\u001b[43m_event_emitter\u001b[49m\u001b[43m.\u001b[49m\u001b[43memit\u001b[49m\u001b[43m(\u001b[49m\n\u001b[32m    133\u001b[39m \u001b[43m        \u001b[49m\u001b[43mevent_name\u001b[49m\u001b[43m,\u001b[49m\n\u001b[32m    134\u001b[39m \u001b[43m        \u001b[49m\u001b[43mrequest\u001b[49m\u001b[43m=\u001b[49m\u001b[43mrequest\u001b[49m\u001b[43m,\u001b[49m\n\u001b[32m    135\u001b[39m \u001b[43m        \u001b[49m\u001b[43moperation_name\u001b[49m\u001b[43m=\u001b[49m\u001b[43moperation_model\u001b[49m\u001b[43m.\u001b[49m\u001b[43mname\u001b[49m\u001b[43m,\u001b[49m\n\u001b[32m    136\u001b[39m \u001b[43m    \u001b[49m\u001b[43m)\u001b[49m\n\u001b[32m    137\u001b[39m prepared_request = \u001b[38;5;28mself\u001b[39m.prepare_request(request)\n\u001b[32m    138\u001b[39m \u001b[38;5;28;01mreturn\u001b[39;00m prepared_request\n",
      "\u001b[36mFile \u001b[39m\u001b[32m~/miniconda3/envs/genaiic-idp-accelerator/lib/python3.13/site-packages/botocore/hooks.py:412\u001b[39m, in \u001b[36mEventAliaser.emit\u001b[39m\u001b[34m(self, event_name, **kwargs)\u001b[39m\n\u001b[32m    410\u001b[39m \u001b[38;5;28;01mdef\u001b[39;00m\u001b[38;5;250m \u001b[39m\u001b[34memit\u001b[39m(\u001b[38;5;28mself\u001b[39m, event_name, **kwargs):\n\u001b[32m    411\u001b[39m     aliased_event_name = \u001b[38;5;28mself\u001b[39m._alias_event_name(event_name)\n\u001b[32m--> \u001b[39m\u001b[32m412\u001b[39m     \u001b[38;5;28;01mreturn\u001b[39;00m \u001b[38;5;28;43mself\u001b[39;49m\u001b[43m.\u001b[49m\u001b[43m_emitter\u001b[49m\u001b[43m.\u001b[49m\u001b[43memit\u001b[49m\u001b[43m(\u001b[49m\u001b[43maliased_event_name\u001b[49m\u001b[43m,\u001b[49m\u001b[43m \u001b[49m\u001b[43m*\u001b[49m\u001b[43m*\u001b[49m\u001b[43mkwargs\u001b[49m\u001b[43m)\u001b[49m\n",
      "\u001b[36mFile \u001b[39m\u001b[32m~/miniconda3/envs/genaiic-idp-accelerator/lib/python3.13/site-packages/botocore/hooks.py:256\u001b[39m, in \u001b[36mHierarchicalEmitter.emit\u001b[39m\u001b[34m(self, event_name, **kwargs)\u001b[39m\n\u001b[32m    245\u001b[39m \u001b[38;5;28;01mdef\u001b[39;00m\u001b[38;5;250m \u001b[39m\u001b[34memit\u001b[39m(\u001b[38;5;28mself\u001b[39m, event_name, **kwargs):\n\u001b[32m    246\u001b[39m \u001b[38;5;250m    \u001b[39m\u001b[33;03m\"\"\"\u001b[39;00m\n\u001b[32m    247\u001b[39m \u001b[33;03m    Emit an event by name with arguments passed as keyword args.\u001b[39;00m\n\u001b[32m    248\u001b[39m \n\u001b[32m   (...)\u001b[39m\u001b[32m    254\u001b[39m \u001b[33;03m             handlers.\u001b[39;00m\n\u001b[32m    255\u001b[39m \u001b[33;03m    \"\"\"\u001b[39;00m\n\u001b[32m--> \u001b[39m\u001b[32m256\u001b[39m     \u001b[38;5;28;01mreturn\u001b[39;00m \u001b[38;5;28;43mself\u001b[39;49m\u001b[43m.\u001b[49m\u001b[43m_emit\u001b[49m\u001b[43m(\u001b[49m\u001b[43mevent_name\u001b[49m\u001b[43m,\u001b[49m\u001b[43m \u001b[49m\u001b[43mkwargs\u001b[49m\u001b[43m)\u001b[49m\n",
      "\u001b[36mFile \u001b[39m\u001b[32m~/miniconda3/envs/genaiic-idp-accelerator/lib/python3.13/site-packages/botocore/hooks.py:239\u001b[39m, in \u001b[36mHierarchicalEmitter._emit\u001b[39m\u001b[34m(self, event_name, kwargs, stop_on_response)\u001b[39m\n\u001b[32m    237\u001b[39m \u001b[38;5;28;01mfor\u001b[39;00m handler \u001b[38;5;129;01min\u001b[39;00m handlers_to_call:\n\u001b[32m    238\u001b[39m     logger.debug(\u001b[33m'\u001b[39m\u001b[33mEvent \u001b[39m\u001b[38;5;132;01m%s\u001b[39;00m\u001b[33m: calling handler \u001b[39m\u001b[38;5;132;01m%s\u001b[39;00m\u001b[33m'\u001b[39m, event_name, handler)\n\u001b[32m--> \u001b[39m\u001b[32m239\u001b[39m     response = \u001b[43mhandler\u001b[49m\u001b[43m(\u001b[49m\u001b[43m*\u001b[49m\u001b[43m*\u001b[49m\u001b[43mkwargs\u001b[49m\u001b[43m)\u001b[49m\n\u001b[32m    240\u001b[39m     responses.append((handler, response))\n\u001b[32m    241\u001b[39m     \u001b[38;5;28;01mif\u001b[39;00m stop_on_response \u001b[38;5;129;01mand\u001b[39;00m response \u001b[38;5;129;01mis\u001b[39;00m \u001b[38;5;129;01mnot\u001b[39;00m \u001b[38;5;28;01mNone\u001b[39;00m:\n",
      "\u001b[36mFile \u001b[39m\u001b[32m~/miniconda3/envs/genaiic-idp-accelerator/lib/python3.13/site-packages/botocore/signers.py:106\u001b[39m, in \u001b[36mRequestSigner.handler\u001b[39m\u001b[34m(self, operation_name, request, **kwargs)\u001b[39m\n\u001b[32m    101\u001b[39m \u001b[38;5;28;01mdef\u001b[39;00m\u001b[38;5;250m \u001b[39m\u001b[34mhandler\u001b[39m(\u001b[38;5;28mself\u001b[39m, operation_name=\u001b[38;5;28;01mNone\u001b[39;00m, request=\u001b[38;5;28;01mNone\u001b[39;00m, **kwargs):\n\u001b[32m    102\u001b[39m     \u001b[38;5;66;03m# This is typically hooked up to the \"request-created\" event\u001b[39;00m\n\u001b[32m    103\u001b[39m     \u001b[38;5;66;03m# from a client's event emitter.  When a new request is created\u001b[39;00m\n\u001b[32m    104\u001b[39m     \u001b[38;5;66;03m# this method is invoked to sign the request.\u001b[39;00m\n\u001b[32m    105\u001b[39m     \u001b[38;5;66;03m# Don't call this method directly.\u001b[39;00m\n\u001b[32m--> \u001b[39m\u001b[32m106\u001b[39m     \u001b[38;5;28;01mreturn\u001b[39;00m \u001b[38;5;28;43mself\u001b[39;49m\u001b[43m.\u001b[49m\u001b[43msign\u001b[49m\u001b[43m(\u001b[49m\u001b[43moperation_name\u001b[49m\u001b[43m,\u001b[49m\u001b[43m \u001b[49m\u001b[43mrequest\u001b[49m\u001b[43m)\u001b[49m\n",
      "\u001b[36mFile \u001b[39m\u001b[32m~/miniconda3/envs/genaiic-idp-accelerator/lib/python3.13/site-packages/botocore/signers.py:198\u001b[39m, in \u001b[36mRequestSigner.sign\u001b[39m\u001b[34m(self, operation_name, request, region_name, signing_type, expires_in, signing_name)\u001b[39m\n\u001b[32m    195\u001b[39m     \u001b[38;5;28;01melse\u001b[39;00m:\n\u001b[32m    196\u001b[39m         \u001b[38;5;28;01mraise\u001b[39;00m e\n\u001b[32m--> \u001b[39m\u001b[32m198\u001b[39m \u001b[43mauth\u001b[49m\u001b[43m.\u001b[49m\u001b[43madd_auth\u001b[49m\u001b[43m(\u001b[49m\u001b[43mrequest\u001b[49m\u001b[43m)\u001b[49m\n",
      "\u001b[36mFile \u001b[39m\u001b[32m~/miniconda3/envs/genaiic-idp-accelerator/lib/python3.13/site-packages/botocore/auth.py:424\u001b[39m, in \u001b[36mSigV4Auth.add_auth\u001b[39m\u001b[34m(self, request)\u001b[39m\n\u001b[32m    422\u001b[39m \u001b[38;5;28;01mdef\u001b[39;00m\u001b[38;5;250m \u001b[39m\u001b[34madd_auth\u001b[39m(\u001b[38;5;28mself\u001b[39m, request):\n\u001b[32m    423\u001b[39m     \u001b[38;5;28;01mif\u001b[39;00m \u001b[38;5;28mself\u001b[39m.credentials \u001b[38;5;129;01mis\u001b[39;00m \u001b[38;5;28;01mNone\u001b[39;00m:\n\u001b[32m--> \u001b[39m\u001b[32m424\u001b[39m         \u001b[38;5;28;01mraise\u001b[39;00m NoCredentialsError()\n\u001b[32m    425\u001b[39m     datetime_now = datetime.datetime.utcnow()\n\u001b[32m    426\u001b[39m     request.context[\u001b[33m'\u001b[39m\u001b[33mtimestamp\u001b[39m\u001b[33m'\u001b[39m] = datetime_now.strftime(SIGV4_TIMESTAMP)\n",
      "\u001b[31mNoCredentialsError\u001b[39m: Unable to locate credentials"
     ]
    }
   ],
   "source": [
    "import os\n",
    "import json\n",
    "import time\n",
    "import boto3\n",
    "import logging\n",
    "import datetime\n",
    "\n",
    "# Import base libraries\n",
    "from idp_common.models import Document, Status\n",
    "from idp_common import ocr, summarization\n",
    "\n",
    "# Configure logging\n",
    "logging.basicConfig(level=logging.WARNING)  # Set root logger to WARNING (less verbose)\n",
    "logging.getLogger('idp_common.ocr.service').setLevel(logging.INFO)\n",
    "logging.getLogger('idp_common.summarization.service').setLevel(logging.INFO)\n",
    "logging.getLogger('textractor').setLevel(logging.WARNING)  # Suppress textractor logs\n",
    "\n",
    "# Set environment variables\n",
    "os.environ['METRIC_NAMESPACE'] = 'IDP-Notebook-Example'\n",
    "os.environ['AWS_REGION'] = boto3.session.Session().region_name or 'us-east-1'\n",
    "os.environ['CONFIGURATION_TABLE_NAME'] = 'mock-config-table'\n",
    "\n",
    "# Get AWS account ID for unique bucket names\n",
    "sts_client = boto3.client('sts')\n",
    "account_id = sts_client.get_caller_identity()[\"Account\"]\n",
    "region = os.environ['AWS_REGION']\n",
    "\n",
    "# Define sample PDF path \n",
    "SAMPLE_PDF_PATH = \"../samples/rvl_cdip_package.pdf\"\n",
    "\n",
    "# Create unique bucket names based on account ID and region\n",
    "input_bucket_name = f\"idp-notebook-input-{account_id}-{region}\"\n",
    "output_bucket_name = f\"idp-notebook-output-{account_id}-{region}\"\n",
    "\n",
    "# Helper function to parse S3 URIs\n",
    "def parse_s3_uri(uri):\n",
    "    parts = uri.replace(\"s3://\", \"\").split(\"/\")\n",
    "    bucket = parts[0]\n",
    "    key = \"/\".join(parts[1:])\n",
    "    return bucket, key\n",
    "\n",
    "# Helper function to load JSON from S3\n",
    "def load_json_from_s3(uri):\n",
    "    bucket, key = parse_s3_uri(uri)\n",
    "    response = s3_client.get_object(Bucket=bucket, Key=key)\n",
    "    content = response['Body'].read().decode('utf-8')\n",
    "    return json.loads(content)\n",
    "\n",
    "print(\"Environment setup:\")\n",
    "print(f\"METRIC_NAMESPACE: {os.environ.get('METRIC_NAMESPACE')}\")\n",
    "print(f\"AWS_REGION: {os.environ.get('AWS_REGION')}\")\n",
    "print(f\"Input bucket: {input_bucket_name}\")\n",
    "print(f\"Output bucket: {output_bucket_name}\")\n",
    "print(f\"SAMPLE_PDF_PATH: {SAMPLE_PDF_PATH}\")"
   ]
  },
  {
   "cell_type": "markdown",
   "metadata": {},
   "source": [
    "## 3. Set Up S3 Buckets and Upload Sample File"
   ]
  },
  {
   "cell_type": "code",
   "execution_count": 38,
   "metadata": {},
   "outputs": [
    {
     "name": "stdout",
     "output_type": "stream",
     "text": [
      "Bucket idp-notebook-input-195275636621-us-east-1 already exists\n",
      "Bucket idp-notebook-output-195275636621-us-east-1 already exists\n",
      "Uploaded sample file to: s3://idp-notebook-input-195275636621-us-east-1/sample-2025-04-21_23-00-18.pdf\n"
     ]
    }
   ],
   "source": [
    "# Create S3 client\n",
    "s3_client = boto3.client('s3')\n",
    "\n",
    "# Function to create a bucket if it doesn't exist\n",
    "def ensure_bucket_exists(bucket_name):\n",
    "    try:\n",
    "        s3_client.head_bucket(Bucket=bucket_name)\n",
    "        print(f\"Bucket {bucket_name} already exists\")\n",
    "    except Exception:\n",
    "        try:\n",
    "            if region == 'us-east-1':\n",
    "                s3_client.create_bucket(Bucket=bucket_name)\n",
    "            else:\n",
    "                s3_client.create_bucket(\n",
    "                    Bucket=bucket_name,\n",
    "                    CreateBucketConfiguration={'LocationConstraint': region}\n",
    "                )\n",
    "            print(f\"Created bucket: {bucket_name}\")\n",
    "            \n",
    "            # Wait for bucket to be accessible\n",
    "            waiter = s3_client.get_waiter('bucket_exists')\n",
    "            waiter.wait(Bucket=bucket_name)\n",
    "        except Exception as e:\n",
    "            print(f\"Error creating bucket {bucket_name}: {str(e)}\")\n",
    "            raise\n",
    "\n",
    "# Ensure both buckets exist\n",
    "ensure_bucket_exists(input_bucket_name)\n",
    "ensure_bucket_exists(output_bucket_name)\n",
    "\n",
    "# Upload the sample file to S3\n",
    "sample_file_key = \"sample-\" + datetime.datetime.now().strftime(\"%Y-%m-%d_%H-%M-%S\") + \".pdf\"\n",
    "try:\n",
    "    with open(SAMPLE_PDF_PATH, 'rb') as file_data:\n",
    "        s3_client.upload_fileobj(file_data, input_bucket_name, sample_file_key)\n",
    "    print(f\"Uploaded sample file to: s3://{input_bucket_name}/{sample_file_key}\")\n",
    "except FileNotFoundError:\n",
    "    print(f\"Sample file not found at {SAMPLE_PDF_PATH}. Please ensure the sample file exists.\")\n",
    "    # Use a default sample if available\n",
    "    alt_sample_path = \"../samples/sample.pdf\"\n",
    "    try:\n",
    "        with open(alt_sample_path, 'rb') as file_data:\n",
    "            s3_client.upload_fileobj(file_data, input_bucket_name, sample_file_key)\n",
    "        print(f\"Used alternative sample file: s3://{input_bucket_name}/{sample_file_key}\")\n",
    "    except FileNotFoundError:\n",
    "        print(\"No sample files found. Please create a samples directory with PDF files.\")"
   ]
  },
  {
   "cell_type": "code",
   "execution_count": 39,
   "metadata": {},
   "outputs": [],
   "source": [
    "# Set up configuration for the summarization service - standard format\n",
    "CONFIG = {\n",
    "    \"summarization\": {\n",
    "        \"model\": \"us.amazon.nova-pro-v1:0\",\n",
    "        \"temperature\": 0,\n",
    "        \"top_k\": 0.5,\n",
    "        \"system_prompt\": \"You are a document summarization expert who can analyze and summarize documents from various domains including medical, financial, legal, and general business documents. Your task is to create a summary that captures the key information, main points, and important details from the document. Your output must be in valid JSON format.\\n\\nSummarization Style: Balanced\\nCreate a balanced summary that provides a moderate level of detail. Include the main points and key supporting information, while maintaining the document's overall structure. Aim for a comprehensive yet concise summary.\",\n",
    "        \"task_prompt\": \"Analyze the provided document and create a comprehensive summary.\\n\\n<document>\\n{DOCUMENT_TEXT}\\n</document>\\n\\nCreate a summary that captures the essential information from the document. Your summary should:\\n1. Extract key information, main points, and important details\\n2. Maintain the original document's organizational structure where appropriate\\n3. Preserve important facts, figures, dates, and entities\\n4. Reduce the length while retaining all critical information\\n5. The detailed summary should be approximately 1000 words in length\\n\\nReturn your response as valid JSON with the following structure:\\n```json\\n{\\n  \\\"brief_summary\\\": \\\"A 1-2 sentence overview of what this document is about\\\",\\n  \\\"detailed_summary\\\": \\\"A comprehensive summary following the summarization style\\\"\\n}\\n```\"\n",
    "    }\n",
    "}\n"
   ]
  },
  {
   "cell_type": "code",
   "execution_count": 40,
   "metadata": {},
   "outputs": [],
   "source": [
    "# Optionally, explore or test with different models\n",
    "alternative_models = [\n",
    "    \"us.anthropic.claude-3-5-haiku-20241022-v1:0\",\n",
    "    \"us.anthropic.claude-3-5-sonnet-20241022-v2:0\",\n",
    "    \"us.anthropic.claude-3-7-sonnet-20250219-v1:0\"\n",
    "]"
   ]
  },
  {
   "cell_type": "markdown",
   "metadata": {},
   "source": [
    "## 4. Set Up Configuration"
   ]
  },
  {
   "cell_type": "code",
   "execution_count": 41,
   "metadata": {},
   "outputs": [
    {
     "name": "stderr",
     "output_type": "stream",
     "text": [
      "INFO:idp_common.ocr.service:OCR Service initialized with features: ['LAYOUT']\n"
     ]
    },
    {
     "name": "stdout",
     "output_type": "stream",
     "text": [
      "Created document with ID: doc-for-summarization\n",
      "Status: QUEUED\n",
      "\n",
      "Processing document with OCR...\n"
     ]
    },
    {
     "name": "stderr",
     "output_type": "stream",
     "text": [
      "INFO:idp_common.ocr.service:Successfully extracted markdown text for page 7\n",
      "INFO:idp_common.ocr.service:Successfully extracted markdown text for page 1\n",
      "INFO:idp_common.ocr.service:Successfully extracted markdown text for page 3\n",
      "INFO:idp_common.ocr.service:Successfully extracted markdown text for page 9\n",
      "INFO:idp_common.ocr.service:Successfully extracted markdown text for page 4\n",
      "INFO:idp_common.ocr.service:Successfully extracted markdown text for page 2\n",
      "INFO:idp_common.ocr.service:Successfully extracted markdown text for page 10\n",
      "INFO:idp_common.ocr.service:Successfully extracted markdown text for page 5\n",
      "INFO:idp_common.ocr.service:Successfully extracted markdown text for page 6\n",
      "INFO:idp_common.ocr.service:Successfully extracted markdown text for page 8\n",
      "INFO:idp_common.ocr.service:Sorting 10 pages by page number\n",
      "INFO:idp_common.ocr.service:OCR processing completed in 7.67 seconds\n",
      "INFO:idp_common.ocr.service:Processed 10 pages, with 0 errors\n"
     ]
    },
    {
     "name": "stdout",
     "output_type": "stream",
     "text": [
      "OCR processing completed in 7.67 seconds\n",
      "Document status: OCR_COMPLETED\n",
      "Number of pages processed: 10\n",
      "\n",
      "Processed pages:\n",
      "Page 1:\n",
      "  Image URI: s3://idp-notebook-output-195275636621-us-east-1/sample-2025-04-21_23-00-18.pdf/pages/1/image.jpg\n",
      "  Raw Text URI: s3://idp-notebook-output-195275636621-us-east-1/sample-2025-04-21_23-00-18.pdf/pages/1/rawText.json\n",
      "  Parsed Text URI: s3://idp-notebook-output-195275636621-us-east-1/sample-2025-04-21_23-00-18.pdf/pages/1/result.json\n",
      "Page 2:\n",
      "  Image URI: s3://idp-notebook-output-195275636621-us-east-1/sample-2025-04-21_23-00-18.pdf/pages/2/image.jpg\n",
      "  Raw Text URI: s3://idp-notebook-output-195275636621-us-east-1/sample-2025-04-21_23-00-18.pdf/pages/2/rawText.json\n",
      "  Parsed Text URI: s3://idp-notebook-output-195275636621-us-east-1/sample-2025-04-21_23-00-18.pdf/pages/2/result.json\n",
      "Page 3:\n",
      "  Image URI: s3://idp-notebook-output-195275636621-us-east-1/sample-2025-04-21_23-00-18.pdf/pages/3/image.jpg\n",
      "  Raw Text URI: s3://idp-notebook-output-195275636621-us-east-1/sample-2025-04-21_23-00-18.pdf/pages/3/rawText.json\n",
      "  Parsed Text URI: s3://idp-notebook-output-195275636621-us-east-1/sample-2025-04-21_23-00-18.pdf/pages/3/result.json\n",
      "Page 4:\n",
      "  Image URI: s3://idp-notebook-output-195275636621-us-east-1/sample-2025-04-21_23-00-18.pdf/pages/4/image.jpg\n",
      "  Raw Text URI: s3://idp-notebook-output-195275636621-us-east-1/sample-2025-04-21_23-00-18.pdf/pages/4/rawText.json\n",
      "  Parsed Text URI: s3://idp-notebook-output-195275636621-us-east-1/sample-2025-04-21_23-00-18.pdf/pages/4/result.json\n",
      "Page 5:\n",
      "  Image URI: s3://idp-notebook-output-195275636621-us-east-1/sample-2025-04-21_23-00-18.pdf/pages/5/image.jpg\n",
      "  Raw Text URI: s3://idp-notebook-output-195275636621-us-east-1/sample-2025-04-21_23-00-18.pdf/pages/5/rawText.json\n",
      "  Parsed Text URI: s3://idp-notebook-output-195275636621-us-east-1/sample-2025-04-21_23-00-18.pdf/pages/5/result.json\n",
      "Page 6:\n",
      "  Image URI: s3://idp-notebook-output-195275636621-us-east-1/sample-2025-04-21_23-00-18.pdf/pages/6/image.jpg\n",
      "  Raw Text URI: s3://idp-notebook-output-195275636621-us-east-1/sample-2025-04-21_23-00-18.pdf/pages/6/rawText.json\n",
      "  Parsed Text URI: s3://idp-notebook-output-195275636621-us-east-1/sample-2025-04-21_23-00-18.pdf/pages/6/result.json\n",
      "Page 7:\n",
      "  Image URI: s3://idp-notebook-output-195275636621-us-east-1/sample-2025-04-21_23-00-18.pdf/pages/7/image.jpg\n",
      "  Raw Text URI: s3://idp-notebook-output-195275636621-us-east-1/sample-2025-04-21_23-00-18.pdf/pages/7/rawText.json\n",
      "  Parsed Text URI: s3://idp-notebook-output-195275636621-us-east-1/sample-2025-04-21_23-00-18.pdf/pages/7/result.json\n",
      "Page 8:\n",
      "  Image URI: s3://idp-notebook-output-195275636621-us-east-1/sample-2025-04-21_23-00-18.pdf/pages/8/image.jpg\n",
      "  Raw Text URI: s3://idp-notebook-output-195275636621-us-east-1/sample-2025-04-21_23-00-18.pdf/pages/8/rawText.json\n",
      "  Parsed Text URI: s3://idp-notebook-output-195275636621-us-east-1/sample-2025-04-21_23-00-18.pdf/pages/8/result.json\n",
      "Page 9:\n",
      "  Image URI: s3://idp-notebook-output-195275636621-us-east-1/sample-2025-04-21_23-00-18.pdf/pages/9/image.jpg\n",
      "  Raw Text URI: s3://idp-notebook-output-195275636621-us-east-1/sample-2025-04-21_23-00-18.pdf/pages/9/rawText.json\n",
      "  Parsed Text URI: s3://idp-notebook-output-195275636621-us-east-1/sample-2025-04-21_23-00-18.pdf/pages/9/result.json\n",
      "Page 10:\n",
      "  Image URI: s3://idp-notebook-output-195275636621-us-east-1/sample-2025-04-21_23-00-18.pdf/pages/10/image.jpg\n",
      "  Raw Text URI: s3://idp-notebook-output-195275636621-us-east-1/sample-2025-04-21_23-00-18.pdf/pages/10/rawText.json\n",
      "  Parsed Text URI: s3://idp-notebook-output-195275636621-us-east-1/sample-2025-04-21_23-00-18.pdf/pages/10/result.json\n"
     ]
    }
   ],
   "source": [
    "# Initialize a new Document\n",
    "document = Document(\n",
    "    id=\"doc-for-summarization\",\n",
    "    input_bucket=input_bucket_name,\n",
    "    input_key=sample_file_key,\n",
    "    output_bucket=output_bucket_name,\n",
    "    status=Status.QUEUED\n",
    ")\n",
    "\n",
    "print(f\"Created document with ID: {document.id}\")\n",
    "print(f\"Status: {document.status.value}\")\n",
    "\n",
    "# Create OCR service with Textract\n",
    "# Valid features are 'LAYOUT', 'FORMS', 'SIGNATURES', 'TABLES' (uses analyze_document API)\n",
    "# or leave it empty (to use basic detect_document_text API)\n",
    "ocr_service = ocr.OcrService(\n",
    "    region=region,\n",
    "    enhanced_features=['LAYOUT']\n",
    ")\n",
    "\n",
    "# Process document with OCR\n",
    "print(\"\\nProcessing document with OCR...\")\n",
    "start_time = time.time()\n",
    "document = ocr_service.process_document(document)\n",
    "ocr_time = time.time() - start_time\n",
    "\n",
    "print(f\"OCR processing completed in {ocr_time:.2f} seconds\")\n",
    "print(f\"Document status: {document.status.value}\")\n",
    "print(f\"Number of pages processed: {document.num_pages}\")\n",
    "\n",
    "# Show pages information\n",
    "print(\"\\nProcessed pages:\")\n",
    "for page_id, page in document.pages.items():\n",
    "    print(f\"Page {page_id}:\")\n",
    "    print(f\"  Image URI: {page.image_uri}\")\n",
    "    print(f\"  Raw Text URI: {page.raw_text_uri}\")\n",
    "    print(f\"  Parsed Text URI: {page.parsed_text_uri}\")"
   ]
  },
  {
   "cell_type": "markdown",
   "metadata": {},
   "source": [
    "## 6. Summarize the Document"
   ]
  },
  {
   "cell_type": "code",
   "execution_count": 42,
   "metadata": {},
   "outputs": [
    {
     "name": "stderr",
     "output_type": "stream",
     "text": [
      "INFO:idp_common.summarization.service:Initialized summarization service with Bedrock backend using model us.amazon.nova-pro-v1:0\n"
     ]
    },
    {
     "name": "stdout",
     "output_type": "stream",
     "text": [
      "\n",
      "Summarizing document...\n"
     ]
    },
    {
     "ename": "AttributeError",
     "evalue": "'SummarizationService' object has no attribute 'process_document'",
     "output_type": "error",
     "traceback": [
      "\u001b[31m---------------------------------------------------------------------------\u001b[39m",
      "\u001b[31mAttributeError\u001b[39m                            Traceback (most recent call last)",
      "\u001b[36mCell\u001b[39m\u001b[36m \u001b[39m\u001b[32mIn[42]\u001b[39m\u001b[32m, line 10\u001b[39m\n\u001b[32m      8\u001b[39m \u001b[38;5;28mprint\u001b[39m(\u001b[33m\"\u001b[39m\u001b[38;5;130;01m\\n\u001b[39;00m\u001b[33mSummarizing document...\u001b[39m\u001b[33m\"\u001b[39m)\n\u001b[32m      9\u001b[39m start_time = time.time()\n\u001b[32m---> \u001b[39m\u001b[32m10\u001b[39m document = \u001b[43msummarization_service\u001b[49m\u001b[43m.\u001b[49m\u001b[43mprocess_document\u001b[49m(document)\n\u001b[32m     11\u001b[39m summarization_time = time.time() - start_time\n\u001b[32m     13\u001b[39m \u001b[38;5;28mprint\u001b[39m(\u001b[33mf\u001b[39m\u001b[33m\"\u001b[39m\u001b[33mSummarization completed in \u001b[39m\u001b[38;5;132;01m{\u001b[39;00msummarization_time\u001b[38;5;132;01m:\u001b[39;00m\u001b[33m.2f\u001b[39m\u001b[38;5;132;01m}\u001b[39;00m\u001b[33m seconds\u001b[39m\u001b[33m\"\u001b[39m)\n",
      "\u001b[31mAttributeError\u001b[39m: 'SummarizationService' object has no attribute 'process_document'"
     ]
    }
   ],
   "source": [
    "# Create summarization service with Bedrock backend\n",
    "summarization_service = summarization.SummarizationService(\n",
    "    config=CONFIG, \n",
    "    backend=\"bedrock\"\n",
    ")\n",
    "\n",
    "# Summarize the document\n",
    "print(\"\\nSummarizing document...\")\n",
    "start_time = time.time()\n",
    "document = summarization_service.process_document(document)\n",
    "summarization_time = time.time() - start_time\n",
    "\n",
    "print(f\"Summarization completed in {summarization_time:.2f} seconds\")\n"
   ]
  },
  {
   "cell_type": "code",
   "execution_count": 8,
   "metadata": {},
   "outputs": [
    {
     "name": "stdout",
     "output_type": "stream",
     "text": [
      "\n",
      "================================================================================\n",
      "DOCUMENT SUMMARY\n",
      "================================================================================\n",
      "\n",
      "Available fields / values in summary:\n",
      "\n",
      "========================================\n",
      "brief_summary:\n",
      "\n",
      "========================================\n",
      "The document contains various communications and reports related to the tobacco industry, including opposition to FDA regulation, market promotion strategies, lab testing reports, and customer satisfaction surveys.\n",
      "\n",
      "========================================\n",
      "detailed_summary:\n",
      "\n",
      "========================================\n",
      "The document consists of multiple sections related to the tobacco industry, each addressing different aspects and concerns. \n",
      "\n",
      "1. **Opposition to FDA Regulation**: A letter from Will E. Clark, General Manager of the Western Dark Fired Tobacco Growers' Association, dated October 31, 1995, expresses strong opposition to the 'Commitment to our Children' petition. The association, representing 9,000 tobacco producers, argues against additional government bureaucracy and supports better enforcement of existing age restriction laws rather than creating new regulations.\n",
      "\n",
      "2. **Market Promotion Strategy**: A memorandum from Mel Fallis dated April 3, 1987, outlines the proposed project development timetable for the Situation Analysis and Campaign Development phases for Benson & Hedges and Virginia Slims. The focus is on gathering industry, category, consumer dynamics, and promotion activities information.\n",
      "\n",
      "3. **Lab Services Consistency Report**: A report dated February 28, 1993, details the consistency of lab services, including drying times, sample weights, and consistency percentages for various samples.\n",
      "\n",
      "4. **Tobacco Industry Updates**: A series of updates from April 1998 regarding tobacco industry actions in different locations, including Falmouth, MA, Waseca County, MN, and Wadena County, MN, discussing local ordinances and community responses to tobacco regulations.\n",
      "\n",
      "5. **Mutation Assay Report**: A detailed report on a mutation assay conducted on Algoral 40 LF, sponsored by the American Cyanamid Company, describing the objectives, methods, and results of the assay.\n",
      "\n",
      "6. **Invoice from Peake Printers**: An invoice dated November 12, 1992, from Peake Printers to The Tobacco Institute for the production of decals, totaling $5,453.70.\n",
      "\n",
      "7. **FTC Cigarette Testing Announcement**: A news release from the Federal Trade Commission dated August 1, 1967, announcing the commencement of formal cigarette testing under specific conditions, including random selection of cigarettes, determination of particulate matter, and reporting of tar and nicotine content.\n",
      "\n",
      "8. **Customer Satisfaction Survey**: A survey form seeking feedback on customer satisfaction with phone call representatives, overall satisfaction with R. J. Reynolds' response, and likelihood of continued brand purchase and recommendation.\n",
      "\n",
      "9. **Biographical Sketches**: Brief biographical sketches of key personnel, including Mario Stevenson, an Assistant Professor with a background in Biochemistry, and Moshe Kalina, an Associate Professor with a focus on the surfactant system.\n",
      "\n",
      "Each section provides specific insights into different facets of the tobacco industry, from regulatory opposition and market strategies to scientific research and customer feedback.\n",
      "\n",
      "Summary Report URI:\n",
      "s3://idp-notebook-output-912625584728-us-west-2/sample-2025-04-21_20-17-10.pdf/summary/summary.md\n",
      "\n",
      "Document status: SUMMARIZED\n"
     ]
    }
   ],
   "source": [
    "# Display the summary\n",
    "print(\"\\n\" + \"=\" * 80)\n",
    "print(\"DOCUMENT SUMMARY\")\n",
    "print(\"=\" * 80)\n",
    "\n",
    "# Access the summary content dynamically\n",
    "summary = document.summarization_result.summary\n",
    "print(\"\\nAvailable fields / values in summary:\")\n",
    "for key in summary.keys():\n",
    "    print(\"\\n\" + \"=\" * 40)\n",
    "    print(f\"{key}:\")\n",
    "    print(\"\\n\" + \"=\" * 40)\n",
    "    print(summary.get(key, 'N/A'))\n",
    "\n",
    "# Display summary report URI\n",
    "print(\"\\nSummary Report URI:\")\n",
    "print(document.summary_report_uri)\n",
    "\n",
    "# Document status should already be updated by the service\n",
    "print(f\"\\nDocument status: {document.status.value}\")"
   ]
  },
  {
   "cell_type": "code",
   "execution_count": 9,
   "metadata": {},
   "outputs": [
    {
     "data": {
      "text/markdown": [
       "# Document Summary: doc-for-summarization\n",
       "\n",
       "## Brief Summary\n",
       "The document contains various communications and reports related to the tobacco industry, including opposition to FDA regulation, market promotion strategies, lab testing reports, and customer satisfaction surveys.\n",
       "\n",
       "## Detailed Summary\n",
       "The document consists of multiple sections related to the tobacco industry, each addressing different aspects and concerns. \n",
       "\n",
       "1. **Opposition to FDA Regulation**: A letter from Will E. Clark, General Manager of the Western Dark Fired Tobacco Growers' Association, dated October 31, 1995, expresses strong opposition to the 'Commitment to our Children' petition. The association, representing 9,000 tobacco producers, argues against additional government bureaucracy and supports better enforcement of existing age restriction laws rather than creating new regulations.\n",
       "\n",
       "2. **Market Promotion Strategy**: A memorandum from Mel Fallis dated April 3, 1987, outlines the proposed project development timetable for the Situation Analysis and Campaign Development phases for Benson & Hedges and Virginia Slims. The focus is on gathering industry, category, consumer dynamics, and promotion activities information.\n",
       "\n",
       "3. **Lab Services Consistency Report**: A report dated February 28, 1993, details the consistency of lab services, including drying times, sample weights, and consistency percentages for various samples.\n",
       "\n",
       "4. **Tobacco Industry Updates**: A series of updates from April 1998 regarding tobacco industry actions in different locations, including Falmouth, MA, Waseca County, MN, and Wadena County, MN, discussing local ordinances and community responses to tobacco regulations.\n",
       "\n",
       "5. **Mutation Assay Report**: A detailed report on a mutation assay conducted on Algoral 40 LF, sponsored by the American Cyanamid Company, describing the objectives, methods, and results of the assay.\n",
       "\n",
       "6. **Invoice from Peake Printers**: An invoice dated November 12, 1992, from Peake Printers to The Tobacco Institute for the production of decals, totaling $5,453.70.\n",
       "\n",
       "7. **FTC Cigarette Testing Announcement**: A news release from the Federal Trade Commission dated August 1, 1967, announcing the commencement of formal cigarette testing under specific conditions, including random selection of cigarettes, determination of particulate matter, and reporting of tar and nicotine content.\n",
       "\n",
       "8. **Customer Satisfaction Survey**: A survey form seeking feedback on customer satisfaction with phone call representatives, overall satisfaction with R. J. Reynolds' response, and likelihood of continued brand purchase and recommendation.\n",
       "\n",
       "9. **Biographical Sketches**: Brief biographical sketches of key personnel, including Mario Stevenson, an Assistant Professor with a background in Biochemistry, and Moshe Kalina, an Associate Professor with a focus on the surfactant system.\n",
       "\n",
       "Each section provides specific insights into different facets of the tobacco industry, from regulatory opposition and market strategies to scientific research and customer feedback.\n",
       "\n",
       "## Metadata\n",
       "| Key | Value |\n",
       "| --- | --- |\n",
       "\n",
       "\n",
       "Execution time: 9.63 seconds"
      ],
      "text/plain": [
       "<IPython.core.display.Markdown object>"
      ]
     },
     "metadata": {},
     "output_type": "display_data"
    }
   ],
   "source": [
    "# Display rendered markdown summary\n",
    "from IPython.display import Markdown, display\n",
    "\n",
    "# Get the summary report content\n",
    "if document.summary_report_uri:\n",
    "    bucket, key = parse_s3_uri(document.summary_report_uri)\n",
    "    try:\n",
    "        response = s3_client.get_object(Bucket=bucket, Key=key)\n",
    "        report_content = response['Body'].read().decode('utf-8')\n",
    "        # Display the markdown content\n",
    "        display(Markdown(report_content))\n",
    "    except Exception as e:\n",
    "        print(f\"Error retrieving summary report: {str(e)}\")"
   ]
  },
  {
   "cell_type": "markdown",
   "metadata": {},
   "source": [
    "## 7. Test Using the Summary Report"
   ]
  },
  {
   "cell_type": "code",
   "execution_count": 10,
   "metadata": {},
   "outputs": [
    {
     "name": "stdout",
     "output_type": "stream",
     "text": [
      "\n",
      "================================================================================\n",
      "DOCUMENT SERIALIZATION EXAMPLE\n",
      "================================================================================\n",
      "summary_report_uri in document dict: True\n",
      "\n",
      "Summary report URI in document dictionary:\n",
      "  - summary_report_uri: s3://idp-notebook-output-912625584728-us-west-2/sample-2025-04-21_20-17-10.pdf/summary/summary.md\n",
      "\n",
      "Verifying fields were preserved after serialization:\n",
      "  - summary_report_uri matches: True\n",
      "\n",
      "Note: The summarization_result object is not included in the serialization\n",
      "  - Original document has summarization_result: True\n",
      "  - New document from dict has summarization_result: False\n"
     ]
    }
   ],
   "source": [
    "# Create a simple example to demonstrate the Document model serialization\n",
    "print(\"\\n\" + \"=\" * 80)\n",
    "print(\"DOCUMENT SERIALIZATION EXAMPLE\")\n",
    "print(\"=\" * 80)\n",
    "\n",
    "# Convert document to dictionary\n",
    "doc_dict = document.to_dict()\n",
    "\n",
    "# Check that summary_report_uri is included\n",
    "print(f\"summary_report_uri in document dict: {'summary_report_uri' in doc_dict}\")\n",
    "\n",
    "# Show the summary fields in the dictionary\n",
    "print(\"\\nSummary report URI in document dictionary:\")\n",
    "print(f\"  - summary_report_uri: {doc_dict.get('summary_report_uri')}\")\n",
    "\n",
    "# Create a new document from the dictionary\n",
    "new_document = Document.from_dict(doc_dict)\n",
    "\n",
    "# Verify that fields were preserved\n",
    "print(\"\\nVerifying fields were preserved after serialization:\")\n",
    "print(f\"  - summary_report_uri matches: {new_document.summary_report_uri == document.summary_report_uri}\")\n",
    "\n",
    "# The summarization_result object is not included in serialization\n",
    "print(\"\\nNote: The summarization_result object is not included in the serialization\")\n",
    "print(f\"  - Original document has summarization_result: {document.summarization_result is not None}\")\n",
    "print(f\"  - New document from dict has summarization_result: {new_document.summarization_result is not None}\")"
   ]
  },
  {
   "cell_type": "code",
   "execution_count": 11,
   "metadata": {},
   "outputs": [
    {
     "name": "stderr",
     "output_type": "stream",
     "text": [
      "INFO:idp_common.summarization.service:Initialized summarization service with Bedrock backend using model us.amazon.nova-pro-v1:0\n"
     ]
    },
    {
     "name": "stdout",
     "output_type": "stream",
     "text": [
      "\n",
      "================================================================================\n",
      "TESTING FLEXIBLE OUTPUT STRUCTURE\n",
      "================================================================================\n",
      "\n",
      "Summarizing document...\n"
     ]
    },
    {
     "name": "stderr",
     "output_type": "stream",
     "text": [
      "INFO:idp_common.summarization.service:Summarizing text with Bedrock\n",
      "INFO:idp_common.summarization.service:Document summarized successfully. Summary report stored at: s3://idp-notebook-output-912625584728-us-west-2/sample-2025-04-21_20-17-10.pdf/summary/summary.md\n"
     ]
    },
    {
     "name": "stdout",
     "output_type": "stream",
     "text": [
      "Summarization completed in 8.54 seconds\n",
      "\n",
      "Available fields in flexible summary:\n",
      "  - overview\n",
      "  - key_points\n",
      "  - sections\n",
      "  - entities\n",
      "  - conclusion\n",
      "\n",
      "Summary Report URI:\n",
      "s3://idp-notebook-output-912625584728-us-west-2/sample-2025-04-21_20-17-10.pdf/summary/summary.md\n",
      "\n",
      "Successfully retrieved flexible summary report for rendering.\n"
     ]
    }
   ],
   "source": [
    "# Test with differnt format configuration\n",
    "print(\"\\n\" + \"=\" * 80)\n",
    "print(\"TESTING FLEXIBLE OUTPUT STRUCTURE\")\n",
    "print(\"=\" * 80)\n",
    "\n",
    "# Alternative configuration with flexible format\n",
    "FLEXIBLE_CONFIG = {\n",
    "    \"summarization\": {\n",
    "        \"model\": \"us.amazon.nova-pro-v1:0\",\n",
    "        \"temperature\": 0,\n",
    "        \"top_k\": 0.5,\n",
    "        \"system_prompt\": \"You are a document summarization expert who can analyze and summarize documents from various domains including medical, financial, legal, and general business documents. Your task is to create a structured summary that captures the key information, main points, and important details from the document. Your output must be in valid JSON format.\",\n",
    "        \"task_prompt\": \"Analyze the provided document and create a structured summary.\\n\\n<document>\\n{DOCUMENT_TEXT}\\n</document>\\n\\nCreate a summary that captures the essential information from the document. Your summary should be structured and comprehensive.\\n\\nReturn your response as valid JSON with the following structure:\\n```json\\n{\\n  \\\"overview\\\": \\\"A 1-2 sentence overview of what this document is about\\\",\\n  \\\"key_points\\\": [\\\"List of 3-5 key points as bullet points\\\"],\\n  \\\"sections\\\": {\\n    \\\"section1_name\\\": \\\"Summary of section 1\\\",\\n    \\\"section2_name\\\": \\\"Summary of section 2\\\"\\n  },\\n  \\\"entities\\\": [\\\"List of important entities (people, organizations, dates, etc.)\\\"],\\n  \\\"conclusion\\\": \\\"A brief conclusion statement\\\"\\n}\\n```\"\n",
    "    }\n",
    "}\n",
    "\n",
    "# Create summarization service with Bedrock backend\n",
    "summarization_service = summarization.SummarizationService(\n",
    "    config=FLEXIBLE_CONFIG, \n",
    ")\n",
    "\n",
    "# Summarize the document\n",
    "print(\"\\nSummarizing document...\")\n",
    "start_time = time.time()\n",
    "flexible_document = summarization_service.process_document(document)\n",
    "summarization_time = time.time() - start_time\n",
    "\n",
    "print(f\"Summarization completed in {summarization_time:.2f} seconds\")\n",
    "\n",
    "# Show available fields in the flexible summary\n",
    "summary = flexible_document.summarization_result.summary\n",
    "print(\"\\nAvailable fields in flexible summary:\")\n",
    "for key in summary.keys():\n",
    "    print(f\"  - {key}\")\n",
    "\n",
    "# Show the summary report URI\n",
    "print(\"\\nSummary Report URI:\")\n",
    "print(flexible_document.summary_report_uri)\n",
    "\n",
    "# Fetch and prepare the markdown content for rendering\n",
    "flexible_markdown_content = \"No flexible summary report available\"\n",
    "if flexible_document.summary_report_uri:\n",
    "    bucket, key = parse_s3_uri(flexible_document.summary_report_uri)\n",
    "    try:\n",
    "        response = s3_client.get_object(Bucket=bucket, Key=key)\n",
    "        flexible_markdown_content = response['Body'].read().decode('utf-8')\n",
    "        print(\"\\nSuccessfully retrieved flexible summary report for rendering.\")\n",
    "    except Exception as e:\n",
    "        print(f\"Error retrieving flexible summary report: {str(e)}\")"
   ]
  },
  {
   "cell_type": "code",
   "execution_count": 12,
   "metadata": {},
   "outputs": [
    {
     "name": "stdout",
     "output_type": "stream",
     "text": [
      "\n",
      "================================================================================\n",
      "RENDERED FLEXIBLE SUMMARY REPORT\n",
      "================================================================================\n",
      "\n"
     ]
    },
    {
     "data": {
      "text/markdown": [
       "# Document Summary: doc-for-summarization\n",
       "\n",
       "## Overview\n",
       "This document contains various sections related to the tobacco industry, including opposition to FDA regulation, market promotion strategies, lab testing reports, and customer satisfaction surveys.\n",
       "\n",
       "## Key Points\n",
       "- Opposition to FDA regulation of tobacco by the Western Dark Fired Tobacco Growers' Association.\n",
       "- Market promotion strategies for Benson & Hedges and Virginia Slims.\n",
       "- Details of lab testing for mutation assays and consistency reports.\n",
       "- Customer satisfaction survey regarding R. J. Reynolds' service.\n",
       "- Biographical sketches and curriculum vitae of key personnel in research roles.\n",
       "\n",
       "## Sections\n",
       "### Opposition To Fda Regulation\n",
       "A letter from the Western Dark Fired Tobacco Growers' Association expressing strong opposition to FDA regulation of tobacco, arguing it would create bureaucracy and harm family farms.\n",
       "\n",
       "### Market Promotion Strategies\n",
       "A memorandum outlining the project development timetable for market promotion of Benson & Hedges and Virginia Slims, including situation analysis and campaign development phases.\n",
       "\n",
       "### Lab Testing Reports\n",
       "Various lab testing reports including consistency reports, mutation assays, and details of testing procedures and results.\n",
       "\n",
       "### Customer Satisfaction Survey\n",
       "A survey form assessing customer satisfaction with R. J. Reynolds' service, including questions on courtesy, knowledge, and likelihood of continued purchase and recommendation.\n",
       "\n",
       "### Biographical Sketches And Cv\n",
       "Biographical sketches and curriculum vitae of key personnel, detailing their education, professional experience, honors, and publications.\n",
       "\n",
       "\n",
       "## Entities\n",
       "- Western Dark Fired Tobacco Growers' Association\n",
       "- Wendell H. Ford\n",
       "- FDA\n",
       "- Benson & Hedges\n",
       "- Virginia Slims\n",
       "- Mel Fallis\n",
       "- Mario Stevenson\n",
       "- Moshe Kalina\n",
       "- Federal Trade Commission\n",
       "- R. J. Reynolds\n",
       "\n",
       "## Conclusion\n",
       "The document provides a comprehensive view of various aspects within the tobacco industry, from regulatory opposition and market strategies to lab testing and customer satisfaction.\n",
       "\n",
       "## Metadata\n",
       "| Key | Value |\n",
       "| --- | --- |\n",
       "\n",
       "\n",
       "Execution time: 8.24 seconds"
      ],
      "text/plain": [
       "<IPython.core.display.Markdown object>"
      ]
     },
     "metadata": {},
     "output_type": "display_data"
    }
   ],
   "source": [
    "# Display rendered flexible markdown summary\n",
    "from IPython.display import Markdown, display\n",
    "\n",
    "print(\"\\n\" + \"=\" * 80)\n",
    "print(\"RENDERED FLEXIBLE SUMMARY REPORT\")\n",
    "print(\"=\" * 80 + \"\\n\")\n",
    "\n",
    "# Display the markdown content\n",
    "display(Markdown(flexible_markdown_content))"
   ]
  },
  {
   "cell_type": "markdown",
   "metadata": {},
   "source": [
    "# Conclusion and cleanup\n",
    "\n",
    "This notebook has demonstrated the flexible document summarization capabilities of the IDP Common Package:\n",
    "\n",
    "1. **Standard Summary Format** - Using the default structure with brief and detailed summaries\n",
    "2. **Flexible Summary Format** - Using a more complex structure with sections and entities\n",
    "\n",
    "Key benefits of the approach:\n",
    "\n",
    "- Adapt to any summary structure based on document requirements\n",
    "- Configure prompts to generate exactly the fields you need\n",
    "- View rendered markdown reports for better readability\n",
    "- Store and retrieve summaries with consistent interfaces\n",
    "- Works with any LLM supported by the backend\n",
    "\n",
    "Learn more in the documentation: /lib/idp_common_pkg/idp_common/summarization/README.md"
   ]
  }
 ],
 "metadata": {
  "kernelspec": {
   "display_name": "genaiic-idp-accelerator",
   "language": "python",
   "name": "python3"
  },
  "language_info": {
   "codemirror_mode": {
    "name": "ipython",
    "version": 3
   },
   "file_extension": ".py",
   "mimetype": "text/x-python",
   "name": "python",
   "nbconvert_exporter": "python",
   "pygments_lexer": "ipython3",
   "version": "3.13.2"
  }
 },
 "nbformat": 4,
 "nbformat_minor": 2
}
