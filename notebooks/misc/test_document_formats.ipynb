{
 "cells": [
  {
   "cell_type": "markdown",
   "metadata": {},
   "source": [
    "# Multi-Format Document Processing Demo\n",
    "\n",
    "This notebook demonstrates the DocumentConverter's ability to process different document formats:\n",
    "- Plain Text (.txt)\n",
    "- CSV files (.csv)\n",
    "- Excel files (.xlsx)\n",
    "- Word documents (.docx)\n",
    "\n",
    "All formats are converted to page images and text for processing in the IDP pipeline."
   ]
  },
  {
   "cell_type": "markdown",
   "metadata": {},
   "source": [
    "## Setup and Imports"
   ]
  },
  {
   "cell_type": "code",
   "execution_count": null,
   "metadata": {},
   "outputs": [],
   "source": [
    "import sys\n",
    "import os\n",
    "import io\n",
    "import tempfile\n",
    "import time\n",
    "from PIL import Image\n",
    "import pandas as pd\n",
    "from docx import Document as WordDocument\n",
    "\n",
    "# Add the idp_common package to the path\n",
    "sys.path.insert(0, '../../lib/idp_common_pkg')\n",
    "from idp_common.ocr.document_converter import DocumentConverter\n",
    "\n",
    "print(\"✅ All imports successful\")"
   ]
  },
  {
   "cell_type": "markdown",
   "metadata": {},
   "source": [
    "## Initialize Document Converter"
   ]
  },
  {
   "cell_type": "code",
   "execution_count": null,
   "metadata": {},
   "outputs": [],
   "source": [
    "# Initialize DocumentConverter with good quality DPI\n",
    "converter = DocumentConverter(dpi=150)\n",
    "\n",
    "print(f\"✅ DocumentConverter initialized\")\n",
    "print(f\"   DPI: {converter.dpi}\")\n",
    "print(f\"   Page size: {converter.page_width}x{converter.page_height} pixels\")"
   ]
  },
  {
   "cell_type": "markdown",
   "metadata": {},
   "source": [
    "## Helper Functions"
   ]
  },
  {
   "cell_type": "code",
   "execution_count": null,
   "metadata": {},
   "outputs": [],
   "source": [
    "def process_and_display(content, format_name, convert_method):\n",
    "    \"\"\"\n",
    "    Process content and display results.\n",
    "    \"\"\"\n",
    "    print(f\"\\n{'='*60}\")\n",
    "    print(f\"Processing: {format_name}\")\n",
    "    print(f\"{'='*60}\")\n",
    "    \n",
    "    # Convert to pages\n",
    "    start_time = time.time()\n",
    "    pages = convert_method(content)\n",
    "    processing_time = time.time() - start_time\n",
    "    \n",
    "    print(f\"⏱️  Processing time: {processing_time:.3f} seconds\")\n",
    "    print(f\"📄 Number of pages: {len(pages)}\")\n",
    "    \n",
    "    # Display each page\n",
    "    for i, (image_bytes, text_content) in enumerate(pages):\n",
    "        print(f\"\\n--- Page {i+1} ---\")\n",
    "        \n",
    "        # Display image info and image\n",
    "        if len(image_bytes) > 0:\n",
    "            img = Image.open(io.BytesIO(image_bytes))\n",
    "            print(f\"📸 Image: {len(image_bytes):,} bytes, {img.size[0]}x{img.size[1]} pixels\")\n",
    "            \n",
    "            # Resize for display if needed\n",
    "            display_img = img\n",
    "            if img.size[0] > 800:\n",
    "                ratio = 800 / img.size[0]\n",
    "                new_size = (int(img.size[0] * ratio), int(img.size[1] * ratio))\n",
    "                display_img = img.resize(new_size)\n",
    "            \n",
    "            display(display_img)\n",
    "        else:\n",
    "            print(\"⚠️ No image generated\")\n",
    "        \n",
    "        # Display text preview\n",
    "        print(f\"\\n📝 Extracted Text ({len(text_content)} characters):\")\n",
    "        print(f\"{text_content[:400]}{'...' if len(text_content) > 400 else ''}\")\n",
    "    \n",
    "    return pages"
   ]
  },
  {
   "cell_type": "markdown",
   "metadata": {},
   "source": [
    "## 1. Plain Text Document"
   ]
  },
  {
   "cell_type": "code",
   "execution_count": null,
   "metadata": {},
   "outputs": [],
   "source": [
    "# Create sample invoice text\n",
    "invoice_text = \"\"\"INVOICE\n",
    "\n",
    "Invoice Number: INV-2024-001\n",
    "Date: January 15, 2024\n",
    "Due Date: February 15, 2024\n",
    "\n",
    "Bill To:\n",
    "ACME Corporation\n",
    "123 Business Street\n",
    "Suite 100\n",
    "Business City, BC 12345\n",
    "Phone: (555) 123-4567\n",
    "\n",
    "From:\n",
    "Professional Services LLC\n",
    "456 Service Avenue\n",
    "Service Town, ST 67890\n",
    "\n",
    "DESCRIPTION                    QTY    RATE      AMOUNT\n",
    "-----------------------------------------------\n",
    "Consulting Services - Jan      40    $150.00   $6,000.00\n",
    "Project Management            20    $125.00   $2,500.00\n",
    "Technical Documentation       10    $100.00   $1,000.00\n",
    "Travel Expenses                1    $350.00     $350.00\n",
    "-----------------------------------------------\n",
    "                            SUBTOTAL:   $9,850.00\n",
    "                                 TAX:     $985.00\n",
    "                               TOTAL:  $10,835.00\n",
    "\n",
    "Payment Terms: Net 30 days\n",
    "Thank you for your business!\"\"\"\n",
    "\n",
    "# Process text document\n",
    "text_pages = process_and_display(\n",
    "    invoice_text, \n",
    "    \"Plain Text Invoice\", \n",
    "    converter.convert_text_to_pages\n",
    ")"
   ]
  },
  {
   "cell_type": "markdown",
   "metadata": {},
   "source": [
    "## 2. CSV Document"
   ]
  },
  {
   "cell_type": "code",
   "execution_count": null,
   "metadata": {},
   "outputs": [],
   "source": [
    "# Create sample employee CSV\n",
    "csv_content = \"\"\"Employee ID,Name,Department,Position,Salary,Start Date\n",
    "E001,John Smith,Engineering,Senior Developer,95000,2020-03-15\n",
    "E002,Sarah Johnson,Marketing,Marketing Manager,78000,2019-07-22\n",
    "E003,Michael Brown,Sales,Sales Representative,65000,2021-01-10\n",
    "E004,Emily Davis,HR,HR Specialist,58000,2020-11-30\n",
    "E005,David Wilson,Engineering,Frontend Developer,82000,2022-02-14\n",
    "E006,Lisa Anderson,Finance,Financial Analyst,70000,2019-09-05\n",
    "E007,Robert Taylor,Operations,Operations Manager,85000,2018-12-01\n",
    "E008,Jennifer Martinez,Marketing,Content Creator,55000,2021-06-18\n",
    "E009,Christopher Lee,Sales,Sales Manager,90000,2017-05-20\n",
    "E010,Amanda White,Engineering,DevOps Engineer,88000,2020-08-12\"\"\"\n",
    "\n",
    "# Process CSV document\n",
    "csv_pages = process_and_display(\n",
    "    csv_content, \n",
    "    \"Employee Data CSV\", \n",
    "    converter.convert_csv_to_pages\n",
    ")"
   ]
  },
  {
   "cell_type": "markdown",
   "metadata": {},
   "source": [
    "## 3. Excel Document"
   ]
  },
  {
   "cell_type": "code",
   "execution_count": null,
   "metadata": {},
   "outputs": [],
   "source": [
    "# Create sample Excel file\n",
    "def create_excel_file():\n",
    "    # Sales data\n",
    "    sales_data = {\n",
    "        'Product': ['Laptop', 'Mouse', 'Keyboard', 'Monitor', 'Headphones'],\n",
    "        'Category': ['Computer', 'Accessory', 'Accessory', 'Computer', 'Accessory'],\n",
    "        'Price': [999.99, 29.99, 79.99, 299.99, 149.99],\n",
    "        'Units Sold': [45, 120, 85, 30, 67],\n",
    "        'Revenue': [44999.55, 3598.80, 6799.15, 8999.70, 10049.33]\n",
    "    }\n",
    "    \n",
    "    # Quarterly expenses\n",
    "    expense_data = {\n",
    "        'Category': ['Office Supplies', 'Travel', 'Marketing', 'Utilities'],\n",
    "        'Q1 2024': [1200, 3500, 5000, 800],\n",
    "        'Q2 2024': [1350, 2800, 6200, 850],\n",
    "        'Q3 2024': [1100, 4100, 4800, 900],\n",
    "        'Q4 2024': [1450, 3200, 7500, 950]\n",
    "    }\n",
    "    \n",
    "    with tempfile.NamedTemporaryFile(suffix='.xlsx', delete=False) as tmp:\n",
    "        with pd.ExcelWriter(tmp.name, engine='openpyxl') as writer:\n",
    "            pd.DataFrame(sales_data).to_excel(writer, sheet_name='Sales', index=False)\n",
    "            pd.DataFrame(expense_data).to_excel(writer, sheet_name='Expenses', index=False)\n",
    "        \n",
    "        with open(tmp.name, 'rb') as f:\n",
    "            excel_bytes = f.read()\n",
    "        \n",
    "        os.unlink(tmp.name)\n",
    "        return excel_bytes\n",
    "\n",
    "# Process Excel document\n",
    "excel_bytes = create_excel_file()\n",
    "excel_pages = process_and_display(\n",
    "    excel_bytes, \n",
    "    \"Financial Report Excel\", \n",
    "    converter.convert_excel_to_pages\n",
    ")"
   ]
  },
  {
   "cell_type": "markdown",
   "metadata": {},
   "source": [
    "## 4. Word Document"
   ]
  },
  {
   "cell_type": "code",
   "execution_count": null,
   "metadata": {},
   "outputs": [],
   "source": [
    "# Create sample Word document\n",
    "def create_word_file():\n",
    "    doc = WordDocument()\n",
    "    \n",
    "    # Add title and content\n",
    "    doc.add_heading('Quarterly Business Report', 0)\n",
    "    doc.add_heading('Q4 2024 Executive Summary', level=1)\n",
    "    \n",
    "    doc.add_paragraph(\n",
    "        'This document provides a comprehensive overview of our business '\n",
    "        'performance during Q4 2024. We achieved significant growth across '\n",
    "        'all business segments with strong performance in technology and services.'\n",
    "    )\n",
    "    \n",
    "    doc.add_heading('Key Metrics', level=2)\n",
    "    \n",
    "    # Add table\n",
    "    table = doc.add_table(rows=1, cols=3)\n",
    "    table.style = 'Table Grid'\n",
    "    \n",
    "    # Header row\n",
    "    hdr_cells = table.rows[0].cells\n",
    "    hdr_cells[0].text = 'Metric'\n",
    "    hdr_cells[1].text = 'Q4 2024'\n",
    "    hdr_cells[2].text = 'Change'\n",
    "    \n",
    "    # Data rows\n",
    "    metrics = [\n",
    "        ('Revenue', '$2.4M', '+12%'),\n",
    "        ('Net Profit', '$480K', '+18%'),\n",
    "        ('Customers', '1,250', '+8%')\n",
    "    ]\n",
    "    \n",
    "    for metric, value, change in metrics:\n",
    "        row = table.add_row().cells\n",
    "        row[0].text = metric\n",
    "        row[1].text = value\n",
    "        row[2].text = change\n",
    "    \n",
    "    doc.add_paragraph(\n",
    "        'We expect continued growth in 2025 driven by strategic investments '\n",
    "        'and market expansion initiatives.'\n",
    "    )\n",
    "    \n",
    "    with tempfile.NamedTemporaryFile(suffix='.docx', delete=False) as tmp:\n",
    "        doc.save(tmp.name)\n",
    "        \n",
    "        with open(tmp.name, 'rb') as f:\n",
    "            word_bytes = f.read()\n",
    "        \n",
    "        os.unlink(tmp.name)\n",
    "        return word_bytes\n",
    "\n",
    "# Process Word document\n",
    "word_bytes = create_word_file()\n",
    "word_pages = process_and_display(\n",
    "    word_bytes, \n",
    "    \"Business Report Word Doc\", \n",
    "    converter.convert_word_to_pages\n",
    ")"
   ]
  },
  {
   "cell_type": "markdown",
   "metadata": {},
   "source": [
    "## Summary"
   ]
  },
  {
   "cell_type": "code",
   "execution_count": null,
   "metadata": {},
   "outputs": [],
   "source": [
    "# Show processing summary\n",
    "print(\"📊 Processing Summary\")\n",
    "print(\"=\" * 50)\n",
    "\n",
    "formats = {\n",
    "    'Text': text_pages,\n",
    "    'CSV': csv_pages, \n",
    "    'Excel': excel_pages,\n",
    "    'Word': word_pages\n",
    "}\n",
    "\n",
    "for format_name, pages in formats.items():\n",
    "    print(f\"\\n{format_name} Document:\")\n",
    "    print(f\"  📄 Pages generated: {len(pages)}\")\n",
    "    \n",
    "    if pages:\n",
    "        image_bytes, text_content = pages[0]\n",
    "        print(f\"  📸 Image size: {len(image_bytes):,} bytes\")\n",
    "        print(f\"  📝 Text length: {len(text_content):,} characters\")\n",
    "\n",
    "print(\"\\n✅ All formats processed successfully!\")\n",
    "print(\"\\n🔧 Key Benefits:\")\n",
    "print(\"   • Unified DocumentConverter for all document types\")\n",
    "print(\"   • Consistent output: (image_bytes, text) tuples\")\n",
    "print(\"   • Automatic text formatting and image generation\")\n",
    "print(\"   • Ready for OCR service integration\")"
   ]
  },
  {
   "cell_type": "markdown",
   "metadata": {},
   "source": [
    "## Conclusion\n",
    "\n",
    "This notebook demonstrated the DocumentConverter's ability to process multiple document formats:\n",
    "\n",
    "### 🎯 **What We Showed:**\n",
    "- **Multi-format Support**: Text, CSV, Excel, and Word documents\n",
    "- **Consistent Output**: All formats produce (image_bytes, text) tuples\n",
    "- **Visual Results**: Generated page images with proper formatting\n",
    "- **Text Extraction**: Clean, structured text from all document types\n",
    "\n",
    "### 🏗️ **Integration Ready:**\n",
    "- **OCR Service**: The DocumentConverter integrates seamlessly with the OCR service\n",
    "- **Format Detection**: Automatic file type detection based on content and extensions\n",
    "- **Pipeline Ready**: Consistent output enables downstream classification and extraction\n",
    "- **Extensible**: Easy to add support for additional document formats\n",
    "\n",
    "The DocumentConverter makes the IDP accelerator truly format-agnostic, enabling organizations to process diverse document portfolios through a unified pipeline."
   ]
  }
 ],
 "metadata": {
  "kernelspec": {
   "display_name": "Python 3",
   "language": "python",
   "name": "python3"
  },
  "language_info": {
   "codemirror_mode": {
    "name": "ipython",
    "version": 3
   },
   "file_extension": ".py",
   "mimetype": "text/x-python",
   "name": "python",
   "nbconvert_exporter": "python",
   "pygments_lexer": "ipython3",
   "version": "3.8.5"
  }
 },
 "nbformat": 4,
 "nbformat_minor": 4
}
